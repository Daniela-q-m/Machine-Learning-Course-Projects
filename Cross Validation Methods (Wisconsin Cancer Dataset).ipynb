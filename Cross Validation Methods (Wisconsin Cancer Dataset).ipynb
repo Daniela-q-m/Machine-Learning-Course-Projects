{
 "cells": [
  {
   "cell_type": "markdown",
   "id": "90529987",
   "metadata": {},
   "source": [
    "The purpose of this notebook is to create and implement at least four different cross-validation methods. \n",
    "\n",
    "Then pick two cross-validation methods to compare the performance of SVM, Decision tree, AdaBoost, and Random Forest model on the breast cancer data."
   ]
  },
  {
   "cell_type": "code",
   "execution_count": 91,
   "id": "94a21d25",
   "metadata": {},
   "outputs": [],
   "source": [
    "import pandas as pd\n",
    "import numpy as np\n",
    "import matplotlib.pyplot as plt\n",
    "import seaborn as sns\n",
    "%matplotlib inline\n",
    "\n",
    "\n",
    "\n",
    "from sklearn.model_selection import train_test_split\n",
    "from sklearn.metrics import classification_report\n",
    "from sklearn.metrics import confusion_matrix\n",
    "\n",
    "from sklearn.tree import DecisionTreeClassifier\n",
    "from sklearn.ensemble import RandomForestClassifier\n",
    "from sklearn.ensemble import AdaBoostClassifier\n",
    "from sklearn.svm import SVC\n",
    "\n",
    "from sklearn.model_selection import GridSearchCV\n",
    "from sklearn.model_selection import cross_val_score\n",
    "from sklearn.model_selection import StratifiedKFold\n",
    "from sklearn.model_selection import KFold\n",
    "from sklearn.model_selection import ShuffleSplit\n",
    "from sklearn.model_selection import LeaveOneOut\n",
    "from sklearn.model_selection import LeavePOut\n",
    "from sklearn.model_selection import StratifiedShuffleSplit\n",
    "\n",
    "from sklearn import tree\n",
    "from sklearn.tree import plot_tree\n",
    "\n",
    "\n"
   ]
  },
  {
   "cell_type": "code",
   "execution_count": 3,
   "id": "ea952628",
   "metadata": {},
   "outputs": [
    {
     "data": {
      "text/html": [
       "<div>\n",
       "<style scoped>\n",
       "    .dataframe tbody tr th:only-of-type {\n",
       "        vertical-align: middle;\n",
       "    }\n",
       "\n",
       "    .dataframe tbody tr th {\n",
       "        vertical-align: top;\n",
       "    }\n",
       "\n",
       "    .dataframe thead th {\n",
       "        text-align: right;\n",
       "    }\n",
       "</style>\n",
       "<table border=\"1\" class=\"dataframe\">\n",
       "  <thead>\n",
       "    <tr style=\"text-align: right;\">\n",
       "      <th></th>\n",
       "      <th>ID</th>\n",
       "      <th>Diagnosis</th>\n",
       "      <th>Radius</th>\n",
       "      <th>Texture</th>\n",
       "      <th>Perimeter</th>\n",
       "      <th>Area</th>\n",
       "      <th>Smoothness</th>\n",
       "      <th>Compactness</th>\n",
       "      <th>Concavity</th>\n",
       "      <th>Concave Points</th>\n",
       "      <th>Symmetry</th>\n",
       "      <th>Fractal Dimension</th>\n",
       "    </tr>\n",
       "  </thead>\n",
       "  <tbody>\n",
       "    <tr>\n",
       "      <th>0</th>\n",
       "      <td>842517</td>\n",
       "      <td>M</td>\n",
       "      <td>20.57</td>\n",
       "      <td>17.77</td>\n",
       "      <td>132.90</td>\n",
       "      <td>1326.0</td>\n",
       "      <td>0.08474</td>\n",
       "      <td>0.07864</td>\n",
       "      <td>0.08690</td>\n",
       "      <td>0.07017</td>\n",
       "      <td>0.1812</td>\n",
       "      <td>0.05667</td>\n",
       "    </tr>\n",
       "    <tr>\n",
       "      <th>1</th>\n",
       "      <td>84300903</td>\n",
       "      <td>M</td>\n",
       "      <td>19.69</td>\n",
       "      <td>21.25</td>\n",
       "      <td>130.00</td>\n",
       "      <td>1203.0</td>\n",
       "      <td>0.10960</td>\n",
       "      <td>0.15990</td>\n",
       "      <td>0.19740</td>\n",
       "      <td>0.12790</td>\n",
       "      <td>0.2069</td>\n",
       "      <td>0.05999</td>\n",
       "    </tr>\n",
       "    <tr>\n",
       "      <th>2</th>\n",
       "      <td>84348301</td>\n",
       "      <td>M</td>\n",
       "      <td>11.42</td>\n",
       "      <td>20.38</td>\n",
       "      <td>77.58</td>\n",
       "      <td>386.1</td>\n",
       "      <td>0.14250</td>\n",
       "      <td>0.28390</td>\n",
       "      <td>0.24140</td>\n",
       "      <td>0.10520</td>\n",
       "      <td>0.2597</td>\n",
       "      <td>0.09744</td>\n",
       "    </tr>\n",
       "    <tr>\n",
       "      <th>3</th>\n",
       "      <td>84358402</td>\n",
       "      <td>M</td>\n",
       "      <td>20.29</td>\n",
       "      <td>14.34</td>\n",
       "      <td>135.10</td>\n",
       "      <td>1297.0</td>\n",
       "      <td>0.10030</td>\n",
       "      <td>0.13280</td>\n",
       "      <td>0.19800</td>\n",
       "      <td>0.10430</td>\n",
       "      <td>0.1809</td>\n",
       "      <td>0.05883</td>\n",
       "    </tr>\n",
       "    <tr>\n",
       "      <th>4</th>\n",
       "      <td>843786</td>\n",
       "      <td>M</td>\n",
       "      <td>12.45</td>\n",
       "      <td>15.70</td>\n",
       "      <td>82.57</td>\n",
       "      <td>477.1</td>\n",
       "      <td>0.12780</td>\n",
       "      <td>0.17000</td>\n",
       "      <td>0.15780</td>\n",
       "      <td>0.08089</td>\n",
       "      <td>0.2087</td>\n",
       "      <td>0.07613</td>\n",
       "    </tr>\n",
       "    <tr>\n",
       "      <th>...</th>\n",
       "      <td>...</td>\n",
       "      <td>...</td>\n",
       "      <td>...</td>\n",
       "      <td>...</td>\n",
       "      <td>...</td>\n",
       "      <td>...</td>\n",
       "      <td>...</td>\n",
       "      <td>...</td>\n",
       "      <td>...</td>\n",
       "      <td>...</td>\n",
       "      <td>...</td>\n",
       "      <td>...</td>\n",
       "    </tr>\n",
       "    <tr>\n",
       "      <th>563</th>\n",
       "      <td>926424</td>\n",
       "      <td>M</td>\n",
       "      <td>21.56</td>\n",
       "      <td>22.39</td>\n",
       "      <td>142.00</td>\n",
       "      <td>1479.0</td>\n",
       "      <td>0.11100</td>\n",
       "      <td>0.11590</td>\n",
       "      <td>0.24390</td>\n",
       "      <td>0.13890</td>\n",
       "      <td>0.1726</td>\n",
       "      <td>0.05623</td>\n",
       "    </tr>\n",
       "    <tr>\n",
       "      <th>564</th>\n",
       "      <td>926682</td>\n",
       "      <td>M</td>\n",
       "      <td>20.13</td>\n",
       "      <td>28.25</td>\n",
       "      <td>131.20</td>\n",
       "      <td>1261.0</td>\n",
       "      <td>0.09780</td>\n",
       "      <td>0.10340</td>\n",
       "      <td>0.14400</td>\n",
       "      <td>0.09791</td>\n",
       "      <td>0.1752</td>\n",
       "      <td>0.05533</td>\n",
       "    </tr>\n",
       "    <tr>\n",
       "      <th>565</th>\n",
       "      <td>926954</td>\n",
       "      <td>M</td>\n",
       "      <td>16.60</td>\n",
       "      <td>28.08</td>\n",
       "      <td>108.30</td>\n",
       "      <td>858.1</td>\n",
       "      <td>0.08455</td>\n",
       "      <td>0.10230</td>\n",
       "      <td>0.09251</td>\n",
       "      <td>0.05302</td>\n",
       "      <td>0.1590</td>\n",
       "      <td>0.05648</td>\n",
       "    </tr>\n",
       "    <tr>\n",
       "      <th>566</th>\n",
       "      <td>927241</td>\n",
       "      <td>M</td>\n",
       "      <td>20.60</td>\n",
       "      <td>29.33</td>\n",
       "      <td>140.10</td>\n",
       "      <td>1265.0</td>\n",
       "      <td>0.11780</td>\n",
       "      <td>0.27700</td>\n",
       "      <td>0.35140</td>\n",
       "      <td>0.15200</td>\n",
       "      <td>0.2397</td>\n",
       "      <td>0.07016</td>\n",
       "    </tr>\n",
       "    <tr>\n",
       "      <th>567</th>\n",
       "      <td>92751</td>\n",
       "      <td>B</td>\n",
       "      <td>7.76</td>\n",
       "      <td>24.54</td>\n",
       "      <td>47.92</td>\n",
       "      <td>181.0</td>\n",
       "      <td>0.05263</td>\n",
       "      <td>0.04362</td>\n",
       "      <td>0.00000</td>\n",
       "      <td>0.00000</td>\n",
       "      <td>0.1587</td>\n",
       "      <td>0.05884</td>\n",
       "    </tr>\n",
       "  </tbody>\n",
       "</table>\n",
       "<p>568 rows × 12 columns</p>\n",
       "</div>"
      ],
      "text/plain": [
       "           ID Diagnosis  Radius  Texture  Perimeter    Area  Smoothness  \\\n",
       "0      842517         M   20.57    17.77     132.90  1326.0     0.08474   \n",
       "1    84300903         M   19.69    21.25     130.00  1203.0     0.10960   \n",
       "2    84348301         M   11.42    20.38      77.58   386.1     0.14250   \n",
       "3    84358402         M   20.29    14.34     135.10  1297.0     0.10030   \n",
       "4      843786         M   12.45    15.70      82.57   477.1     0.12780   \n",
       "..        ...       ...     ...      ...        ...     ...         ...   \n",
       "563    926424         M   21.56    22.39     142.00  1479.0     0.11100   \n",
       "564    926682         M   20.13    28.25     131.20  1261.0     0.09780   \n",
       "565    926954         M   16.60    28.08     108.30   858.1     0.08455   \n",
       "566    927241         M   20.60    29.33     140.10  1265.0     0.11780   \n",
       "567     92751         B    7.76    24.54      47.92   181.0     0.05263   \n",
       "\n",
       "     Compactness  Concavity  Concave Points  Symmetry  Fractal Dimension  \n",
       "0        0.07864    0.08690         0.07017    0.1812            0.05667  \n",
       "1        0.15990    0.19740         0.12790    0.2069            0.05999  \n",
       "2        0.28390    0.24140         0.10520    0.2597            0.09744  \n",
       "3        0.13280    0.19800         0.10430    0.1809            0.05883  \n",
       "4        0.17000    0.15780         0.08089    0.2087            0.07613  \n",
       "..           ...        ...             ...       ...                ...  \n",
       "563      0.11590    0.24390         0.13890    0.1726            0.05623  \n",
       "564      0.10340    0.14400         0.09791    0.1752            0.05533  \n",
       "565      0.10230    0.09251         0.05302    0.1590            0.05648  \n",
       "566      0.27700    0.35140         0.15200    0.2397            0.07016  \n",
       "567      0.04362    0.00000         0.00000    0.1587            0.05884  \n",
       "\n",
       "[568 rows x 12 columns]"
      ]
     },
     "execution_count": 3,
     "metadata": {},
     "output_type": "execute_result"
    }
   ],
   "source": [
    "data= pd.read_csv('/Users/danielaquijano/Documents/GitHub/Machine-Learning-Course-Projects/sourcefiles/wdbc.data')\n",
    "#Trim data to only contain features a through j listed above \n",
    "\n",
    "data=data.iloc[:,0:12]\n",
    "data.columns = ['ID', 'Diagnosis', 'Radius','Texture', 'Perimeter', 'Area', 'Smoothness', 'Compactness', 'Concavity', 'Concave Points', 'Symmetry', 'Fractal Dimension']\n",
    "data"
   ]
  },
  {
   "cell_type": "code",
   "execution_count": 4,
   "id": "17d5c9ea",
   "metadata": {},
   "outputs": [],
   "source": [
    "#Train Test Split Data\n",
    "X = data.drop('Diagnosis',axis=1)\n",
    "y = data['Diagnosis']\n",
    "X_train, X_test, y_train, y_test = train_test_split(X, y, test_size=0.20)\n"
   ]
  },
  {
   "cell_type": "markdown",
   "id": "0ca2273e",
   "metadata": {},
   "source": [
    "## Comparing Support Vector Machine, Rnadom Forest, Decision Tree, and AdaBoost Classifiers with no hyperparameter Tuning"
   ]
  },
  {
   "cell_type": "code",
   "execution_count": 44,
   "id": "fce581e5",
   "metadata": {},
   "outputs": [],
   "source": [
    "#\"Decision_Tree\", \"Random_Forest\"\n",
    "models_list = [\"SVM\",\"Decision_Tree\",\"Random_Forest\",\"AdaBoost\"]"
   ]
  },
  {
   "cell_type": "code",
   "execution_count": 45,
   "id": "955917e8",
   "metadata": {},
   "outputs": [],
   "source": [
    "#DecisionTreeClassifier(max_depth=5),RandomForestClassifier()\n",
    "models_call = [SVC(),DecisionTreeClassifier(),RandomForestClassifier(),AdaBoostClassifier()]"
   ]
  },
  {
   "cell_type": "code",
   "execution_count": 46,
   "id": "62f37d43",
   "metadata": {},
   "outputs": [],
   "source": [
    "accuracy_scores = []\n",
    "for model_name, model in zip(models_list, models_call):\n",
    "    model.fit(X_train, y_train)\n",
    "    score = model.score(X_test, y_test)\n",
    "    accuracy_scores.append(score)"
   ]
  },
  {
   "cell_type": "code",
   "execution_count": 47,
   "id": "9e62e779",
   "metadata": {},
   "outputs": [
    {
     "data": {
      "text/plain": [
       "[0.6140350877192983,\n",
       " 0.9298245614035088,\n",
       " 0.9473684210526315,\n",
       " 0.9473684210526315]"
      ]
     },
     "execution_count": 47,
     "metadata": {},
     "output_type": "execute_result"
    }
   ],
   "source": [
    "accuracy_scores"
   ]
  },
  {
   "cell_type": "code",
   "execution_count": 51,
   "id": "1063e89c",
   "metadata": {},
   "outputs": [
    {
     "data": {
      "image/png": "[encoded data removed]",
      "text/plain": [
       "<Figure size 432x288 with 1 Axes>"
      ]
     },
     "metadata": {
      "needs_background": "light"
     },
     "output_type": "display_data"
    }
   ],
   "source": [
    "scores_df = pd.DataFrame()\n",
    "scores_df['name'] = models_list\n",
    "scores_df['score'] = accuracy_scores\n",
    "scores_df = scores_df.rename(columns={\"name\":\"Classifier\"})\n",
    "scores_df = scores_df.rename(columns={\"score\":\"Accuracy Score (No Tuning)\"})\n",
    "scores_barplot = sns.barplot(y=\"Classifier\", x=\"Accuracy Score (No Tuning)\", data=scores_df).set(xlabel=\"Accuracy Score\", ylabel = \"Classifier\",title='Accuracy Scores for different classifiers (no hyperparameter tuning)')\n"
   ]
  },
  {
   "cell_type": "markdown",
   "id": "f3d750be",
   "metadata": {},
   "source": [
    "## Tuning Hyperparameters for each model"
   ]
  },
  {
   "cell_type": "code",
   "execution_count": 17,
   "id": "95ceee77",
   "metadata": {},
   "outputs": [],
   "source": [
    "#Make empty list to add the scores of the models after grid search for best hyperparameters\n",
    "tuned_scores=[]"
   ]
  },
  {
   "cell_type": "markdown",
   "id": "671257f1",
   "metadata": {},
   "source": [
    "### Tuning Hyperparameters for Support Vector Machines Classifier"
   ]
  },
  {
   "cell_type": "code",
   "execution_count": 12,
   "id": "8748b431",
   "metadata": {},
   "outputs": [],
   "source": [
    "#According to documentation, 'Proper choice of C and gamma is critical to the SVM’s performance'\n",
    "#Tuning for C and gamma\n",
    "\n",
    "parameter_tuning_svm={'C': [ 0.1,1], 'gamma': [1,0.1,0.01]}"
   ]
  },
  {
   "cell_type": "code",
   "execution_count": 13,
   "id": "a9dbe53d",
   "metadata": {},
   "outputs": [
    {
     "data": {
      "text/plain": [
       "GridSearchCV(estimator=SVC(),\n",
       "             param_grid={'C': [0.1, 1], 'gamma': [1, 0.1, 0.01]})"
      ]
     },
     "execution_count": 13,
     "metadata": {},
     "output_type": "execute_result"
    }
   ],
   "source": [
    "svm = SVC()\n",
    "grid_SVM=GridSearchCV(svm,\n",
    "                     param_grid=parameter_tuning_svm\n",
    "                    )\n",
    "grid_SVM.fit(X_train,y_train)"
   ]
  },
  {
   "cell_type": "code",
   "execution_count": 14,
   "id": "a5493ef8",
   "metadata": {},
   "outputs": [
    {
     "data": {
      "text/plain": [
       "{'C': 0.1, 'gamma': 1}"
      ]
     },
     "execution_count": 14,
     "metadata": {},
     "output_type": "execute_result"
    }
   ],
   "source": [
    "grid_SVM.best_params_"
   ]
  },
  {
   "cell_type": "code",
   "execution_count": 18,
   "id": "e6340f82",
   "metadata": {},
   "outputs": [],
   "source": [
    "tuned_scores.append(grid_SVM.best_score_)"
   ]
  },
  {
   "cell_type": "markdown",
   "id": "8e39e9bf",
   "metadata": {},
   "source": [
    "### Tuning Hyperparameters for Decision Tree Classifier"
   ]
  },
  {
   "cell_type": "code",
   "execution_count": 9,
   "id": "583f39d6",
   "metadata": {},
   "outputs": [],
   "source": [
    "parameter_tuning_dt={\n",
    "    'criterion':['gini', 'entropy'],\n",
    "    'max_depth':range(1,6)\n",
    "}"
   ]
  },
  {
   "cell_type": "code",
   "execution_count": 10,
   "id": "7a376e20",
   "metadata": {},
   "outputs": [
    {
     "data": {
      "text/plain": [
       "GridSearchCV(estimator=DecisionTreeClassifier(),\n",
       "             param_grid={'criterion': ['gini', 'entropy'],\n",
       "                         'max_depth': range(1, 6)})"
      ]
     },
     "execution_count": 10,
     "metadata": {},
     "output_type": "execute_result"
    }
   ],
   "source": [
    "dec_tree=DecisionTreeClassifier()\n",
    "grid_DT=GridSearchCV(dec_tree,\n",
    "                     param_grid=parameter_tuning_dt\n",
    "                    )\n",
    "grid_DT.fit(X_train,y_train)"
   ]
  },
  {
   "cell_type": "code",
   "execution_count": 11,
   "id": "ab9efd44",
   "metadata": {},
   "outputs": [
    {
     "data": {
      "text/plain": [
       "{'criterion': 'entropy', 'max_depth': 5}"
      ]
     },
     "execution_count": 11,
     "metadata": {},
     "output_type": "execute_result"
    }
   ],
   "source": [
    "grid_DT.best_params_"
   ]
  },
  {
   "cell_type": "code",
   "execution_count": 20,
   "id": "555927b5",
   "metadata": {},
   "outputs": [],
   "source": [
    "tuned_scores.append(grid_DT.best_score_)"
   ]
  },
  {
   "cell_type": "markdown",
   "id": "ff7fbb5e",
   "metadata": {},
   "source": [
    "### Tuning Hyperparameters for Random Forest Classifier"
   ]
  },
  {
   "cell_type": "code",
   "execution_count": 24,
   "id": "fda583a6",
   "metadata": {},
   "outputs": [],
   "source": [
    "parameter_tuning_rf={\n",
    "    'criterion':['gini', 'entropy'],\n",
    "    'max_depth':range(1,6),\n",
    "    'n_estimators': np.arange(10,180,10)\n",
    "}"
   ]
  },
  {
   "cell_type": "code",
   "execution_count": 25,
   "id": "90001244",
   "metadata": {},
   "outputs": [
    {
     "data": {
      "text/plain": [
       "GridSearchCV(estimator=RandomForestClassifier(),\n",
       "             param_grid={'criterion': ['gini', 'entropy'],\n",
       "                         'max_depth': range(1, 6),\n",
       "                         'n_estimators': array([ 10,  20,  30,  40,  50,  60,  70,  80,  90, 100, 110, 120, 130,\n",
       "       140, 150, 160, 170])})"
      ]
     },
     "execution_count": 25,
     "metadata": {},
     "output_type": "execute_result"
    }
   ],
   "source": [
    "rf = RandomForestClassifier()\n",
    "grid_RF=GridSearchCV(rf,\n",
    "                     param_grid=parameter_tuning_rf\n",
    "                    )\n",
    "grid_RF.fit(X_train,y_train)"
   ]
  },
  {
   "cell_type": "code",
   "execution_count": 26,
   "id": "2d6407c0",
   "metadata": {},
   "outputs": [
    {
     "data": {
      "text/plain": [
       "{'criterion': 'entropy', 'max_depth': 5, 'n_estimators': 70}"
      ]
     },
     "execution_count": 26,
     "metadata": {},
     "output_type": "execute_result"
    }
   ],
   "source": [
    "grid_RF.best_params_"
   ]
  },
  {
   "cell_type": "code",
   "execution_count": 27,
   "id": "508aa06b",
   "metadata": {},
   "outputs": [],
   "source": [
    "tuned_scores.append(grid_RF.best_score_)"
   ]
  },
  {
   "cell_type": "markdown",
   "id": "3afdc5e0",
   "metadata": {},
   "source": [
    "### Tuning Hyperparameters for AdaBoost Classifier"
   ]
  },
  {
   "cell_type": "code",
   "execution_count": 33,
   "id": "b64fb788",
   "metadata": {},
   "outputs": [],
   "source": [
    "#Default estimator is decision tree classifier.\n",
    "#Changing values for n_estimators and learning rate since there is a tradeoff between the two\n",
    "parameter_tuning_Ada={\n",
    "    'n_estimators': np.arange(20,80,10),\n",
    "    'learning_rate':np.arange(0.1,2.1,0.2),\n",
    "}"
   ]
  },
  {
   "cell_type": "code",
   "execution_count": 34,
   "id": "d5a3206c",
   "metadata": {},
   "outputs": [
    {
     "data": {
      "text/plain": [
       "GridSearchCV(estimator=AdaBoostClassifier(),\n",
       "             param_grid={'learning_rate': array([0.1, 0.3, 0.5, 0.7, 0.9, 1.1, 1.3, 1.5, 1.7, 1.9]),\n",
       "                         'n_estimators': array([20, 30, 40, 50, 60, 70])})"
      ]
     },
     "execution_count": 34,
     "metadata": {},
     "output_type": "execute_result"
    }
   ],
   "source": [
    "Ada=AdaBoostClassifier()\n",
    "grid_Ada=GridSearchCV(Ada,\n",
    "                     param_grid=parameter_tuning_Ada\n",
    "                    )\n",
    "grid_Ada.fit(X_train,y_train)"
   ]
  },
  {
   "cell_type": "code",
   "execution_count": 32,
   "id": "a7500f54",
   "metadata": {},
   "outputs": [
    {
     "data": {
      "text/plain": [
       "{'learning_rate': 0.5, 'n_estimators': 50}"
      ]
     },
     "execution_count": 32,
     "metadata": {},
     "output_type": "execute_result"
    }
   ],
   "source": [
    "grid_Ada.best_params_"
   ]
  },
  {
   "cell_type": "code",
   "execution_count": 35,
   "id": "68103c69",
   "metadata": {},
   "outputs": [],
   "source": [
    "tuned_scores.append(grid_Ada.best_score_)"
   ]
  },
  {
   "cell_type": "markdown",
   "id": "69772642",
   "metadata": {},
   "source": [
    "### Summary of performance of tuned models"
   ]
  },
  {
   "cell_type": "code",
   "execution_count": 55,
   "id": "4d9ac486",
   "metadata": {},
   "outputs": [
    {
     "data": {
      "image/png": "[encoded data removed]",
      "text/plain": [
       "<Figure size 432x288 with 1 Axes>"
      ]
     },
     "metadata": {
      "needs_background": "light"
     },
     "output_type": "display_data"
    }
   ],
   "source": [
    "scores_tuned_df = pd.DataFrame()\n",
    "scores_tuned_df['name'] = models_list\n",
    "scores_tuned_df['score'] = tuned_scores\n",
    "scores_tuned_df = scores_tuned_df.rename(columns={\"name\":\"Classifier\"})\n",
    "scores_tuned_df = scores_tuned_df.rename(columns={\"score\":\"Accuracy Score (Hyperparameter Tuning)\"})\n",
    "scores_barplot = sns.barplot(y=\"Classifier\", x=\"Accuracy Score (Hyperparameter Tuning)\", data=scores_tuned_df).set(xlabel=\"Accuracy Score\", ylabel = \"Classifier\",title='Accuracy Scores for different tuned classifiers ')\n"
   ]
  },
  {
   "cell_type": "code",
   "execution_count": 58,
   "id": "da5c2844",
   "metadata": {},
   "outputs": [
    {
     "data": {
      "text/html": [
       "<div>\n",
       "<style scoped>\n",
       "    .dataframe tbody tr th:only-of-type {\n",
       "        vertical-align: middle;\n",
       "    }\n",
       "\n",
       "    .dataframe tbody tr th {\n",
       "        vertical-align: top;\n",
       "    }\n",
       "\n",
       "    .dataframe thead th {\n",
       "        text-align: right;\n",
       "    }\n",
       "</style>\n",
       "<table border=\"1\" class=\"dataframe\">\n",
       "  <thead>\n",
       "    <tr style=\"text-align: right;\">\n",
       "      <th></th>\n",
       "      <th>Classifier</th>\n",
       "      <th>Accuracy Score (No Tuning)</th>\n",
       "      <th>Accuracy Score (Hyperparameter Tuning)</th>\n",
       "    </tr>\n",
       "  </thead>\n",
       "  <tbody>\n",
       "    <tr>\n",
       "      <th>0</th>\n",
       "      <td>SVM</td>\n",
       "      <td>0.614035</td>\n",
       "      <td>0.632161</td>\n",
       "    </tr>\n",
       "    <tr>\n",
       "      <th>1</th>\n",
       "      <td>Decision_Tree</td>\n",
       "      <td>0.929825</td>\n",
       "      <td>0.931648</td>\n",
       "    </tr>\n",
       "    <tr>\n",
       "      <th>2</th>\n",
       "      <td>Random_Forest</td>\n",
       "      <td>0.947368</td>\n",
       "      <td>0.944908</td>\n",
       "    </tr>\n",
       "    <tr>\n",
       "      <th>3</th>\n",
       "      <td>AdaBoost</td>\n",
       "      <td>0.947368</td>\n",
       "      <td>0.953773</td>\n",
       "    </tr>\n",
       "  </tbody>\n",
       "</table>\n",
       "</div>"
      ],
      "text/plain": [
       "      Classifier  Accuracy Score (No Tuning)  \\\n",
       "0            SVM                    0.614035   \n",
       "1  Decision_Tree                    0.929825   \n",
       "2  Random_Forest                    0.947368   \n",
       "3       AdaBoost                    0.947368   \n",
       "\n",
       "   Accuracy Score (Hyperparameter Tuning)  \n",
       "0                                0.632161  \n",
       "1                                0.931648  \n",
       "2                                0.944908  \n",
       "3                                0.953773  "
      ]
     },
     "execution_count": 58,
     "metadata": {},
     "output_type": "execute_result"
    }
   ],
   "source": [
    "scores_df['Accuracy Score (Hyperparameter Tuning)']=tuned_scores\n",
    "scores_df"
   ]
  },
  {
   "cell_type": "markdown",
   "id": "d502a3ac",
   "metadata": {},
   "source": [
    "## Cross Validation"
   ]
  },
  {
   "cell_type": "markdown",
   "id": "cbc79559",
   "metadata": {},
   "source": [
    "Here I will report the cross validation score with different methods of cross validation for each of the models. Note: The default number of splits is 10."
   ]
  },
  {
   "cell_type": "code",
   "execution_count": null,
   "id": "9d3fe884",
   "metadata": {},
   "outputs": [],
   "source": [
    "#The lists below will be used to store average cross validation scores for each classifier and will beused to build a report\n",
    "#k-fold cross validation empty list\n",
    "\n",
    "#Shuffle split cross validation empty list\n",
    "\n",
    "#Stratified shuffle split validation empty list"
   ]
  },
  {
   "cell_type": "markdown",
   "id": "b02518f4",
   "metadata": {},
   "source": [
    "## Cross Validation for Suport Vector Machines Classifier"
   ]
  },
  {
   "cell_type": "code",
   "execution_count": null,
   "id": "1e5cb7d7",
   "metadata": {},
   "outputs": [],
   "source": [
    "#Tuned Model\n",
    "SVM_tuned =SVC(C=0.1, gamma=1)"
   ]
  },
  {
   "cell_type": "code",
   "execution_count": 93,
   "id": "0f80c001",
   "metadata": {},
   "outputs": [
    {
     "data": {
      "text/plain": [
       "array([0.4122807 , 0.57017544, 0.64912281, 0.74336283, 0.7699115 ])"
      ]
     },
     "execution_count": 93,
     "metadata": {},
     "output_type": "execute_result"
    }
   ],
   "source": [
    "#K-fold cross validation\n",
    "#Shuffle parameter set to true to False,to not shuffle data before it is split into batches\n",
    "\n",
    "cv_kfold = KFold( shuffle=False)\n",
    "cross_val_score(SVM_tuned, X, y, cv=cv_kfold)"
   ]
  },
  {
   "cell_type": "code",
   "execution_count": 94,
   "id": "f93d16be",
   "metadata": {},
   "outputs": [
    {
     "data": {
      "text/plain": [
       "array([0.65497076, 0.63157895, 0.59649123, 0.64327485, 0.59649123,\n",
       "       0.66081871, 0.66666667, 0.64912281, 0.70760234, 0.61988304])"
      ]
     },
     "execution_count": 94,
     "metadata": {},
     "output_type": "execute_result"
    }
   ],
   "source": [
    "#Shuffle Split cross validation\n",
    "cv_shuffle = ShuffleSplit( test_size=0.3, random_state=0)\n",
    "cross_val_score(SVM_tuned, X, y, cv=cv_shuffle)"
   ]
  },
  {
   "cell_type": "code",
   "execution_count": 95,
   "id": "10fbcf2f",
   "metadata": {},
   "outputs": [
    {
     "data": {
      "text/plain": [
       "array([0.62573099, 0.62573099, 0.62573099, 0.62573099, 0.62573099,\n",
       "       0.62573099, 0.62573099, 0.62573099, 0.62573099, 0.62573099])"
      ]
     },
     "execution_count": 95,
     "metadata": {},
     "output_type": "execute_result"
    }
   ],
   "source": [
    "#Stratified  shuffle split\n",
    "cv_strat_shuffle = StratifiedShuffleSplit(test_size=0.3)\n",
    "cross_val_score(SVM_tuned, X, y, cv=cv_strat_shuffle)"
   ]
  },
  {
   "cell_type": "markdown",
   "id": "16dce7c8",
   "metadata": {},
   "source": [
    "## Cross Validation for Decision Tree Classifier"
   ]
  },
  {
   "cell_type": "code",
   "execution_count": 75,
   "id": "c17d8fe1",
   "metadata": {},
   "outputs": [],
   "source": [
    "#Tuned Model\n",
    "dec_tree_tuned=DecisionTreeClassifier(criterion= 'entropy', max_depth= 5)"
   ]
  },
  {
   "cell_type": "code",
   "execution_count": 76,
   "id": "caf245e4",
   "metadata": {},
   "outputs": [
    {
     "data": {
      "text/plain": [
       "array([0.93684211, 0.92063492, 0.91534392])"
      ]
     },
     "execution_count": 76,
     "metadata": {},
     "output_type": "execute_result"
    }
   ],
   "source": [
    "#K-fold cross validation\n",
    "cross_val_score(dec_tree_tuned, X, y, cv=cv_kfold)"
   ]
  },
  {
   "cell_type": "code",
   "execution_count": 77,
   "id": "12b1343e",
   "metadata": {},
   "outputs": [
    {
     "data": {
      "text/plain": [
       "array([0.94152047, 0.94736842, 0.93567251])"
      ]
     },
     "execution_count": 77,
     "metadata": {},
     "output_type": "execute_result"
    }
   ],
   "source": [
    "#Shuffle Split cross validation\n",
    "cross_val_score(dec_tree_tuned, X, y, cv=cv_shuffle)"
   ]
  },
  {
   "cell_type": "code",
   "execution_count": 96,
   "id": "34e3b383",
   "metadata": {},
   "outputs": [
    {
     "data": {
      "text/plain": [
       "array([0.93567251, 0.90643275, 0.92982456, 0.91812865, 0.92397661,\n",
       "       0.93567251, 0.92397661, 0.9122807 , 0.88888889, 0.93567251])"
      ]
     },
     "execution_count": 96,
     "metadata": {},
     "output_type": "execute_result"
    }
   ],
   "source": [
    "#Stratified  shuffle split\n",
    "cross_val_score(dec_tree_tuned, X, y, cv=cv_strat_shuffle)"
   ]
  },
  {
   "cell_type": "markdown",
   "id": "7415e37f",
   "metadata": {},
   "source": [
    "## Cross Validation for Random Forest Classifier"
   ]
  },
  {
   "cell_type": "code",
   "execution_count": 78,
   "id": "50430e90",
   "metadata": {},
   "outputs": [],
   "source": [
    "#Tuned Model\n",
    "rf_tuned = RandomForestClassifier(criterion= 'entropy', max_depth= 5, n_estimators=70)"
   ]
  },
  {
   "cell_type": "code",
   "execution_count": 109,
   "id": "2f58fae1",
   "metadata": {},
   "outputs": [
    {
     "data": {
      "text/plain": [
       "0.9525694767893185"
      ]
     },
     "execution_count": 109,
     "metadata": {},
     "output_type": "execute_result"
    }
   ],
   "source": [
    "#K-fold cross validation\n",
    "scores_kfold_rf=cross_val_score(rf_tuned, X, y, cv=cv_kfold)\n",
    "scores_kfold_rf.mean()"
   ]
  },
  {
   "cell_type": "code",
   "execution_count": 110,
   "id": "6ea33665",
   "metadata": {},
   "outputs": [
    {
     "data": {
      "text/plain": [
       "0.9421052631578947"
      ]
     },
     "execution_count": 110,
     "metadata": {},
     "output_type": "execute_result"
    }
   ],
   "source": [
    "#Shuffle Split cross validation\n",
    "scores_shuffle_rf=cross_val_score(rf_tuned, X, y, cv=cv_shuffle)\n",
    "scores_shuffle_rf.mean()"
   ]
  },
  {
   "cell_type": "code",
   "execution_count": 111,
   "id": "e9d7f433",
   "metadata": {},
   "outputs": [
    {
     "data": {
      "text/plain": [
       "array([0.94152047, 0.9122807 , 0.94736842, 0.92982456, 0.94736842,\n",
       "       0.93567251, 0.92982456, 0.93567251, 0.9005848 , 0.94736842])"
      ]
     },
     "execution_count": 111,
     "metadata": {},
     "output_type": "execute_result"
    }
   ],
   "source": [
    "#Stratified  shuffle split\n",
    "scores_strat_shuffle_rf=cross_val_score(rf_tuned, X, y, cv=cv_strat_shuffle)\n",
    "scores_strat_shuffle_rf"
   ]
  },
  {
   "cell_type": "markdown",
   "id": "8fb2cac0",
   "metadata": {},
   "source": [
    "## Cross Validation for Adaboost Classifier"
   ]
  },
  {
   "cell_type": "code",
   "execution_count": 82,
   "id": "50bec753",
   "metadata": {},
   "outputs": [],
   "source": [
    "#Tuned Model\n",
    "Ada_tuned=AdaBoostClassifier(learning_rate=0.5, n_estimators= 50)"
   ]
  },
  {
   "cell_type": "code",
   "execution_count": 105,
   "id": "9b8f9e7a",
   "metadata": {},
   "outputs": [
    {
     "data": {
      "text/plain": [
       "0.9489675516224189"
      ]
     },
     "execution_count": 105,
     "metadata": {},
     "output_type": "execute_result"
    }
   ],
   "source": [
    "#K-fold cross validation\n",
    "scores_kfold_Ada=cross_val_score(Ada_tuned, X, y, cv=cv_kfold)\n",
    "#print(scores_kfold_Ada + 'Mean is'+str(scores_kfold_Ada.mean()))\n",
    "scores_kfold_Ada.mean()"
   ]
  },
  {
   "cell_type": "code",
   "execution_count": 107,
   "id": "566fd4cb",
   "metadata": {},
   "outputs": [
    {
     "data": {
      "text/plain": [
       "0.9479532163742691"
      ]
     },
     "execution_count": 107,
     "metadata": {},
     "output_type": "execute_result"
    }
   ],
   "source": [
    "#Shuffle Split Cross Validation\n",
    "scores_shuffle_Ada=cross_val_score(Ada_tuned, X, y, cv=cv_shuffle)\n",
    "scores_shuffle_Ada.mean()"
   ]
  },
  {
   "cell_type": "code",
   "execution_count": 108,
   "id": "3ee629e0",
   "metadata": {},
   "outputs": [
    {
     "data": {
      "text/plain": [
       "0.9473684210526315"
      ]
     },
     "execution_count": 108,
     "metadata": {},
     "output_type": "execute_result"
    }
   ],
   "source": [
    "#Stratified  shuffle split\n",
    "scores_strat_shuffle_Ada=cross_val_score(Ada_tuned, X, y, cv=cv_strat_shuffle)\n",
    "scores_strat_shuffle_Ada.mean()"
   ]
  },
  {
   "cell_type": "markdown",
   "id": "9f602ac0",
   "metadata": {},
   "source": [
    "### Summarizing cross validation results\n"
   ]
  },
  {
   "cell_type": "code",
   "execution_count": 106,
   "id": "55b89893",
   "metadata": {},
   "outputs": [],
   "source": [
    "results=pd.DataFrame()\n",
    "results['Models'] = models_list\n",
    "results['Mean score K-Fold'] = \n",
    "results['Mean score Shuffle Split']=\n",
    "results['Mean score Stratified Shuffle Split']="
   ]
  },
  {
   "cell_type": "markdown",
   "id": "054979e3",
   "metadata": {},
   "source": [
    "## Implementing Cross Validation Methods"
   ]
  },
  {
   "cell_type": "markdown",
   "id": "5268fc58",
   "metadata": {},
   "source": [
    "### Methods for implementing cross validation:\n",
    "- cross_validate: returns a dict containing fit-times, score-times (and optionally training scores as well as fitted estimators) in addition to the test score\n",
    "- cross_val_score\n",
    "- cross_val_predict: returns, for each element in the input, the prediction that was obtained for that element when it was in the test set \n",
    "- KFold divides all the samples in  groups of samples, called folds\n",
    "- RepeatedKFold: repeats K-Fold n times\n",
    "- LeaveOneOut (or LOO): is a simple cross-validation. Each learning set is created by taking all the samples except one, the test set being the sample left out \n",
    "- LeavePOut: similar to LeaveOneOut as it creates all the possible training/test sets by removing  samples from the complete set\n",
    "- ShuffleSplit: iterator, will generate a user defined number of independent train / test dataset splits. Samples are first shuffled and then split into a pair of train and test sets.\n",
    "- StratifiedKFold: variation of k-fold which returns stratified folds: each set contains approximately the same percentage of samples of each target class as the complete set.\n",
    "- StratifiedShuffleSplit is a variation of ShuffleSplit, which returns stratified splits\n",
    "- GroupKFold is a variation of k-fold which ensures that the same group is not represented in both testing and training sets. \n",
    "- StratifiedGroupKFold: cross-validation scheme that combines both StratifiedKFold and GroupKFold. The idea is to try to preserve the distribution of classes in each split while keeping each group within a single split.\n",
    "- LeaveOneGroupOut: cross-validation scheme which holds out the samples according to a third-party provided array of integer groups.\n",
    "- LeavePGroupsOut: is similar as LeaveOneGroupOut, but removes samples related to  groups for each training/test set.\n",
    "- GroupShuffleSplit\n",
    "- TimeSeriesSplit: is a variation of k-fold which returns first  folds as train set and the  th fold as test set. "
   ]
  }
 ],
 "metadata": {
  "kernelspec": {
   "display_name": "Python 3 (ipykernel)",
   "language": "python",
   "name": "python3"
  },
  "language_info": {
   "codemirror_mode": {
    "name": "ipython",
    "version": 3
   },
   "file_extension": ".py",
   "mimetype": "text/x-python",
   "name": "python",
   "nbconvert_exporter": "python",
   "pygments_lexer": "ipython3",
   "version": "3.8.8"
  }
 },
 "nbformat": 4,
 "nbformat_minor": 5
}

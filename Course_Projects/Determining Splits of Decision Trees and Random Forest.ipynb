{
 "cells": [
  {
   "cell_type": "markdown",
   "id": "8ed3f384",
   "metadata": {},
   "source": [
    "The purpose of this notebook is to practice calcualtions related to the process of splitting decision trees. "
   ]
  },
  {
   "cell_type": "code",
   "execution_count": 30,
   "id": "04380eda",
   "metadata": {},
   "outputs": [],
   "source": [
    "import pandas as pd\n",
    "from scipy.stats import entropy\n",
    "\n",
    "import matplotlib.pyplot as plt\n",
    "\n",
    "from sklearn.model_selection import train_test_split\n",
    "from sklearn.metrics import classification_report\n",
    "\n",
    "from sklearn.tree import DecisionTreeClassifier\n",
    "\n",
    "from sklearn import tree\n",
    "from sklearn.tree import plot_tree"
   ]
  },
  {
   "cell_type": "code",
   "execution_count": 6,
   "id": "577f9887",
   "metadata": {},
   "outputs": [],
   "source": [
    "tree_data= pd.read_excel('/Users/danielaquijano/Documents/GitHub/Machine-Learning-Course-Projects/sourcefiles/Tree_split_data.xlsx')"
   ]
  },
  {
   "cell_type": "code",
   "execution_count": 7,
   "id": "8b205ed6",
   "metadata": {},
   "outputs": [
    {
     "data": {
      "text/html": [
       "<div>\n",
       "<style scoped>\n",
       "    .dataframe tbody tr th:only-of-type {\n",
       "        vertical-align: middle;\n",
       "    }\n",
       "\n",
       "    .dataframe tbody tr th {\n",
       "        vertical-align: top;\n",
       "    }\n",
       "\n",
       "    .dataframe thead th {\n",
       "        text-align: right;\n",
       "    }\n",
       "</style>\n",
       "<table border=\"1\" class=\"dataframe\">\n",
       "  <thead>\n",
       "    <tr style=\"text-align: right;\">\n",
       "      <th></th>\n",
       "      <th>Poisonous</th>\n",
       "      <th>Size</th>\n",
       "      <th>Spots</th>\n",
       "      <th>Color</th>\n",
       "    </tr>\n",
       "  </thead>\n",
       "  <tbody>\n",
       "    <tr>\n",
       "      <th>0</th>\n",
       "      <td>n</td>\n",
       "      <td>1</td>\n",
       "      <td>n</td>\n",
       "      <td>0</td>\n",
       "    </tr>\n",
       "    <tr>\n",
       "      <th>1</th>\n",
       "      <td>n</td>\n",
       "      <td>5</td>\n",
       "      <td>n</td>\n",
       "      <td>0</td>\n",
       "    </tr>\n",
       "    <tr>\n",
       "      <th>2</th>\n",
       "      <td>n</td>\n",
       "      <td>2</td>\n",
       "      <td>y</td>\n",
       "      <td>0</td>\n",
       "    </tr>\n",
       "    <tr>\n",
       "      <th>3</th>\n",
       "      <td>n</td>\n",
       "      <td>2</td>\n",
       "      <td>n</td>\n",
       "      <td>1</td>\n",
       "    </tr>\n",
       "    <tr>\n",
       "      <th>4</th>\n",
       "      <td>n</td>\n",
       "      <td>3</td>\n",
       "      <td>y</td>\n",
       "      <td>1</td>\n",
       "    </tr>\n",
       "    <tr>\n",
       "      <th>5</th>\n",
       "      <td>n</td>\n",
       "      <td>4</td>\n",
       "      <td>n</td>\n",
       "      <td>0</td>\n",
       "    </tr>\n",
       "    <tr>\n",
       "      <th>6</th>\n",
       "      <td>n</td>\n",
       "      <td>1</td>\n",
       "      <td>n</td>\n",
       "      <td>1</td>\n",
       "    </tr>\n",
       "    <tr>\n",
       "      <th>7</th>\n",
       "      <td>y</td>\n",
       "      <td>5</td>\n",
       "      <td>y</td>\n",
       "      <td>0</td>\n",
       "    </tr>\n",
       "    <tr>\n",
       "      <th>8</th>\n",
       "      <td>y</td>\n",
       "      <td>4</td>\n",
       "      <td>y</td>\n",
       "      <td>1</td>\n",
       "    </tr>\n",
       "    <tr>\n",
       "      <th>9</th>\n",
       "      <td>y</td>\n",
       "      <td>4</td>\n",
       "      <td>y</td>\n",
       "      <td>1</td>\n",
       "    </tr>\n",
       "    <tr>\n",
       "      <th>10</th>\n",
       "      <td>y</td>\n",
       "      <td>1</td>\n",
       "      <td>y</td>\n",
       "      <td>0</td>\n",
       "    </tr>\n",
       "    <tr>\n",
       "      <th>11</th>\n",
       "      <td>y</td>\n",
       "      <td>1</td>\n",
       "      <td>y</td>\n",
       "      <td>1</td>\n",
       "    </tr>\n",
       "  </tbody>\n",
       "</table>\n",
       "</div>"
      ],
      "text/plain": [
       "   Poisonous  Size Spots  Color\n",
       "0          n     1     n      0\n",
       "1          n     5     n      0\n",
       "2          n     2     y      0\n",
       "3          n     2     n      1\n",
       "4          n     3     y      1\n",
       "5          n     4     n      0\n",
       "6          n     1     n      1\n",
       "7          y     5     y      0\n",
       "8          y     4     y      1\n",
       "9          y     4     y      1\n",
       "10         y     1     y      0\n",
       "11         y     1     y      1"
      ]
     },
     "execution_count": 7,
     "metadata": {},
     "output_type": "execute_result"
    }
   ],
   "source": [
    "#Color Category has been changed. 0 represents white, 1 represents brown\n",
    "tree_data"
   ]
  },
  {
   "cell_type": "code",
   "execution_count": 12,
   "id": "e62a6744",
   "metadata": {},
   "outputs": [],
   "source": [
    "tree_data['Poisonous']=[0,0,0,0,0,0,0,1,1,1,1,1] #Replace y/n with 0 or 1. "
   ]
  },
  {
   "cell_type": "code",
   "execution_count": 17,
   "id": "40ae0db8",
   "metadata": {},
   "outputs": [],
   "source": [
    "tree_data['Spots']=[0,0,1,0,1,0,0,1,1,1,1,1] #Replace y/n in spots to 0 or 1"
   ]
  },
  {
   "cell_type": "code",
   "execution_count": 18,
   "id": "a5a02659",
   "metadata": {},
   "outputs": [
    {
     "data": {
      "text/html": [
       "<div>\n",
       "<style scoped>\n",
       "    .dataframe tbody tr th:only-of-type {\n",
       "        vertical-align: middle;\n",
       "    }\n",
       "\n",
       "    .dataframe tbody tr th {\n",
       "        vertical-align: top;\n",
       "    }\n",
       "\n",
       "    .dataframe thead th {\n",
       "        text-align: right;\n",
       "    }\n",
       "</style>\n",
       "<table border=\"1\" class=\"dataframe\">\n",
       "  <thead>\n",
       "    <tr style=\"text-align: right;\">\n",
       "      <th></th>\n",
       "      <th>Poisonous</th>\n",
       "      <th>Size</th>\n",
       "      <th>Spots</th>\n",
       "      <th>Color</th>\n",
       "    </tr>\n",
       "  </thead>\n",
       "  <tbody>\n",
       "    <tr>\n",
       "      <th>0</th>\n",
       "      <td>0</td>\n",
       "      <td>1</td>\n",
       "      <td>0</td>\n",
       "      <td>0</td>\n",
       "    </tr>\n",
       "    <tr>\n",
       "      <th>1</th>\n",
       "      <td>0</td>\n",
       "      <td>5</td>\n",
       "      <td>0</td>\n",
       "      <td>0</td>\n",
       "    </tr>\n",
       "    <tr>\n",
       "      <th>2</th>\n",
       "      <td>0</td>\n",
       "      <td>2</td>\n",
       "      <td>1</td>\n",
       "      <td>0</td>\n",
       "    </tr>\n",
       "    <tr>\n",
       "      <th>3</th>\n",
       "      <td>0</td>\n",
       "      <td>2</td>\n",
       "      <td>0</td>\n",
       "      <td>1</td>\n",
       "    </tr>\n",
       "    <tr>\n",
       "      <th>4</th>\n",
       "      <td>0</td>\n",
       "      <td>3</td>\n",
       "      <td>1</td>\n",
       "      <td>1</td>\n",
       "    </tr>\n",
       "    <tr>\n",
       "      <th>5</th>\n",
       "      <td>0</td>\n",
       "      <td>4</td>\n",
       "      <td>0</td>\n",
       "      <td>0</td>\n",
       "    </tr>\n",
       "    <tr>\n",
       "      <th>6</th>\n",
       "      <td>0</td>\n",
       "      <td>1</td>\n",
       "      <td>0</td>\n",
       "      <td>1</td>\n",
       "    </tr>\n",
       "    <tr>\n",
       "      <th>7</th>\n",
       "      <td>1</td>\n",
       "      <td>5</td>\n",
       "      <td>1</td>\n",
       "      <td>0</td>\n",
       "    </tr>\n",
       "    <tr>\n",
       "      <th>8</th>\n",
       "      <td>1</td>\n",
       "      <td>4</td>\n",
       "      <td>1</td>\n",
       "      <td>1</td>\n",
       "    </tr>\n",
       "    <tr>\n",
       "      <th>9</th>\n",
       "      <td>1</td>\n",
       "      <td>4</td>\n",
       "      <td>1</td>\n",
       "      <td>1</td>\n",
       "    </tr>\n",
       "    <tr>\n",
       "      <th>10</th>\n",
       "      <td>1</td>\n",
       "      <td>1</td>\n",
       "      <td>1</td>\n",
       "      <td>0</td>\n",
       "    </tr>\n",
       "    <tr>\n",
       "      <th>11</th>\n",
       "      <td>1</td>\n",
       "      <td>1</td>\n",
       "      <td>1</td>\n",
       "      <td>1</td>\n",
       "    </tr>\n",
       "  </tbody>\n",
       "</table>\n",
       "</div>"
      ],
      "text/plain": [
       "    Poisonous  Size  Spots  Color\n",
       "0           0     1      0      0\n",
       "1           0     5      0      0\n",
       "2           0     2      1      0\n",
       "3           0     2      0      1\n",
       "4           0     3      1      1\n",
       "5           0     4      0      0\n",
       "6           0     1      0      1\n",
       "7           1     5      1      0\n",
       "8           1     4      1      1\n",
       "9           1     4      1      1\n",
       "10          1     1      1      0\n",
       "11          1     1      1      1"
      ]
     },
     "execution_count": 18,
     "metadata": {},
     "output_type": "execute_result"
    }
   ],
   "source": [
    "tree_data"
   ]
  },
  {
   "cell_type": "markdown",
   "id": "0ed794a1",
   "metadata": {},
   "source": [
    "1. What is the entropy of the target variable, “poisonous”?\n",
    "2. What is the first attribute a decision tree trained using the entropy and the information gain method\n",
    "3. What is the information gain of this attribute?\n",
    "4. Draw the full decision tree learned from this data set ."
   ]
  },
  {
   "cell_type": "markdown",
   "id": "6ffe4532",
   "metadata": {},
   "source": [
    "The column with the highest entropy is size. The higher the entropy, the higher the information content. "
   ]
  },
  {
   "cell_type": "code",
   "execution_count": 14,
   "id": "a84a25af",
   "metadata": {},
   "outputs": [
    {
     "data": {
      "text/plain": [
       "1.6094379124341005"
      ]
     },
     "execution_count": 14,
     "metadata": {},
     "output_type": "execute_result"
    }
   ],
   "source": [
    "entropy(tree_data['Poisonous']) #The entropy of the 'poisonous column is 1.69'"
   ]
  },
  {
   "cell_type": "code",
   "execution_count": 15,
   "id": "41258b52",
   "metadata": {},
   "outputs": [
    {
     "data": {
      "text/plain": [
       "2.3208003782536375"
      ]
     },
     "execution_count": 15,
     "metadata": {},
     "output_type": "execute_result"
    }
   ],
   "source": [
    "entropy(tree_data['Size']) #The entropy of size is 2.32"
   ]
  },
  {
   "cell_type": "code",
   "execution_count": 19,
   "id": "a1edcdfb",
   "metadata": {},
   "outputs": [
    {
     "data": {
      "text/plain": [
       "1.945910149055313"
      ]
     },
     "execution_count": 19,
     "metadata": {},
     "output_type": "execute_result"
    }
   ],
   "source": [
    "entropy(tree_data['Spots']) #The entropy of spots is 1.94"
   ]
  },
  {
   "cell_type": "code",
   "execution_count": 20,
   "id": "66092e4d",
   "metadata": {},
   "outputs": [
    {
     "data": {
      "text/plain": [
       "1.7917594692280547"
      ]
     },
     "execution_count": 20,
     "metadata": {},
     "output_type": "execute_result"
    }
   ],
   "source": [
    "entropy(tree_data['Color']) #The entropy of coor is 1.79"
   ]
  },
  {
   "cell_type": "markdown",
   "id": "7ae9db8d",
   "metadata": {},
   "source": [
    "Make decision tree with the data. Target variable is the prediction of colummn 'poisonous'"
   ]
  },
  {
   "cell_type": "code",
   "execution_count": 32,
   "id": "43d44977",
   "metadata": {},
   "outputs": [],
   "source": [
    "#Train test split. 20% train size\n",
    "X = tree_data.drop('Poisonous',axis=1)\n",
    "y = tree_data['Poisonous']\n",
    "X_train, X_test, y_train, y_test = train_test_split(X, y, test_size=0.20)\n"
   ]
  },
  {
   "cell_type": "code",
   "execution_count": 33,
   "id": "d3a12e62",
   "metadata": {},
   "outputs": [
    {
     "data": {
      "text/plain": [
       "DecisionTreeClassifier(criterion='entropy')"
      ]
     },
     "execution_count": 33,
     "metadata": {},
     "output_type": "execute_result"
    }
   ],
   "source": [
    "#Fit model\n",
    "dec_tree= DecisionTreeClassifier(criterion='entropy')\n",
    "dec_tree.fit(X_train,y_train)"
   ]
  },
  {
   "cell_type": "code",
   "execution_count": 34,
   "id": "3c446dae",
   "metadata": {},
   "outputs": [],
   "source": [
    "#Make predictions with test data\n",
    "predictions_DT = dec_tree.predict(X_test)"
   ]
  },
  {
   "cell_type": "code",
   "execution_count": 35,
   "id": "1c660c71",
   "metadata": {},
   "outputs": [
    {
     "name": "stdout",
     "output_type": "stream",
     "text": [
      "              precision    recall  f1-score   support\n",
      "\n",
      "           0       1.00      1.00      1.00         2\n",
      "           1       1.00      1.00      1.00         1\n",
      "\n",
      "    accuracy                           1.00         3\n",
      "   macro avg       1.00      1.00      1.00         3\n",
      "weighted avg       1.00      1.00      1.00         3\n",
      "\n"
     ]
    }
   ],
   "source": [
    "#Show classification report. 100% acccuracy in predictions of y/n poinsonous\n",
    "print(classification_report(y_test,predictions_DT))"
   ]
  },
  {
   "cell_type": "code",
   "execution_count": 36,
   "id": "a6b90167",
   "metadata": {},
   "outputs": [
    {
     "data": {
      "image/png": "[encoded data removed]",
      "text/plain": [
       "<Figure size 1800x720 with 1 Axes>"
      ]
     },
     "metadata": {
      "needs_background": "light"
     },
     "output_type": "display_data"
    }
   ],
   "source": [
    "plt.figure(figsize=(25,10))\n",
    "a = plot_tree(dec_tree,  \n",
    "              feature_names = tree_data.columns, \n",
    "              filled=True, \n",
    "              rounded=True, \n",
    "              fontsize=14)"
   ]
  }
 ],
 "metadata": {
  "kernelspec": {
   "display_name": "Python 3 (ipykernel)",
   "language": "python",
   "name": "python3"
  },
  "language_info": {
   "codemirror_mode": {
    "name": "ipython",
    "version": 3
   },
   "file_extension": ".py",
   "mimetype": "text/x-python",
   "name": "python",
   "nbconvert_exporter": "python",
   "pygments_lexer": "ipython3",
   "version": "3.8.8"
  }
 },
 "nbformat": 4,
 "nbformat_minor": 5
}

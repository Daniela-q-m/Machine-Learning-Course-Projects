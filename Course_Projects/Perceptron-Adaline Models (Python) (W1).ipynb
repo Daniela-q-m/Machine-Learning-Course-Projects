{
 "cells": [
  {
   "cell_type": "markdown",
   "id": "869ad3da",
   "metadata": {},
   "source": [
    "Daniela Quijano"
   ]
  },
  {
   "cell_type": "markdown",
   "id": "8110dba1",
   "metadata": {},
   "source": [
    "The purpose of this notebook is to apply the perceptron and Adaline models to the iris dataset. In order to implement the perceptron model, scikitlearn library will be used. "
   ]
  },
  {
   "cell_type": "code",
   "execution_count": 2,
   "id": "e4a8e950",
   "metadata": {},
   "outputs": [
    {
     "data": {
      "text/plain": [
       "'/Users/danielaquijano/Documents/GitHub/Machine-Learning-Course-Projects'"
      ]
     },
     "execution_count": 2,
     "metadata": {},
     "output_type": "execute_result"
    }
   ],
   "source": [
    "pwd"
   ]
  },
  {
   "cell_type": "code",
   "execution_count": 17,
   "id": "f4cc3181",
   "metadata": {},
   "outputs": [],
   "source": [
    "import pandas as pd\n",
    "import numpy as np\n",
    "import os\n",
    "import matplotlib.pyplot as plt\n",
    "import seaborn as sns\n",
    "from sklearn.model_selection import train_test_split\n",
    "from sklearn.preprocessing import StandardScaler\n",
    "from sklearn.linear_model import Perceptron\n",
    "import random\n",
    "from sklearn.metrics import classification_report\n",
    "from sklearn.metrics import accuracy_score\n"
   ]
  },
  {
   "cell_type": "markdown",
   "id": "364560af",
   "metadata": {},
   "source": [
    "## Load Iris Dataset from csv file"
   ]
  },
  {
   "cell_type": "code",
   "execution_count": 4,
   "id": "b01cf164",
   "metadata": {},
   "outputs": [
    {
     "data": {
      "text/html": [
       "<div>\n",
       "<style scoped>\n",
       "    .dataframe tbody tr th:only-of-type {\n",
       "        vertical-align: middle;\n",
       "    }\n",
       "\n",
       "    .dataframe tbody tr th {\n",
       "        vertical-align: top;\n",
       "    }\n",
       "\n",
       "    .dataframe thead th {\n",
       "        text-align: right;\n",
       "    }\n",
       "</style>\n",
       "<table border=\"1\" class=\"dataframe\">\n",
       "  <thead>\n",
       "    <tr style=\"text-align: right;\">\n",
       "      <th></th>\n",
       "      <th>sepal.length</th>\n",
       "      <th>sepal.width</th>\n",
       "      <th>petal.length</th>\n",
       "      <th>petal.width</th>\n",
       "      <th>variety</th>\n",
       "    </tr>\n",
       "  </thead>\n",
       "  <tbody>\n",
       "    <tr>\n",
       "      <th>0</th>\n",
       "      <td>5.1</td>\n",
       "      <td>3.5</td>\n",
       "      <td>1.4</td>\n",
       "      <td>0.2</td>\n",
       "      <td>Setosa</td>\n",
       "    </tr>\n",
       "    <tr>\n",
       "      <th>1</th>\n",
       "      <td>4.9</td>\n",
       "      <td>3.0</td>\n",
       "      <td>1.4</td>\n",
       "      <td>0.2</td>\n",
       "      <td>Setosa</td>\n",
       "    </tr>\n",
       "    <tr>\n",
       "      <th>2</th>\n",
       "      <td>4.7</td>\n",
       "      <td>3.2</td>\n",
       "      <td>1.3</td>\n",
       "      <td>0.2</td>\n",
       "      <td>Setosa</td>\n",
       "    </tr>\n",
       "    <tr>\n",
       "      <th>3</th>\n",
       "      <td>4.6</td>\n",
       "      <td>3.1</td>\n",
       "      <td>1.5</td>\n",
       "      <td>0.2</td>\n",
       "      <td>Setosa</td>\n",
       "    </tr>\n",
       "    <tr>\n",
       "      <th>4</th>\n",
       "      <td>5.0</td>\n",
       "      <td>3.6</td>\n",
       "      <td>1.4</td>\n",
       "      <td>0.2</td>\n",
       "      <td>Setosa</td>\n",
       "    </tr>\n",
       "  </tbody>\n",
       "</table>\n",
       "</div>"
      ],
      "text/plain": [
       "   sepal.length  sepal.width  petal.length  petal.width variety\n",
       "0           5.1          3.5           1.4          0.2  Setosa\n",
       "1           4.9          3.0           1.4          0.2  Setosa\n",
       "2           4.7          3.2           1.3          0.2  Setosa\n",
       "3           4.6          3.1           1.5          0.2  Setosa\n",
       "4           5.0          3.6           1.4          0.2  Setosa"
      ]
     },
     "execution_count": 4,
     "metadata": {},
     "output_type": "execute_result"
    }
   ],
   "source": [
    "#Open iris dataframe and print head\n",
    "iris=pd.read_csv('/Users/danielaquijano/Documents/GitHub/Machine-Learning-Course-Projects/sourcefiles/IRIS.csv')\n",
    "iris.head()"
   ]
  },
  {
   "cell_type": "markdown",
   "id": "f4f4fccc",
   "metadata": {},
   "source": [
    "## Exploratory Data Analysis"
   ]
  },
  {
   "cell_type": "code",
   "execution_count": 5,
   "id": "1c77da65",
   "metadata": {},
   "outputs": [
    {
     "data": {
      "text/plain": [
       "[Text(0.5, 1.0, 'Sepal Length vs Sepal Width')]"
      ]
     },
     "execution_count": 5,
     "metadata": {},
     "output_type": "execute_result"
    },
    {
     "data": {
      "image/png": "[encoded data removed]",
      "text/plain": [
       "<Figure size 432x288 with 1 Axes>"
      ]
     },
     "metadata": {
      "needs_background": "light"
     },
     "output_type": "display_data"
    }
   ],
   "source": [
    "#scatterplot of sepal length vs sepal width\n",
    "#This scatterplot shows that sepal length vs sepal width only separates Setosa and versicolor and virginica\n",
    "#Does not separate all threee\n",
    "\n",
    "colors_dict_one=dict({'Setosa':'pink','Versicolor':'purple','Virginica':'green'})\n",
    "sns.scatterplot(data=iris, x=\"sepal.length\", y=\"sepal.width\",hue='variety',palette=colors_dict_one).set(title='Sepal Length vs Sepal Width')"
   ]
  },
  {
   "cell_type": "code",
   "execution_count": 6,
   "id": "c9c0eccf",
   "metadata": {},
   "outputs": [
    {
     "data": {
      "text/plain": [
       "[Text(0.5, 1.0, 'Sepal Length vs Petal Length')]"
      ]
     },
     "execution_count": 6,
     "metadata": {},
     "output_type": "execute_result"
    },
    {
     "data": {
      "image/png": "[encoded data removed]",
      "text/plain": [
       "<Figure size 432x288 with 1 Axes>"
      ]
     },
     "metadata": {
      "needs_background": "light"
     },
     "output_type": "display_data"
    }
   ],
   "source": [
    "#Sepal length vs petal length is able to cluster all three categories well\n",
    "sns.scatterplot(data=iris, x=\"sepal.length\", y=\"petal.length\",hue='variety',palette=colors_dict_one).set(title='Sepal Length vs Petal Length')"
   ]
  },
  {
   "cell_type": "code",
   "execution_count": 7,
   "id": "0cfbf9b4",
   "metadata": {},
   "outputs": [
    {
     "data": {
      "text/plain": [
       "[Text(0.5, 1.0, 'Sepal Length vs Petal Width')]"
      ]
     },
     "execution_count": 7,
     "metadata": {},
     "output_type": "execute_result"
    },
    {
     "data": {
      "image/png": "[encoded data removed]",
      "text/plain": [
       "<Figure size 432x288 with 1 Axes>"
      ]
     },
     "metadata": {
      "needs_background": "light"
     },
     "output_type": "display_data"
    }
   ],
   "source": [
    "#Sepal Length vs Sepal with is able to further separate the three classes.\n",
    "#Some Ambiguity between versicolor and virginica\n",
    "sns.scatterplot(data=iris, x=\"sepal.length\", y=\"petal.width\",hue='variety',palette=colors_dict_one).set(title='Sepal Length vs Petal Width')"
   ]
  },
  {
   "cell_type": "code",
   "execution_count": 8,
   "id": "65070478",
   "metadata": {},
   "outputs": [
    {
     "data": {
      "text/plain": [
       "[Text(0.5, 1.0, 'Sepal Width vs Petal Width')]"
      ]
     },
     "execution_count": 8,
     "metadata": {},
     "output_type": "execute_result"
    },
    {
     "data": {
      "image/png": "[encoded data removed]",
      "text/plain": [
       "<Figure size 432x288 with 1 Axes>"
      ]
     },
     "metadata": {
      "needs_background": "light"
     },
     "output_type": "display_data"
    }
   ],
   "source": [
    "#Sepal Width vs Petal Width is able to split the three categories.\n",
    "#Some AMbiguity between Versicolor and Virginica\n",
    "sns.scatterplot(data=iris, x=\"sepal.width\", y=\"petal.width\",hue='variety',palette=colors_dict_one).set(title='Sepal Width vs Petal Width')"
   ]
  },
  {
   "cell_type": "markdown",
   "id": "d038cab1",
   "metadata": {},
   "source": [
    "## Choose Subsets: Linearly Separable features\n",
    "It seems that setosa and Virginca are two subsets that tend to be clustered far away from eachother. Using these two classes of iris and Sepal Length vs petal length, I will begin to build a perceptron model with these two linearly separable classes. "
   ]
  },
  {
   "cell_type": "code",
   "execution_count": 9,
   "id": "e36e2e10",
   "metadata": {},
   "outputs": [
    {
     "name": "stdout",
     "output_type": "stream",
     "text": [
      "     sepal.length  sepal.width  petal.length  petal.width    variety\n",
      "0             5.1          3.5           1.4          0.2     Setosa\n",
      "1             4.9          3.0           1.4          0.2     Setosa\n",
      "2             4.7          3.2           1.3          0.2     Setosa\n",
      "3             4.6          3.1           1.5          0.2     Setosa\n",
      "4             5.0          3.6           1.4          0.2     Setosa\n",
      "..            ...          ...           ...          ...        ...\n",
      "145           6.7          3.0           5.2          2.3  Virginica\n",
      "146           6.3          2.5           5.0          1.9  Virginica\n",
      "147           6.5          3.0           5.2          2.0  Virginica\n",
      "148           6.2          3.4           5.4          2.3  Virginica\n",
      "149           5.9          3.0           5.1          1.8  Virginica\n",
      "\n",
      "[100 rows x 5 columns]\n"
     ]
    }
   ],
   "source": [
    "#Select Subset of iris dataframe, exclude rows where variety=versicolor\n",
    "#Create a bool variable that we use to then filter out rows where varitey is versicolor\n",
    "versicolor_bool=iris['variety']!='Versicolor'\n",
    "subset_iris=iris[versicolor_bool]\n",
    "print(subset_iris)"
   ]
  },
  {
   "cell_type": "code",
   "execution_count": 25,
   "id": "46a0c6d6",
   "metadata": {},
   "outputs": [
    {
     "data": {
      "text/html": [
       "<div>\n",
       "<style scoped>\n",
       "    .dataframe tbody tr th:only-of-type {\n",
       "        vertical-align: middle;\n",
       "    }\n",
       "\n",
       "    .dataframe tbody tr th {\n",
       "        vertical-align: top;\n",
       "    }\n",
       "\n",
       "    .dataframe thead th {\n",
       "        text-align: right;\n",
       "    }\n",
       "</style>\n",
       "<table border=\"1\" class=\"dataframe\">\n",
       "  <thead>\n",
       "    <tr style=\"text-align: right;\">\n",
       "      <th></th>\n",
       "      <th>sepal.length</th>\n",
       "      <th>sepal.width</th>\n",
       "      <th>petal.length</th>\n",
       "      <th>petal.width</th>\n",
       "      <th>variety</th>\n",
       "    </tr>\n",
       "  </thead>\n",
       "  <tbody>\n",
       "    <tr>\n",
       "      <th>0</th>\n",
       "      <td>5.1</td>\n",
       "      <td>3.5</td>\n",
       "      <td>1.4</td>\n",
       "      <td>0.2</td>\n",
       "      <td>0</td>\n",
       "    </tr>\n",
       "    <tr>\n",
       "      <th>1</th>\n",
       "      <td>4.9</td>\n",
       "      <td>3.0</td>\n",
       "      <td>1.4</td>\n",
       "      <td>0.2</td>\n",
       "      <td>0</td>\n",
       "    </tr>\n",
       "    <tr>\n",
       "      <th>2</th>\n",
       "      <td>4.7</td>\n",
       "      <td>3.2</td>\n",
       "      <td>1.3</td>\n",
       "      <td>0.2</td>\n",
       "      <td>0</td>\n",
       "    </tr>\n",
       "    <tr>\n",
       "      <th>3</th>\n",
       "      <td>4.6</td>\n",
       "      <td>3.1</td>\n",
       "      <td>1.5</td>\n",
       "      <td>0.2</td>\n",
       "      <td>0</td>\n",
       "    </tr>\n",
       "    <tr>\n",
       "      <th>4</th>\n",
       "      <td>5.0</td>\n",
       "      <td>3.6</td>\n",
       "      <td>1.4</td>\n",
       "      <td>0.2</td>\n",
       "      <td>0</td>\n",
       "    </tr>\n",
       "  </tbody>\n",
       "</table>\n",
       "</div>"
      ],
      "text/plain": [
       "   sepal.length  sepal.width  petal.length  petal.width  variety\n",
       "0           5.1          3.5           1.4          0.2        0\n",
       "1           4.9          3.0           1.4          0.2        0\n",
       "2           4.7          3.2           1.3          0.2        0\n",
       "3           4.6          3.1           1.5          0.2        0\n",
       "4           5.0          3.6           1.4          0.2        0"
      ]
     },
     "execution_count": 25,
     "metadata": {},
     "output_type": "execute_result"
    }
   ],
   "source": [
    "#Since the perceptron only intakes binary values, replace variety name with 0 or 1\n",
    "#Let Setosa=0\n",
    "#Let Virginica=1\n",
    "subset_iris = subset_iris.replace(['Setosa'],0)\n",
    "subset_iris = subset_iris.replace(['Virginica'],1)\n",
    "subset_iris.head()\n"
   ]
  },
  {
   "cell_type": "markdown",
   "id": "2d498d06",
   "metadata": {},
   "source": [
    "## Linearly Separable Features: Perceptron Model \n",
    "Here, the perceptron model is implemented with 2, 3 and 4 features"
   ]
  },
  {
   "cell_type": "code",
   "execution_count": 12,
   "id": "b962c1cc",
   "metadata": {},
   "outputs": [],
   "source": [
    "#Split the data into train and test, and scale data. Will use 0.2 as test and 0.8 as train (80% of data used to train)"
   ]
  },
  {
   "cell_type": "code",
   "execution_count": 44,
   "id": "95cd54fe",
   "metadata": {},
   "outputs": [],
   "source": [
    "X1=subset_iris.drop(columns=['sepal.width','petal.width','variety'],axis=1) #Two linearly separable features\n",
    "X1b=subset_iris.drop(columns=['petal.length','petal.width','variety'],axis=1) #Two non-linearly separable features\n",
    "X2=subset_iris.drop(columns=['petal.width','variety']) #Three features\n",
    "X3=subset_iris.drop(columns=['variety']) #Four features\n",
    "y=subset_iris['variety']\n",
    "\n",
    "X_train, X_test, y_train, y_test=train_test_split(X1, y, test_size=0.20)"
   ]
  },
  {
   "cell_type": "code",
   "execution_count": 39,
   "id": "7d0bd2a7",
   "metadata": {},
   "outputs": [],
   "source": [
    "model_perceptron = Perceptron()"
   ]
  },
  {
   "cell_type": "code",
   "execution_count": 40,
   "id": "133deced",
   "metadata": {},
   "outputs": [
    {
     "data": {
      "text/plain": [
       "Perceptron()"
      ]
     },
     "execution_count": 40,
     "metadata": {},
     "output_type": "execute_result"
    }
   ],
   "source": [
    "model_perceptron.fit(X_train, y_train)"
   ]
  },
  {
   "cell_type": "code",
   "execution_count": 41,
   "id": "b08e746f",
   "metadata": {},
   "outputs": [],
   "source": [
    "predictions_2vars=model_perceptron.predict(X_test)"
   ]
  },
  {
   "cell_type": "code",
   "execution_count": 43,
   "id": "e0e31336",
   "metadata": {},
   "outputs": [],
   "source": [
    "#Both sepal length and petal length are linearly separable so it makes sense that the model is able to predict variety with 100% accuracy."
   ]
  },
  {
   "cell_type": "code",
   "execution_count": 42,
   "id": "1dc03776",
   "metadata": {},
   "outputs": [
    {
     "name": "stdout",
     "output_type": "stream",
     "text": [
      "              precision    recall  f1-score   support\n",
      "\n",
      "           0       1.00      1.00      1.00         8\n",
      "           1       1.00      1.00      1.00        12\n",
      "\n",
      "    accuracy                           1.00        20\n",
      "   macro avg       1.00      1.00      1.00        20\n",
      "weighted avg       1.00      1.00      1.00        20\n",
      "\n"
     ]
    }
   ],
   "source": [
    "print(classification_report(y_test,predictions_2vars))"
   ]
  },
  {
   "cell_type": "code",
   "execution_count": null,
   "id": "ddb220d2",
   "metadata": {},
   "outputs": [],
   "source": [
    "# Try again with two non-linearly separable variables"
   ]
  },
  {
   "cell_type": "code",
   "execution_count": 48,
   "id": "2782f34b",
   "metadata": {},
   "outputs": [],
   "source": [
    "X_train, X_test, y_train, y_test=train_test_split(X1b, y, test_size=0.20)"
   ]
  },
  {
   "cell_type": "code",
   "execution_count": 49,
   "id": "9929cd78",
   "metadata": {},
   "outputs": [],
   "source": [
    "model_perceptron = Perceptron()"
   ]
  },
  {
   "cell_type": "code",
   "execution_count": 50,
   "id": "652932e7",
   "metadata": {},
   "outputs": [
    {
     "data": {
      "text/plain": [
       "Perceptron()"
      ]
     },
     "execution_count": 50,
     "metadata": {},
     "output_type": "execute_result"
    }
   ],
   "source": [
    "model_perceptron.fit(X_train, y_train)"
   ]
  },
  {
   "cell_type": "code",
   "execution_count": 51,
   "id": "dcba43e8",
   "metadata": {},
   "outputs": [],
   "source": [
    "predictions_2vars_nonsep=model_perceptron.predict(X_test)"
   ]
  },
  {
   "cell_type": "code",
   "execution_count": null,
   "id": "a80e7d09",
   "metadata": {},
   "outputs": [],
   "source": [
    "#Two non-linearly separable features makes prediction accuracy drop to 95%"
   ]
  },
  {
   "cell_type": "code",
   "execution_count": 52,
   "id": "5353d110",
   "metadata": {},
   "outputs": [
    {
     "name": "stdout",
     "output_type": "stream",
     "text": [
      "              precision    recall  f1-score   support\n",
      "\n",
      "           0       1.00      0.88      0.93         8\n",
      "           1       0.92      1.00      0.96        12\n",
      "\n",
      "    accuracy                           0.95        20\n",
      "   macro avg       0.96      0.94      0.95        20\n",
      "weighted avg       0.95      0.95      0.95        20\n",
      "\n"
     ]
    }
   ],
   "source": [
    "print(classification_report(y_test,predictions_2vars_nonsep))"
   ]
  },
  {
   "cell_type": "code",
   "execution_count": null,
   "id": "85439e47",
   "metadata": {},
   "outputs": [],
   "source": [
    "#Training model with three features, it is able to predict variety to 100% accuracy"
   ]
  },
  {
   "cell_type": "code",
   "execution_count": 54,
   "id": "94d002b6",
   "metadata": {},
   "outputs": [
    {
     "name": "stdout",
     "output_type": "stream",
     "text": [
      "              precision    recall  f1-score   support\n",
      "\n",
      "           0       1.00      1.00      1.00        10\n",
      "           1       1.00      1.00      1.00        10\n",
      "\n",
      "    accuracy                           1.00        20\n",
      "   macro avg       1.00      1.00      1.00        20\n",
      "weighted avg       1.00      1.00      1.00        20\n",
      "\n"
     ]
    }
   ],
   "source": [
    "X_train, X_test, y_train, y_test=train_test_split(X2, y, test_size=0.20)\n",
    "model_perceptron = Perceptron()\n",
    "model_perceptron.fit(X_train, y_train)\n",
    "predictions_3vars=model_perceptron.predict(X_test)\n",
    "print(classification_report(y_test,predictions_3vars))"
   ]
  },
  {
   "cell_type": "code",
   "execution_count": null,
   "id": "0b18f01a",
   "metadata": {},
   "outputs": [],
   "source": [
    "#Training model with all four features, it is able to predict variety to 100% accuracy"
   ]
  },
  {
   "cell_type": "code",
   "execution_count": 55,
   "id": "3be70b0b",
   "metadata": {},
   "outputs": [
    {
     "name": "stdout",
     "output_type": "stream",
     "text": [
      "              precision    recall  f1-score   support\n",
      "\n",
      "           0       1.00      1.00      1.00         6\n",
      "           1       1.00      1.00      1.00        14\n",
      "\n",
      "    accuracy                           1.00        20\n",
      "   macro avg       1.00      1.00      1.00        20\n",
      "weighted avg       1.00      1.00      1.00        20\n",
      "\n"
     ]
    }
   ],
   "source": [
    "X_train, X_test, y_train, y_test=train_test_split(X3, y, test_size=0.20)\n",
    "model_perceptron = Perceptron()\n",
    "model_perceptron.fit(X_train, y_train)\n",
    "predictions_4vars=model_perceptron.predict(X_test)\n",
    "print(classification_report(y_test,predictions_4vars))"
   ]
  },
  {
   "cell_type": "markdown",
   "id": "01dcd737",
   "metadata": {},
   "source": [
    "## Linearly Separable Features: Adaline Model \n",
    "Here, the perceptron adaline model is implemented with 2, 3 and 4 features. With an adaline model the weights are updated based on the linear activation function. In order to implement the Adaline model, the adaline batch gradient descent algorithm that is used below was obtained from: https://nthu-datalab.github.io/ml/labs/04-1_Perceptron_Adaline/04-1_Perceptron_Adaline.html"
   ]
  },
  {
   "cell_type": "markdown",
   "id": "614e228d",
   "metadata": {},
   "source": [
    "Two linearly separable features: sepal length petal length\n",
    "Two non-linearly separable features: sepal length and sepal width"
   ]
  },
  {
   "cell_type": "code",
   "execution_count": 56,
   "id": "9d5c63c9",
   "metadata": {},
   "outputs": [],
   "source": [
    "class AdalineGD(object):\n",
    "    \"\"\"ADAptive LInear NEuron classifier.\n",
    "\n",
    "    Parameters\n",
    "    ------------\n",
    "    eta : float\n",
    "        Learning rate (between 0.0 and 1.0)\n",
    "    n_iter : int\n",
    "        Passes over the training dataset.\n",
    "    random_state : int\n",
    "        The seed of the pseudo random number generator.\n",
    "\n",
    "    Attributes\n",
    "    -----------\n",
    "    w_ : 1d-array\n",
    "        Weights after fitting.\n",
    "    errors_ : list\n",
    "        Number of misclassifications in every epoch.\n",
    "\n",
    "    \"\"\"\n",
    "    def __init__(self, eta=0.01, n_iter=50, random_state=1):\n",
    "        self.eta = eta\n",
    "        self.n_iter = n_iter\n",
    "        self.random_state = random_state\n",
    "\n",
    "    def fit(self, X, y):\n",
    "        \"\"\" Fit training data.\n",
    "\n",
    "        Parameters\n",
    "        ----------\n",
    "        X : array-like; shape = [n_samples, n_features]\n",
    "            Training vectors, where n_samples is the number of samples and\n",
    "            n_features is the number of features.\n",
    "        y : array-like; shape = [n_samples]\n",
    "            Target values or labels.\n",
    "\n",
    "        Returns\n",
    "        -------\n",
    "        self : object\n",
    "\n",
    "        \"\"\"\n",
    "        rgen = np.random.RandomState(self.random_state)\n",
    "        self.w_ = rgen.normal(loc=0.0, scale=0.01, size=1+X.shape[1])\n",
    "        self.cost_ = []\n",
    "\n",
    "        for i in range(self.n_iter):\n",
    "            output = self.activation(X)\n",
    "            \n",
    "            # Cost function\n",
    "            error = (y - output)\n",
    "            cost = (error**2).sum() / 2.0\n",
    "            self.cost_.append(cost)\n",
    "            \n",
    "            # Update rule\n",
    "            self.w_[1:] += self.eta * X.T.dot(error)\n",
    "            self.w_[0] += self.eta * error.sum()\n",
    "            \n",
    "        return self\n",
    "\n",
    "    def net_input(self, X):\n",
    "        \"\"\"Calculate net input\"\"\"\n",
    "        return np.dot(X, self.w_[1:]) + self.w_[0]\n",
    "\n",
    "    def activation(self, X):\n",
    "        \"\"\"Compute linear activation\"\"\"\n",
    "        return self.net_input(X)\n",
    "\n",
    "    def predict(self, X):\n",
    "        \"\"\"Return class label after unit step\"\"\"\n",
    "        return np.where(self.activation(X) >= 0.0, 1, -1)"
   ]
  },
  {
   "cell_type": "code",
   "execution_count": null,
   "id": "a689eb09",
   "metadata": {},
   "outputs": [],
   "source": [
    "# Training Adaline model with four features"
   ]
  },
  {
   "cell_type": "code",
   "execution_count": 57,
   "id": "cfd7c934",
   "metadata": {},
   "outputs": [
    {
     "name": "stdout",
     "output_type": "stream",
     "text": [
      "              precision    recall  f1-score   support\n",
      "\n",
      "           0       0.33      0.17      0.22        12\n",
      "           1       0.29      0.50      0.36         8\n",
      "\n",
      "    accuracy                           0.30        20\n",
      "   macro avg       0.31      0.33      0.29        20\n",
      "weighted avg       0.31      0.30      0.28        20\n",
      "\n"
     ]
    }
   ],
   "source": [
    "X_train, X_test, y_train, y_test=train_test_split(X3, y, test_size=0.20)\n",
    "model_adaline = AdalineGD()\n",
    "model_adaline.fit(X_train, y_train)\n",
    "predictions_ada_4vars=model_adaline.predict(X_test)\n",
    "print(classification_report(y_test,predictions_4vars))"
   ]
  },
  {
   "cell_type": "code",
   "execution_count": null,
   "id": "aa0193f7",
   "metadata": {},
   "outputs": [],
   "source": [
    "#Training Adaline model with three features"
   ]
  },
  {
   "cell_type": "code",
   "execution_count": 58,
   "id": "3fea690e",
   "metadata": {},
   "outputs": [
    {
     "name": "stdout",
     "output_type": "stream",
     "text": [
      "              precision    recall  f1-score   support\n",
      "\n",
      "           0       0.50      0.50      0.50        10\n",
      "           1       0.50      0.50      0.50        10\n",
      "\n",
      "    accuracy                           0.50        20\n",
      "   macro avg       0.50      0.50      0.50        20\n",
      "weighted avg       0.50      0.50      0.50        20\n",
      "\n"
     ]
    }
   ],
   "source": [
    "X_train, X_test, y_train, y_test=train_test_split(X2, y, test_size=0.20)\n",
    "model_adaline = AdalineGD()\n",
    "model_adaline.fit(X_train, y_train)\n",
    "predictions_ada_3vars=model_adaline.predict(X_test)\n",
    "print(classification_report(y_test,predictions_3vars))"
   ]
  },
  {
   "cell_type": "code",
   "execution_count": null,
   "id": "baf4a39c",
   "metadata": {},
   "outputs": [],
   "source": [
    "#Training Adaline model with two non linearly separable features"
   ]
  },
  {
   "cell_type": "code",
   "execution_count": 62,
   "id": "91dc534b",
   "metadata": {},
   "outputs": [
    {
     "name": "stdout",
     "output_type": "stream",
     "text": [
      "              precision    recall  f1-score   support\n",
      "\n",
      "          -1       0.00      0.00      0.00       0.0\n",
      "           0       0.00      0.00      0.00      13.0\n",
      "           1       0.00      0.00      0.00       7.0\n",
      "\n",
      "    accuracy                           0.00      20.0\n",
      "   macro avg       0.00      0.00      0.00      20.0\n",
      "weighted avg       0.00      0.00      0.00      20.0\n",
      "\n"
     ]
    },
    {
     "name": "stderr",
     "output_type": "stream",
     "text": [
      "/Users/danielaquijano/opt/anaconda3/lib/python3.8/site-packages/sklearn/metrics/_classification.py:1245: UndefinedMetricWarning: Precision and F-score are ill-defined and being set to 0.0 in labels with no predicted samples. Use `zero_division` parameter to control this behavior.\n",
      "  _warn_prf(average, modifier, msg_start, len(result))\n",
      "/Users/danielaquijano/opt/anaconda3/lib/python3.8/site-packages/sklearn/metrics/_classification.py:1245: UndefinedMetricWarning: Recall and F-score are ill-defined and being set to 0.0 in labels with no true samples. Use `zero_division` parameter to control this behavior.\n",
      "  _warn_prf(average, modifier, msg_start, len(result))\n",
      "/Users/danielaquijano/opt/anaconda3/lib/python3.8/site-packages/sklearn/metrics/_classification.py:1245: UndefinedMetricWarning: Precision and F-score are ill-defined and being set to 0.0 in labels with no predicted samples. Use `zero_division` parameter to control this behavior.\n",
      "  _warn_prf(average, modifier, msg_start, len(result))\n",
      "/Users/danielaquijano/opt/anaconda3/lib/python3.8/site-packages/sklearn/metrics/_classification.py:1245: UndefinedMetricWarning: Recall and F-score are ill-defined and being set to 0.0 in labels with no true samples. Use `zero_division` parameter to control this behavior.\n",
      "  _warn_prf(average, modifier, msg_start, len(result))\n",
      "/Users/danielaquijano/opt/anaconda3/lib/python3.8/site-packages/sklearn/metrics/_classification.py:1245: UndefinedMetricWarning: Precision and F-score are ill-defined and being set to 0.0 in labels with no predicted samples. Use `zero_division` parameter to control this behavior.\n",
      "  _warn_prf(average, modifier, msg_start, len(result))\n",
      "/Users/danielaquijano/opt/anaconda3/lib/python3.8/site-packages/sklearn/metrics/_classification.py:1245: UndefinedMetricWarning: Recall and F-score are ill-defined and being set to 0.0 in labels with no true samples. Use `zero_division` parameter to control this behavior.\n",
      "  _warn_prf(average, modifier, msg_start, len(result))\n"
     ]
    }
   ],
   "source": [
    "X_train, X_test, y_train, y_test=train_test_split(X1b, y, test_size=0.20)\n",
    "model_adaline = AdalineGD()\n",
    "model_adaline.fit(X_train, y_train)\n",
    "predictions_ada_nonlinear2=model_adaline.predict(X_test)\n",
    "print(classification_report(y_test,predictions_ada_nonlinear2))"
   ]
  },
  {
   "cell_type": "code",
   "execution_count": null,
   "id": "299c77af",
   "metadata": {},
   "outputs": [],
   "source": [
    "#Training Adaline model with two linearly separable features"
   ]
  },
  {
   "cell_type": "code",
   "execution_count": 63,
   "id": "549e9436",
   "metadata": {},
   "outputs": [
    {
     "name": "stdout",
     "output_type": "stream",
     "text": [
      "              precision    recall  f1-score   support\n",
      "\n",
      "          -1       0.00      0.00      0.00       0.0\n",
      "           0       0.00      0.00      0.00       6.0\n",
      "           1       0.00      0.00      0.00      14.0\n",
      "\n",
      "    accuracy                           0.00      20.0\n",
      "   macro avg       0.00      0.00      0.00      20.0\n",
      "weighted avg       0.00      0.00      0.00      20.0\n",
      "\n"
     ]
    },
    {
     "name": "stderr",
     "output_type": "stream",
     "text": [
      "/Users/danielaquijano/opt/anaconda3/lib/python3.8/site-packages/sklearn/metrics/_classification.py:1245: UndefinedMetricWarning: Precision and F-score are ill-defined and being set to 0.0 in labels with no predicted samples. Use `zero_division` parameter to control this behavior.\n",
      "  _warn_prf(average, modifier, msg_start, len(result))\n",
      "/Users/danielaquijano/opt/anaconda3/lib/python3.8/site-packages/sklearn/metrics/_classification.py:1245: UndefinedMetricWarning: Recall and F-score are ill-defined and being set to 0.0 in labels with no true samples. Use `zero_division` parameter to control this behavior.\n",
      "  _warn_prf(average, modifier, msg_start, len(result))\n",
      "/Users/danielaquijano/opt/anaconda3/lib/python3.8/site-packages/sklearn/metrics/_classification.py:1245: UndefinedMetricWarning: Precision and F-score are ill-defined and being set to 0.0 in labels with no predicted samples. Use `zero_division` parameter to control this behavior.\n",
      "  _warn_prf(average, modifier, msg_start, len(result))\n",
      "/Users/danielaquijano/opt/anaconda3/lib/python3.8/site-packages/sklearn/metrics/_classification.py:1245: UndefinedMetricWarning: Recall and F-score are ill-defined and being set to 0.0 in labels with no true samples. Use `zero_division` parameter to control this behavior.\n",
      "  _warn_prf(average, modifier, msg_start, len(result))\n",
      "/Users/danielaquijano/opt/anaconda3/lib/python3.8/site-packages/sklearn/metrics/_classification.py:1245: UndefinedMetricWarning: Precision and F-score are ill-defined and being set to 0.0 in labels with no predicted samples. Use `zero_division` parameter to control this behavior.\n",
      "  _warn_prf(average, modifier, msg_start, len(result))\n",
      "/Users/danielaquijano/opt/anaconda3/lib/python3.8/site-packages/sklearn/metrics/_classification.py:1245: UndefinedMetricWarning: Recall and F-score are ill-defined and being set to 0.0 in labels with no true samples. Use `zero_division` parameter to control this behavior.\n",
      "  _warn_prf(average, modifier, msg_start, len(result))\n"
     ]
    }
   ],
   "source": [
    "X_train, X_test, y_train, y_test=train_test_split(X1, y, test_size=0.20)\n",
    "model_adaline = AdalineGD()\n",
    "model_adaline.fit(X_train, y_train)\n",
    "predictions_ada_linear2=model_adaline.predict(X_test)\n",
    "print(classification_report(y_test,predictions_ada_linear2))"
   ]
  }
 ],
 "metadata": {
  "kernelspec": {
   "display_name": "Python 3 (ipykernel)",
   "language": "python",
   "name": "python3"
  },
  "language_info": {
   "codemirror_mode": {
    "name": "ipython",
    "version": 3
   },
   "file_extension": ".py",
   "mimetype": "text/x-python",
   "name": "python",
   "nbconvert_exporter": "python",
   "pygments_lexer": "ipython3",
   "version": "3.8.8"
  }
 },
 "nbformat": 4,
 "nbformat_minor": 5
}

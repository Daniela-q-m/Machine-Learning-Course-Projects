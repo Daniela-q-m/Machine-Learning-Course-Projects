{
 "cells": [
  {
   "cell_type": "markdown",
   "id": "fe106bf9",
   "metadata": {},
   "source": [
    "# Daniela Quijano, Machine Learning"
   ]
  },
  {
   "cell_type": "markdown",
   "id": "5c09c993",
   "metadata": {},
   "source": [
    "The purpose of this notebook is to apply the logistic regression model to the iris dataset. Please see the bottom of the notebook for discussion."
   ]
  },
  {
   "cell_type": "code",
   "execution_count": 185,
   "id": "a02c8b45",
   "metadata": {},
   "outputs": [],
   "source": [
    "import pandas as pd\n",
    "import numpy as np\n",
    "import matplotlib.pyplot as plt\n",
    "import seaborn as sns\n",
    "%matplotlib inline\n",
    "from sklearn.linear_model import LogisticRegression\n",
    "from sklearn.model_selection import train_test_split\n",
    "from sklearn.metrics import classification_report\n",
    "from sklearn.metrics import confusion_matrix\n"
   ]
  },
  {
   "cell_type": "code",
   "execution_count": 186,
   "id": "8c9cc126",
   "metadata": {},
   "outputs": [
    {
     "data": {
      "text/html": [
       "<div>\n",
       "<style scoped>\n",
       "    .dataframe tbody tr th:only-of-type {\n",
       "        vertical-align: middle;\n",
       "    }\n",
       "\n",
       "    .dataframe tbody tr th {\n",
       "        vertical-align: top;\n",
       "    }\n",
       "\n",
       "    .dataframe thead th {\n",
       "        text-align: right;\n",
       "    }\n",
       "</style>\n",
       "<table border=\"1\" class=\"dataframe\">\n",
       "  <thead>\n",
       "    <tr style=\"text-align: right;\">\n",
       "      <th></th>\n",
       "      <th>sepal.length</th>\n",
       "      <th>sepal.width</th>\n",
       "      <th>petal.length</th>\n",
       "      <th>petal.width</th>\n",
       "      <th>variety</th>\n",
       "    </tr>\n",
       "  </thead>\n",
       "  <tbody>\n",
       "    <tr>\n",
       "      <th>0</th>\n",
       "      <td>5.1</td>\n",
       "      <td>3.5</td>\n",
       "      <td>1.4</td>\n",
       "      <td>0.2</td>\n",
       "      <td>Setosa</td>\n",
       "    </tr>\n",
       "    <tr>\n",
       "      <th>1</th>\n",
       "      <td>4.9</td>\n",
       "      <td>3.0</td>\n",
       "      <td>1.4</td>\n",
       "      <td>0.2</td>\n",
       "      <td>Setosa</td>\n",
       "    </tr>\n",
       "    <tr>\n",
       "      <th>2</th>\n",
       "      <td>4.7</td>\n",
       "      <td>3.2</td>\n",
       "      <td>1.3</td>\n",
       "      <td>0.2</td>\n",
       "      <td>Setosa</td>\n",
       "    </tr>\n",
       "    <tr>\n",
       "      <th>3</th>\n",
       "      <td>4.6</td>\n",
       "      <td>3.1</td>\n",
       "      <td>1.5</td>\n",
       "      <td>0.2</td>\n",
       "      <td>Setosa</td>\n",
       "    </tr>\n",
       "    <tr>\n",
       "      <th>4</th>\n",
       "      <td>5.0</td>\n",
       "      <td>3.6</td>\n",
       "      <td>1.4</td>\n",
       "      <td>0.2</td>\n",
       "      <td>Setosa</td>\n",
       "    </tr>\n",
       "  </tbody>\n",
       "</table>\n",
       "</div>"
      ],
      "text/plain": [
       "   sepal.length  sepal.width  petal.length  petal.width variety\n",
       "0           5.1          3.5           1.4          0.2  Setosa\n",
       "1           4.9          3.0           1.4          0.2  Setosa\n",
       "2           4.7          3.2           1.3          0.2  Setosa\n",
       "3           4.6          3.1           1.5          0.2  Setosa\n",
       "4           5.0          3.6           1.4          0.2  Setosa"
      ]
     },
     "execution_count": 186,
     "metadata": {},
     "output_type": "execute_result"
    }
   ],
   "source": [
    "#Import data nad print first few lines\n",
    "iris=pd.read_csv('/Users/danielaquijano/Documents/GitHub/Machine-Learning-Course-Projects/sourcefiles/IRIS.csv')\n",
    "iris.head()"
   ]
  },
  {
   "cell_type": "code",
   "execution_count": 22,
   "id": "454ab61f",
   "metadata": {},
   "outputs": [
    {
     "name": "stdout",
     "output_type": "stream",
     "text": [
      "<class 'pandas.core.frame.DataFrame'>\n",
      "RangeIndex: 150 entries, 0 to 149\n",
      "Data columns (total 5 columns):\n",
      " #   Column        Non-Null Count  Dtype  \n",
      "---  ------        --------------  -----  \n",
      " 0   sepal.length  150 non-null    float64\n",
      " 1   sepal.width   150 non-null    float64\n",
      " 2   petal.length  150 non-null    float64\n",
      " 3   petal.width   150 non-null    float64\n",
      " 4   variety       150 non-null    object \n",
      "dtypes: float64(4), object(1)\n",
      "memory usage: 6.0+ KB\n"
     ]
    }
   ],
   "source": [
    "iris.info() #Obtain more information about the dataframe"
   ]
  },
  {
   "cell_type": "code",
   "execution_count": 23,
   "id": "7ac862d2",
   "metadata": {},
   "outputs": [
    {
     "data": {
      "text/plain": [
       "<seaborn.axisgrid.PairGrid at 0x11b5c3a00>"
      ]
     },
     "execution_count": 23,
     "metadata": {},
     "output_type": "execute_result"
    },
    {
     "data": {
      "image/png": "[encoded data removed]",
      "text/plain": [
       "<Figure size 805x720 with 20 Axes>"
      ]
     },
     "metadata": {
      "needs_background": "light"
     },
     "output_type": "display_data"
    }
   ],
   "source": [
    "sns.pairplot(iris,hue='variety',palette='rocket') #Visualize the data all at once with a pairplot\n",
    "#We can see here that the features are clustered which will help the model make more accurate predictions"
   ]
  },
  {
   "cell_type": "markdown",
   "id": "c091e0ff",
   "metadata": {},
   "source": [
    "## Train model with four features"
   ]
  },
  {
   "cell_type": "code",
   "execution_count": 97,
   "id": "eb20cfa1",
   "metadata": {},
   "outputs": [],
   "source": [
    "X_four=iris.drop('variety',axis=1) #Features, drop the target column since we are trying to predict variety\n",
    "y_four=iris['variety'] #value that is to be predicted"
   ]
  },
  {
   "cell_type": "code",
   "execution_count": 98,
   "id": "d0e893b0",
   "metadata": {},
   "outputs": [
    {
     "name": "stderr",
     "output_type": "stream",
     "text": [
      "/Users/danielaquijano/opt/anaconda3/lib/python3.8/site-packages/sklearn/linear_model/_logistic.py:763: ConvergenceWarning: lbfgs failed to converge (status=1):\n",
      "STOP: TOTAL NO. of ITERATIONS REACHED LIMIT.\n",
      "\n",
      "Increase the number of iterations (max_iter) or scale the data as shown in:\n",
      "    https://scikit-learn.org/stable/modules/preprocessing.html\n",
      "Please also refer to the documentation for alternative solver options:\n",
      "    https://scikit-learn.org/stable/modules/linear_model.html#logistic-regression\n",
      "  n_iter_i = _check_optimize_result(\n"
     ]
    },
    {
     "data": {
      "text/plain": [
       "LogisticRegression()"
      ]
     },
     "execution_count": 98,
     "metadata": {},
     "output_type": "execute_result"
    }
   ],
   "source": [
    "#using 30% of data in iris as the test size \n",
    "X_train, X_test, y_train, y_test = train_test_split(X_four, \n",
    "                                                    y_four, test_size=0.30, random_state=101)\n",
    "#Arbitrarily picked random state \n",
    "logmodel = LogisticRegression()#Create instance of logistic regression model\n",
    "logmodel.fit(X_train,y_train) #fit training to model"
   ]
  },
  {
   "cell_type": "code",
   "execution_count": 99,
   "id": "3201ce6e",
   "metadata": {},
   "outputs": [
    {
     "name": "stdout",
     "output_type": "stream",
     "text": [
      "Using four features yields to 98% classification success:\n",
      "              precision    recall  f1-score   support\n",
      "\n",
      "      Setosa       1.00      1.00      1.00        13\n",
      "  Versicolor       1.00      0.95      0.97        20\n",
      "   Virginica       0.92      1.00      0.96        12\n",
      "\n",
      "    accuracy                           0.98        45\n",
      "   macro avg       0.97      0.98      0.98        45\n",
      "weighted avg       0.98      0.98      0.98        45\n",
      "\n"
     ]
    }
   ],
   "source": [
    "predict_four = logmodel.predict(X_test)  #store model predictions in a variable \n",
    "print('Using four features yields to 98% classification success:')\n",
    "print(classification_report(y_test,predict_four)) #classification report summarizes model performance\n"
   ]
  },
  {
   "cell_type": "code",
   "execution_count": null,
   "id": "ebe4014c",
   "metadata": {},
   "outputs": [],
   "source": [
    "Regularization, L1"
   ]
  },
  {
   "cell_type": "code",
   "execution_count": 267,
   "id": "9cd7b05a",
   "metadata": {},
   "outputs": [
    {
     "name": "stdout",
     "output_type": "stream",
     "text": [
      "              precision    recall  f1-score   support\n",
      "\n",
      "      Setosa       1.00      1.00      1.00        13\n",
      "  Versicolor       0.95      0.95      0.95        20\n",
      "   Virginica       0.92      0.92      0.92        12\n",
      "\n",
      "    accuracy                           0.96        45\n",
      "   macro avg       0.96      0.96      0.96        45\n",
      "weighted avg       0.96      0.96      0.96        45\n",
      "\n"
     ]
    },
    {
     "name": "stderr",
     "output_type": "stream",
     "text": [
      "/Users/danielaquijano/opt/anaconda3/lib/python3.8/site-packages/sklearn/svm/_base.py:985: ConvergenceWarning: Liblinear failed to converge, increase the number of iterations.\n",
      "  warnings.warn(\"Liblinear failed to converge, increase \"\n"
     ]
    }
   ],
   "source": [
    "logmodel= LogisticRegression(penalty=\"l1\", C=100, solver='liblinear' )\n",
    "#Have to change solver to liblinear since it supports L1 regularization\n",
    "logmodel.fit(X_train,y_train)\n",
    "predict = logmodel.predict(X_test)\n",
    "print(classification_report(y_test,predict))"
   ]
  },
  {
   "cell_type": "code",
   "execution_count": 268,
   "id": "b79a7aa8",
   "metadata": {},
   "outputs": [
    {
     "name": "stdout",
     "output_type": "stream",
     "text": [
      "              precision    recall  f1-score   support\n",
      "\n",
      "      Setosa       1.00      1.00      1.00        13\n",
      "  Versicolor       0.00      0.00      0.00        20\n",
      "   Virginica       0.38      1.00      0.55        12\n",
      "\n",
      "    accuracy                           0.56        45\n",
      "   macro avg       0.46      0.67      0.52        45\n",
      "weighted avg       0.39      0.56      0.43        45\n",
      "\n"
     ]
    },
    {
     "name": "stderr",
     "output_type": "stream",
     "text": [
      "/Users/danielaquijano/opt/anaconda3/lib/python3.8/site-packages/sklearn/metrics/_classification.py:1245: UndefinedMetricWarning: Precision and F-score are ill-defined and being set to 0.0 in labels with no predicted samples. Use `zero_division` parameter to control this behavior.\n",
      "  _warn_prf(average, modifier, msg_start, len(result))\n",
      "/Users/danielaquijano/opt/anaconda3/lib/python3.8/site-packages/sklearn/metrics/_classification.py:1245: UndefinedMetricWarning: Precision and F-score are ill-defined and being set to 0.0 in labels with no predicted samples. Use `zero_division` parameter to control this behavior.\n",
      "  _warn_prf(average, modifier, msg_start, len(result))\n",
      "/Users/danielaquijano/opt/anaconda3/lib/python3.8/site-packages/sklearn/metrics/_classification.py:1245: UndefinedMetricWarning: Precision and F-score are ill-defined and being set to 0.0 in labels with no predicted samples. Use `zero_division` parameter to control this behavior.\n",
      "  _warn_prf(average, modifier, msg_start, len(result))\n"
     ]
    }
   ],
   "source": [
    "logmodel= LogisticRegression(penalty=\"l1\", C=0.1, solver='liblinear' )\n",
    "#Have to change solver to liblinear since it supports L1 regularization\n",
    "logmodel.fit(X_train,y_train)\n",
    "predict = logmodel.predict(X_test)\n",
    "print(classification_report(y_test,predict))"
   ]
  },
  {
   "cell_type": "code",
   "execution_count": null,
   "id": "b4d09c3e",
   "metadata": {},
   "outputs": [],
   "source": [
    "Regualrization, l2"
   ]
  },
  {
   "cell_type": "code",
   "execution_count": 269,
   "id": "cc0e3a08",
   "metadata": {},
   "outputs": [
    {
     "name": "stdout",
     "output_type": "stream",
     "text": [
      "              precision    recall  f1-score   support\n",
      "\n",
      "      Setosa       1.00      1.00      1.00        13\n",
      "  Versicolor       1.00      0.95      0.97        20\n",
      "   Virginica       0.92      1.00      0.96        12\n",
      "\n",
      "    accuracy                           0.98        45\n",
      "   macro avg       0.97      0.98      0.98        45\n",
      "weighted avg       0.98      0.98      0.98        45\n",
      "\n"
     ]
    }
   ],
   "source": [
    "logmodel = LogisticRegression(penalty=\"l2\", C=0.1)\n",
    "logmodel.fit(X_train,y_train)\n",
    "predict = logmodel.predict(X_test)\n",
    "print(classification_report(y_test,predict))"
   ]
  },
  {
   "cell_type": "code",
   "execution_count": 270,
   "id": "d6d8c71d",
   "metadata": {},
   "outputs": [
    {
     "name": "stdout",
     "output_type": "stream",
     "text": [
      "              precision    recall  f1-score   support\n",
      "\n",
      "      Setosa       1.00      1.00      1.00        13\n",
      "  Versicolor       1.00      0.95      0.97        20\n",
      "   Virginica       0.92      1.00      0.96        12\n",
      "\n",
      "    accuracy                           0.98        45\n",
      "   macro avg       0.97      0.98      0.98        45\n",
      "weighted avg       0.98      0.98      0.98        45\n",
      "\n"
     ]
    }
   ],
   "source": [
    "logmodel = LogisticRegression(penalty=\"l2\", C=100)\n",
    "logmodel.fit(X_train,y_train)\n",
    "predict = logmodel.predict(X_test)\n",
    "print(classification_report(y_test,predict))"
   ]
  },
  {
   "cell_type": "markdown",
   "id": "d94ea4db",
   "metadata": {},
   "source": [
    "## Train Model with all four cases of using three features at a time"
   ]
  },
  {
   "cell_type": "markdown",
   "id": "dea8cc17",
   "metadata": {},
   "source": [
    "### Sepal length, sepal width petal length"
   ]
  },
  {
   "cell_type": "code",
   "execution_count": 187,
   "id": "c0b189e3",
   "metadata": {},
   "outputs": [
    {
     "data": {
      "text/html": [
       "<div>\n",
       "<style scoped>\n",
       "    .dataframe tbody tr th:only-of-type {\n",
       "        vertical-align: middle;\n",
       "    }\n",
       "\n",
       "    .dataframe tbody tr th {\n",
       "        vertical-align: top;\n",
       "    }\n",
       "\n",
       "    .dataframe thead th {\n",
       "        text-align: right;\n",
       "    }\n",
       "</style>\n",
       "<table border=\"1\" class=\"dataframe\">\n",
       "  <thead>\n",
       "    <tr style=\"text-align: right;\">\n",
       "      <th></th>\n",
       "      <th>sepal.length</th>\n",
       "      <th>sepal.width</th>\n",
       "      <th>petal.length</th>\n",
       "      <th>variety</th>\n",
       "    </tr>\n",
       "  </thead>\n",
       "  <tbody>\n",
       "    <tr>\n",
       "      <th>0</th>\n",
       "      <td>5.1</td>\n",
       "      <td>3.5</td>\n",
       "      <td>1.4</td>\n",
       "      <td>Setosa</td>\n",
       "    </tr>\n",
       "    <tr>\n",
       "      <th>1</th>\n",
       "      <td>4.9</td>\n",
       "      <td>3.0</td>\n",
       "      <td>1.4</td>\n",
       "      <td>Setosa</td>\n",
       "    </tr>\n",
       "    <tr>\n",
       "      <th>2</th>\n",
       "      <td>4.7</td>\n",
       "      <td>3.2</td>\n",
       "      <td>1.3</td>\n",
       "      <td>Setosa</td>\n",
       "    </tr>\n",
       "    <tr>\n",
       "      <th>3</th>\n",
       "      <td>4.6</td>\n",
       "      <td>3.1</td>\n",
       "      <td>1.5</td>\n",
       "      <td>Setosa</td>\n",
       "    </tr>\n",
       "    <tr>\n",
       "      <th>4</th>\n",
       "      <td>5.0</td>\n",
       "      <td>3.6</td>\n",
       "      <td>1.4</td>\n",
       "      <td>Setosa</td>\n",
       "    </tr>\n",
       "  </tbody>\n",
       "</table>\n",
       "</div>"
      ],
      "text/plain": [
       "   sepal.length  sepal.width  petal.length variety\n",
       "0           5.1          3.5           1.4  Setosa\n",
       "1           4.9          3.0           1.4  Setosa\n",
       "2           4.7          3.2           1.3  Setosa\n",
       "3           4.6          3.1           1.5  Setosa\n",
       "4           5.0          3.6           1.4  Setosa"
      ]
     },
     "execution_count": 187,
     "metadata": {},
     "output_type": "execute_result"
    }
   ],
   "source": [
    "iris3a=iris.drop('petal.width', axis=1)\n",
    "X3a=iris3a.drop('variety', axis=1) #Eliminate target and feature not being used\n",
    "y3a=iris3a['variety']\n",
    "iris3a.head()"
   ]
  },
  {
   "cell_type": "code",
   "execution_count": 188,
   "id": "70c69a71",
   "metadata": {},
   "outputs": [
    {
     "data": {
      "text/plain": [
       "LogisticRegression()"
      ]
     },
     "execution_count": 188,
     "metadata": {},
     "output_type": "execute_result"
    }
   ],
   "source": [
    "#using 30% of data in iris as the test size \n",
    "X_train, X_test, y_train, y_test = train_test_split(X3a, \n",
    "                                                    y3a, test_size=0.30, random_state=101)\n",
    "\n",
    "logmodel_3a= LogisticRegression()#Create instance of logistic regression model\n",
    "logmodel_3a.fit(X_train,y_train) #fit training to model"
   ]
  },
  {
   "cell_type": "code",
   "execution_count": 189,
   "id": "192bb6f8",
   "metadata": {},
   "outputs": [
    {
     "name": "stdout",
     "output_type": "stream",
     "text": [
      "Using sepal length, sepal width and petal length yields to 98% classification success:\n",
      "              precision    recall  f1-score   support\n",
      "\n",
      "      Setosa       1.00      1.00      1.00        13\n",
      "  Versicolor       1.00      0.95      0.97        20\n",
      "   Virginica       0.92      1.00      0.96        12\n",
      "\n",
      "    accuracy                           0.98        45\n",
      "   macro avg       0.97      0.98      0.98        45\n",
      "weighted avg       0.98      0.98      0.98        45\n",
      "\n"
     ]
    }
   ],
   "source": [
    "predict_3a = logmodel_3a.predict(X_test)  #store model predictions in a variable \n",
    "print('Using sepal length, sepal width and petal length yields to 98% classification success:')\n",
    "print(classification_report(y_test,predict_3a))\n"
   ]
  },
  {
   "cell_type": "markdown",
   "id": "13cdaa3b",
   "metadata": {},
   "source": [
    "Changing Regularization Paramenters"
   ]
  },
  {
   "cell_type": "markdown",
   "id": "6b074187",
   "metadata": {},
   "source": [
    "L2 Regularization"
   ]
  },
  {
   "cell_type": "code",
   "execution_count": 198,
   "id": "d481660f",
   "metadata": {},
   "outputs": [
    {
     "name": "stdout",
     "output_type": "stream",
     "text": [
      "              precision    recall  f1-score   support\n",
      "\n",
      "      Setosa       1.00      1.00      1.00        13\n",
      "  Versicolor       0.95      1.00      0.98        20\n",
      "   Virginica       1.00      0.92      0.96        12\n",
      "\n",
      "    accuracy                           0.98        45\n",
      "   macro avg       0.98      0.97      0.98        45\n",
      "weighted avg       0.98      0.98      0.98        45\n",
      "\n"
     ]
    },
    {
     "name": "stderr",
     "output_type": "stream",
     "text": [
      "/Users/danielaquijano/opt/anaconda3/lib/python3.8/site-packages/sklearn/linear_model/_logistic.py:763: ConvergenceWarning: lbfgs failed to converge (status=1):\n",
      "STOP: TOTAL NO. of ITERATIONS REACHED LIMIT.\n",
      "\n",
      "Increase the number of iterations (max_iter) or scale the data as shown in:\n",
      "    https://scikit-learn.org/stable/modules/preprocessing.html\n",
      "Please also refer to the documentation for alternative solver options:\n",
      "    https://scikit-learn.org/stable/modules/linear_model.html#logistic-regression\n",
      "  n_iter_i = _check_optimize_result(\n"
     ]
    }
   ],
   "source": [
    "#Regularization is a technique used to prevent overfitting model\n",
    "logmodel_3a = LogisticRegression(penalty=\"l2\", C=100)\n",
    "logmodel_3a.fit(X_train,y_train)\n",
    "predict_3a = logmodel_3a.predict(X_test)\n",
    "print(classification_report(y_test,predict_3a))\n",
    "\n"
   ]
  },
  {
   "cell_type": "code",
   "execution_count": 199,
   "id": "e8cdc6b8",
   "metadata": {},
   "outputs": [
    {
     "name": "stdout",
     "output_type": "stream",
     "text": [
      "              precision    recall  f1-score   support\n",
      "\n",
      "      Setosa       1.00      1.00      1.00        13\n",
      "  Versicolor       1.00      0.85      0.92        20\n",
      "   Virginica       0.80      1.00      0.89        12\n",
      "\n",
      "    accuracy                           0.93        45\n",
      "   macro avg       0.93      0.95      0.94        45\n",
      "weighted avg       0.95      0.93      0.93        45\n",
      "\n"
     ]
    }
   ],
   "source": [
    "#Change C to 1\n",
    "logmodel_3a = LogisticRegression(penalty=\"l2\", C=0.1)\n",
    "logmodel_3a.fit(X_train,y_train)\n",
    "predict_3a = logmodel_3a.predict(X_test)\n",
    "print(classification_report(y_test,predict_3a))"
   ]
  },
  {
   "cell_type": "markdown",
   "id": "7f976666",
   "metadata": {},
   "source": [
    "L1 Regularization"
   ]
  },
  {
   "cell_type": "code",
   "execution_count": 202,
   "id": "15c05c77",
   "metadata": {},
   "outputs": [
    {
     "name": "stdout",
     "output_type": "stream",
     "text": [
      "              precision    recall  f1-score   support\n",
      "\n",
      "      Setosa       1.00      1.00      1.00        13\n",
      "  Versicolor       0.95      0.95      0.95        20\n",
      "   Virginica       0.92      0.92      0.92        12\n",
      "\n",
      "    accuracy                           0.96        45\n",
      "   macro avg       0.96      0.96      0.96        45\n",
      "weighted avg       0.96      0.96      0.96        45\n",
      "\n"
     ]
    },
    {
     "name": "stderr",
     "output_type": "stream",
     "text": [
      "/Users/danielaquijano/opt/anaconda3/lib/python3.8/site-packages/sklearn/svm/_base.py:985: ConvergenceWarning: Liblinear failed to converge, increase the number of iterations.\n",
      "  warnings.warn(\"Liblinear failed to converge, increase \"\n"
     ]
    }
   ],
   "source": [
    "logmodel_3a = LogisticRegression(penalty=\"l1\", C=100, solver='liblinear' )\n",
    "#Have to change solver to liblinear since it supports L1 regularization\n",
    "logmodel_3a.fit(X_train,y_train)\n",
    "predict_3a = logmodel_3a.predict(X_test)\n",
    "print(classification_report(y_test,predict_3a))"
   ]
  },
  {
   "cell_type": "code",
   "execution_count": 203,
   "id": "0dc10b09",
   "metadata": {},
   "outputs": [
    {
     "name": "stdout",
     "output_type": "stream",
     "text": [
      "              precision    recall  f1-score   support\n",
      "\n",
      "      Setosa       1.00      1.00      1.00        13\n",
      "  Versicolor       0.00      0.00      0.00        20\n",
      "   Virginica       0.38      1.00      0.55        12\n",
      "\n",
      "    accuracy                           0.56        45\n",
      "   macro avg       0.46      0.67      0.52        45\n",
      "weighted avg       0.39      0.56      0.43        45\n",
      "\n"
     ]
    },
    {
     "name": "stderr",
     "output_type": "stream",
     "text": [
      "/Users/danielaquijano/opt/anaconda3/lib/python3.8/site-packages/sklearn/metrics/_classification.py:1245: UndefinedMetricWarning: Precision and F-score are ill-defined and being set to 0.0 in labels with no predicted samples. Use `zero_division` parameter to control this behavior.\n",
      "  _warn_prf(average, modifier, msg_start, len(result))\n",
      "/Users/danielaquijano/opt/anaconda3/lib/python3.8/site-packages/sklearn/metrics/_classification.py:1245: UndefinedMetricWarning: Precision and F-score are ill-defined and being set to 0.0 in labels with no predicted samples. Use `zero_division` parameter to control this behavior.\n",
      "  _warn_prf(average, modifier, msg_start, len(result))\n",
      "/Users/danielaquijano/opt/anaconda3/lib/python3.8/site-packages/sklearn/metrics/_classification.py:1245: UndefinedMetricWarning: Precision and F-score are ill-defined and being set to 0.0 in labels with no predicted samples. Use `zero_division` parameter to control this behavior.\n",
      "  _warn_prf(average, modifier, msg_start, len(result))\n"
     ]
    }
   ],
   "source": [
    "logmodel_3a = LogisticRegression(penalty=\"l1\", C=0.1, solver='liblinear' )\n",
    "logmodel_3a.fit(X_train,y_train)\n",
    "predict_3a = logmodel_3a.predict(X_test)\n",
    "print(classification_report(y_test,predict_3a))"
   ]
  },
  {
   "cell_type": "markdown",
   "id": "63f20a56",
   "metadata": {},
   "source": [
    "### Sepal length, sepal width, petal width"
   ]
  },
  {
   "cell_type": "code",
   "execution_count": 117,
   "id": "d7a13d90",
   "metadata": {},
   "outputs": [
    {
     "data": {
      "text/html": [
       "<div>\n",
       "<style scoped>\n",
       "    .dataframe tbody tr th:only-of-type {\n",
       "        vertical-align: middle;\n",
       "    }\n",
       "\n",
       "    .dataframe tbody tr th {\n",
       "        vertical-align: top;\n",
       "    }\n",
       "\n",
       "    .dataframe thead th {\n",
       "        text-align: right;\n",
       "    }\n",
       "</style>\n",
       "<table border=\"1\" class=\"dataframe\">\n",
       "  <thead>\n",
       "    <tr style=\"text-align: right;\">\n",
       "      <th></th>\n",
       "      <th>sepal.length</th>\n",
       "      <th>sepal.width</th>\n",
       "      <th>petal.width</th>\n",
       "      <th>variety</th>\n",
       "    </tr>\n",
       "  </thead>\n",
       "  <tbody>\n",
       "    <tr>\n",
       "      <th>0</th>\n",
       "      <td>5.1</td>\n",
       "      <td>3.5</td>\n",
       "      <td>0.2</td>\n",
       "      <td>Setosa</td>\n",
       "    </tr>\n",
       "    <tr>\n",
       "      <th>1</th>\n",
       "      <td>4.9</td>\n",
       "      <td>3.0</td>\n",
       "      <td>0.2</td>\n",
       "      <td>Setosa</td>\n",
       "    </tr>\n",
       "    <tr>\n",
       "      <th>2</th>\n",
       "      <td>4.7</td>\n",
       "      <td>3.2</td>\n",
       "      <td>0.2</td>\n",
       "      <td>Setosa</td>\n",
       "    </tr>\n",
       "    <tr>\n",
       "      <th>3</th>\n",
       "      <td>4.6</td>\n",
       "      <td>3.1</td>\n",
       "      <td>0.2</td>\n",
       "      <td>Setosa</td>\n",
       "    </tr>\n",
       "    <tr>\n",
       "      <th>4</th>\n",
       "      <td>5.0</td>\n",
       "      <td>3.6</td>\n",
       "      <td>0.2</td>\n",
       "      <td>Setosa</td>\n",
       "    </tr>\n",
       "  </tbody>\n",
       "</table>\n",
       "</div>"
      ],
      "text/plain": [
       "   sepal.length  sepal.width  petal.width variety\n",
       "0           5.1          3.5          0.2  Setosa\n",
       "1           4.9          3.0          0.2  Setosa\n",
       "2           4.7          3.2          0.2  Setosa\n",
       "3           4.6          3.1          0.2  Setosa\n",
       "4           5.0          3.6          0.2  Setosa"
      ]
     },
     "execution_count": 117,
     "metadata": {},
     "output_type": "execute_result"
    }
   ],
   "source": [
    "iris3b=iris.drop('petal.length', axis=1)\n",
    "X3b=iris3b.drop('variety', axis=1) #Eliminate target and feature not being used\n",
    "y3b=iris3b['variety']\n",
    "iris3b.head()"
   ]
  },
  {
   "cell_type": "code",
   "execution_count": 118,
   "id": "8294f4b5",
   "metadata": {},
   "outputs": [
    {
     "data": {
      "text/plain": [
       "LogisticRegression()"
      ]
     },
     "execution_count": 118,
     "metadata": {},
     "output_type": "execute_result"
    }
   ],
   "source": [
    "#using 30% of data in iris as the test size \n",
    "X_train, X_test, y_train, y_test = train_test_split(X3b, \n",
    "                                                    y3b, test_size=0.30, random_state=101)\n",
    "\n",
    "logmodel_3b= LogisticRegression()#Create instance of logistic regression model\n",
    "logmodel_3b.fit(X_train,y_train) #fit training to model"
   ]
  },
  {
   "cell_type": "code",
   "execution_count": 121,
   "id": "1056fd49",
   "metadata": {},
   "outputs": [
    {
     "name": "stdout",
     "output_type": "stream",
     "text": [
      "Using sepal length, sepal width and petal width yields to 96% classification success:\n",
      "              precision    recall  f1-score   support\n",
      "\n",
      "      Setosa       1.00      1.00      1.00        13\n",
      "  Versicolor       0.95      0.95      0.95        20\n",
      "   Virginica       0.92      0.92      0.92        12\n",
      "\n",
      "    accuracy                           0.96        45\n",
      "   macro avg       0.96      0.96      0.96        45\n",
      "weighted avg       0.96      0.96      0.96        45\n",
      "\n"
     ]
    }
   ],
   "source": [
    "predict_3b = logmodel_3b.predict(X_test)  #store model predictions in a variable \n",
    "print('Using sepal length, sepal width and petal width yields to 96% classification success:')\n",
    "print(classification_report(y_test,predict_3b))\n"
   ]
  },
  {
   "cell_type": "code",
   "execution_count": null,
   "id": "56f06874",
   "metadata": {},
   "outputs": [],
   "source": [
    "Regularization, L2"
   ]
  },
  {
   "cell_type": "code",
   "execution_count": 204,
   "id": "a790245a",
   "metadata": {},
   "outputs": [
    {
     "name": "stdout",
     "output_type": "stream",
     "text": [
      "              precision    recall  f1-score   support\n",
      "\n",
      "      Setosa       1.00      1.00      1.00        13\n",
      "  Versicolor       0.95      1.00      0.98        20\n",
      "   Virginica       1.00      0.92      0.96        12\n",
      "\n",
      "    accuracy                           0.98        45\n",
      "   macro avg       0.98      0.97      0.98        45\n",
      "weighted avg       0.98      0.98      0.98        45\n",
      "\n"
     ]
    },
    {
     "name": "stderr",
     "output_type": "stream",
     "text": [
      "/Users/danielaquijano/opt/anaconda3/lib/python3.8/site-packages/sklearn/linear_model/_logistic.py:763: ConvergenceWarning: lbfgs failed to converge (status=1):\n",
      "STOP: TOTAL NO. of ITERATIONS REACHED LIMIT.\n",
      "\n",
      "Increase the number of iterations (max_iter) or scale the data as shown in:\n",
      "    https://scikit-learn.org/stable/modules/preprocessing.html\n",
      "Please also refer to the documentation for alternative solver options:\n",
      "    https://scikit-learn.org/stable/modules/linear_model.html#logistic-regression\n",
      "  n_iter_i = _check_optimize_result(\n"
     ]
    }
   ],
   "source": [
    "logmodel_3b = LogisticRegression(penalty=\"l2\", C=100)\n",
    "logmodel_3b.fit(X_train,y_train)\n",
    "predict_3b = logmodel_3b.predict(X_test)\n",
    "print(classification_report(y_test,predict_3b))\n"
   ]
  },
  {
   "cell_type": "code",
   "execution_count": 205,
   "id": "58a6f0d6",
   "metadata": {},
   "outputs": [
    {
     "name": "stdout",
     "output_type": "stream",
     "text": [
      "              precision    recall  f1-score   support\n",
      "\n",
      "      Setosa       1.00      1.00      1.00        13\n",
      "  Versicolor       1.00      0.85      0.92        20\n",
      "   Virginica       0.80      1.00      0.89        12\n",
      "\n",
      "    accuracy                           0.93        45\n",
      "   macro avg       0.93      0.95      0.94        45\n",
      "weighted avg       0.95      0.93      0.93        45\n",
      "\n"
     ]
    }
   ],
   "source": [
    "logmodel_3b = LogisticRegression(penalty=\"l2\", C=0.1)\n",
    "logmodel_3b.fit(X_train,y_train)\n",
    "predict_3b = logmodel_3b.predict(X_test)\n",
    "print(classification_report(y_test,predict_3b))"
   ]
  },
  {
   "cell_type": "markdown",
   "id": "28faa8ac",
   "metadata": {},
   "source": [
    "Regularization L1"
   ]
  },
  {
   "cell_type": "code",
   "execution_count": 206,
   "id": "31d8540e",
   "metadata": {},
   "outputs": [
    {
     "name": "stdout",
     "output_type": "stream",
     "text": [
      "              precision    recall  f1-score   support\n",
      "\n",
      "      Setosa       1.00      1.00      1.00        13\n",
      "  Versicolor       0.95      0.95      0.95        20\n",
      "   Virginica       0.92      0.92      0.92        12\n",
      "\n",
      "    accuracy                           0.96        45\n",
      "   macro avg       0.96      0.96      0.96        45\n",
      "weighted avg       0.96      0.96      0.96        45\n",
      "\n"
     ]
    }
   ],
   "source": [
    "logmodel_3b = LogisticRegression(penalty=\"l1\", C=100, solver='liblinear' )\n",
    "#Have to change solver to liblinear since it supports L1 regularization\n",
    "logmodel_3b.fit(X_train,y_train)\n",
    "predict_3b = logmodel_3b.predict(X_test)\n",
    "print(classification_report(y_test,predict_3b))"
   ]
  },
  {
   "cell_type": "code",
   "execution_count": 207,
   "id": "f90ca813",
   "metadata": {},
   "outputs": [
    {
     "name": "stdout",
     "output_type": "stream",
     "text": [
      "              precision    recall  f1-score   support\n",
      "\n",
      "      Setosa       1.00      1.00      1.00        13\n",
      "  Versicolor       0.00      0.00      0.00        20\n",
      "   Virginica       0.38      1.00      0.55        12\n",
      "\n",
      "    accuracy                           0.56        45\n",
      "   macro avg       0.46      0.67      0.52        45\n",
      "weighted avg       0.39      0.56      0.43        45\n",
      "\n"
     ]
    },
    {
     "name": "stderr",
     "output_type": "stream",
     "text": [
      "/Users/danielaquijano/opt/anaconda3/lib/python3.8/site-packages/sklearn/metrics/_classification.py:1245: UndefinedMetricWarning: Precision and F-score are ill-defined and being set to 0.0 in labels with no predicted samples. Use `zero_division` parameter to control this behavior.\n",
      "  _warn_prf(average, modifier, msg_start, len(result))\n",
      "/Users/danielaquijano/opt/anaconda3/lib/python3.8/site-packages/sklearn/metrics/_classification.py:1245: UndefinedMetricWarning: Precision and F-score are ill-defined and being set to 0.0 in labels with no predicted samples. Use `zero_division` parameter to control this behavior.\n",
      "  _warn_prf(average, modifier, msg_start, len(result))\n",
      "/Users/danielaquijano/opt/anaconda3/lib/python3.8/site-packages/sklearn/metrics/_classification.py:1245: UndefinedMetricWarning: Precision and F-score are ill-defined and being set to 0.0 in labels with no predicted samples. Use `zero_division` parameter to control this behavior.\n",
      "  _warn_prf(average, modifier, msg_start, len(result))\n"
     ]
    }
   ],
   "source": [
    "logmodel_3b = LogisticRegression(penalty=\"l1\", C=0.1, solver='liblinear' )\n",
    "#Have to change solver to liblinear since it supports L1 regularization\n",
    "logmodel_3b.fit(X_train,y_train)\n",
    "predict_3b = logmodel_3b.predict(X_test)\n",
    "print(classification_report(y_test,predict_3b))"
   ]
  },
  {
   "cell_type": "markdown",
   "id": "db707fc0",
   "metadata": {},
   "source": [
    "### Sepal length, petal length, petal width"
   ]
  },
  {
   "cell_type": "code",
   "execution_count": 122,
   "id": "2cbe561f",
   "metadata": {},
   "outputs": [
    {
     "data": {
      "text/html": [
       "<div>\n",
       "<style scoped>\n",
       "    .dataframe tbody tr th:only-of-type {\n",
       "        vertical-align: middle;\n",
       "    }\n",
       "\n",
       "    .dataframe tbody tr th {\n",
       "        vertical-align: top;\n",
       "    }\n",
       "\n",
       "    .dataframe thead th {\n",
       "        text-align: right;\n",
       "    }\n",
       "</style>\n",
       "<table border=\"1\" class=\"dataframe\">\n",
       "  <thead>\n",
       "    <tr style=\"text-align: right;\">\n",
       "      <th></th>\n",
       "      <th>sepal.length</th>\n",
       "      <th>petal.length</th>\n",
       "      <th>petal.width</th>\n",
       "      <th>variety</th>\n",
       "    </tr>\n",
       "  </thead>\n",
       "  <tbody>\n",
       "    <tr>\n",
       "      <th>0</th>\n",
       "      <td>5.1</td>\n",
       "      <td>1.4</td>\n",
       "      <td>0.2</td>\n",
       "      <td>Setosa</td>\n",
       "    </tr>\n",
       "    <tr>\n",
       "      <th>1</th>\n",
       "      <td>4.9</td>\n",
       "      <td>1.4</td>\n",
       "      <td>0.2</td>\n",
       "      <td>Setosa</td>\n",
       "    </tr>\n",
       "    <tr>\n",
       "      <th>2</th>\n",
       "      <td>4.7</td>\n",
       "      <td>1.3</td>\n",
       "      <td>0.2</td>\n",
       "      <td>Setosa</td>\n",
       "    </tr>\n",
       "    <tr>\n",
       "      <th>3</th>\n",
       "      <td>4.6</td>\n",
       "      <td>1.5</td>\n",
       "      <td>0.2</td>\n",
       "      <td>Setosa</td>\n",
       "    </tr>\n",
       "    <tr>\n",
       "      <th>4</th>\n",
       "      <td>5.0</td>\n",
       "      <td>1.4</td>\n",
       "      <td>0.2</td>\n",
       "      <td>Setosa</td>\n",
       "    </tr>\n",
       "  </tbody>\n",
       "</table>\n",
       "</div>"
      ],
      "text/plain": [
       "   sepal.length  petal.length  petal.width variety\n",
       "0           5.1           1.4          0.2  Setosa\n",
       "1           4.9           1.4          0.2  Setosa\n",
       "2           4.7           1.3          0.2  Setosa\n",
       "3           4.6           1.5          0.2  Setosa\n",
       "4           5.0           1.4          0.2  Setosa"
      ]
     },
     "execution_count": 122,
     "metadata": {},
     "output_type": "execute_result"
    }
   ],
   "source": [
    "iris3c=iris.drop('sepal.width', axis=1)\n",
    "X3c=iris3c.drop('variety', axis=1) #Eliminate target and feature not being used\n",
    "y3c=iris3c['variety']\n",
    "iris3c.head()"
   ]
  },
  {
   "cell_type": "code",
   "execution_count": 123,
   "id": "db84519e",
   "metadata": {},
   "outputs": [
    {
     "data": {
      "text/plain": [
       "LogisticRegression()"
      ]
     },
     "execution_count": 123,
     "metadata": {},
     "output_type": "execute_result"
    }
   ],
   "source": [
    "#using 30% of data in iris as the test size \n",
    "X_train, X_test, y_train, y_test = train_test_split(X3c, \n",
    "                                                    y3c, test_size=0.30, random_state=101)\n",
    "\n",
    "logmodel_3c= LogisticRegression()#Create instance of logistic regression model\n",
    "logmodel_3c.fit(X_train,y_train) #fit training to model"
   ]
  },
  {
   "cell_type": "code",
   "execution_count": 125,
   "id": "4d4db61e",
   "metadata": {},
   "outputs": [
    {
     "name": "stdout",
     "output_type": "stream",
     "text": [
      "Using sepal length, petal length and petal width yields to 27% classification success:\n",
      "              precision    recall  f1-score   support\n",
      "\n",
      "      Setosa       1.00      1.00      1.00        13\n",
      "  Versicolor       1.00      0.95      0.97        20\n",
      "   Virginica       0.92      1.00      0.96        12\n",
      "\n",
      "    accuracy                           0.98        45\n",
      "   macro avg       0.97      0.98      0.98        45\n",
      "weighted avg       0.98      0.98      0.98        45\n",
      "\n"
     ]
    }
   ],
   "source": [
    "predict_3c = logmodel_3c.predict(X_test)  #store model predictions in a variable \n",
    "print('Using sepal length, petal length and petal width yields to 98% classification success:')\n",
    "print(classification_report(y_test,predict_3c))\n"
   ]
  },
  {
   "cell_type": "code",
   "execution_count": null,
   "id": "f69c0482",
   "metadata": {},
   "outputs": [],
   "source": [
    "Regularization L2"
   ]
  },
  {
   "cell_type": "code",
   "execution_count": 208,
   "id": "adced881",
   "metadata": {},
   "outputs": [
    {
     "name": "stdout",
     "output_type": "stream",
     "text": [
      "              precision    recall  f1-score   support\n",
      "\n",
      "      Setosa       1.00      1.00      1.00        13\n",
      "  Versicolor       0.95      1.00      0.98        20\n",
      "   Virginica       1.00      0.92      0.96        12\n",
      "\n",
      "    accuracy                           0.98        45\n",
      "   macro avg       0.98      0.97      0.98        45\n",
      "weighted avg       0.98      0.98      0.98        45\n",
      "\n"
     ]
    },
    {
     "name": "stderr",
     "output_type": "stream",
     "text": [
      "/Users/danielaquijano/opt/anaconda3/lib/python3.8/site-packages/sklearn/linear_model/_logistic.py:763: ConvergenceWarning: lbfgs failed to converge (status=1):\n",
      "STOP: TOTAL NO. of ITERATIONS REACHED LIMIT.\n",
      "\n",
      "Increase the number of iterations (max_iter) or scale the data as shown in:\n",
      "    https://scikit-learn.org/stable/modules/preprocessing.html\n",
      "Please also refer to the documentation for alternative solver options:\n",
      "    https://scikit-learn.org/stable/modules/linear_model.html#logistic-regression\n",
      "  n_iter_i = _check_optimize_result(\n"
     ]
    }
   ],
   "source": [
    "logmodel_3c = LogisticRegression(penalty=\"l2\", C=100)\n",
    "logmodel_3c.fit(X_train,y_train)\n",
    "predict_3c = logmodel_3c.predict(X_test)\n",
    "print(classification_report(y_test,predict_3c))"
   ]
  },
  {
   "cell_type": "code",
   "execution_count": 209,
   "id": "84f39544",
   "metadata": {},
   "outputs": [
    {
     "name": "stdout",
     "output_type": "stream",
     "text": [
      "              precision    recall  f1-score   support\n",
      "\n",
      "      Setosa       1.00      1.00      1.00        13\n",
      "  Versicolor       1.00      0.85      0.92        20\n",
      "   Virginica       0.80      1.00      0.89        12\n",
      "\n",
      "    accuracy                           0.93        45\n",
      "   macro avg       0.93      0.95      0.94        45\n",
      "weighted avg       0.95      0.93      0.93        45\n",
      "\n"
     ]
    }
   ],
   "source": [
    "logmodel_3c = LogisticRegression(penalty=\"l2\", C=0.1)\n",
    "logmodel_3c.fit(X_train,y_train)\n",
    "predict_3c = logmodel_3c.predict(X_test)\n",
    "print(classification_report(y_test,predict_3c))"
   ]
  },
  {
   "cell_type": "markdown",
   "id": "4db659cc",
   "metadata": {},
   "source": [
    "Regularization L1"
   ]
  },
  {
   "cell_type": "code",
   "execution_count": 211,
   "id": "99247da7",
   "metadata": {},
   "outputs": [
    {
     "name": "stdout",
     "output_type": "stream",
     "text": [
      "              precision    recall  f1-score   support\n",
      "\n",
      "      Setosa       1.00      1.00      1.00        13\n",
      "  Versicolor       0.95      0.95      0.95        20\n",
      "   Virginica       0.92      0.92      0.92        12\n",
      "\n",
      "    accuracy                           0.96        45\n",
      "   macro avg       0.96      0.96      0.96        45\n",
      "weighted avg       0.96      0.96      0.96        45\n",
      "\n"
     ]
    }
   ],
   "source": [
    "logmodel_3c = LogisticRegression(penalty=\"l1\", C=100, solver='liblinear' )\n",
    "#Have to change solver to liblinear since it supports L1 regularization\n",
    "logmodel_3c.fit(X_train,y_train)\n",
    "predict_3c = logmodel_3c.predict(X_test)\n",
    "print(classification_report(y_test,predict_3c))"
   ]
  },
  {
   "cell_type": "code",
   "execution_count": 212,
   "id": "d876e160",
   "metadata": {},
   "outputs": [
    {
     "name": "stdout",
     "output_type": "stream",
     "text": [
      "              precision    recall  f1-score   support\n",
      "\n",
      "      Setosa       1.00      1.00      1.00        13\n",
      "  Versicolor       0.00      0.00      0.00        20\n",
      "   Virginica       0.38      1.00      0.55        12\n",
      "\n",
      "    accuracy                           0.56        45\n",
      "   macro avg       0.46      0.67      0.52        45\n",
      "weighted avg       0.39      0.56      0.43        45\n",
      "\n"
     ]
    },
    {
     "name": "stderr",
     "output_type": "stream",
     "text": [
      "/Users/danielaquijano/opt/anaconda3/lib/python3.8/site-packages/sklearn/metrics/_classification.py:1245: UndefinedMetricWarning: Precision and F-score are ill-defined and being set to 0.0 in labels with no predicted samples. Use `zero_division` parameter to control this behavior.\n",
      "  _warn_prf(average, modifier, msg_start, len(result))\n",
      "/Users/danielaquijano/opt/anaconda3/lib/python3.8/site-packages/sklearn/metrics/_classification.py:1245: UndefinedMetricWarning: Precision and F-score are ill-defined and being set to 0.0 in labels with no predicted samples. Use `zero_division` parameter to control this behavior.\n",
      "  _warn_prf(average, modifier, msg_start, len(result))\n",
      "/Users/danielaquijano/opt/anaconda3/lib/python3.8/site-packages/sklearn/metrics/_classification.py:1245: UndefinedMetricWarning: Precision and F-score are ill-defined and being set to 0.0 in labels with no predicted samples. Use `zero_division` parameter to control this behavior.\n",
      "  _warn_prf(average, modifier, msg_start, len(result))\n"
     ]
    }
   ],
   "source": [
    "logmodel_3c = LogisticRegression(penalty=\"l1\", C=0.1, solver='liblinear' )\n",
    "#Have to change solver to liblinear since it supports L1 regularization\n",
    "logmodel_3c.fit(X_train,y_train)\n",
    "predict_3c = logmodel_3c.predict(X_test)\n",
    "print(classification_report(y_test,predict_3c))"
   ]
  },
  {
   "cell_type": "markdown",
   "id": "0dbb0bdd",
   "metadata": {},
   "source": [
    "### Sepal width, petal length, petal width"
   ]
  },
  {
   "cell_type": "code",
   "execution_count": 126,
   "id": "1e457215",
   "metadata": {},
   "outputs": [
    {
     "data": {
      "text/html": [
       "<div>\n",
       "<style scoped>\n",
       "    .dataframe tbody tr th:only-of-type {\n",
       "        vertical-align: middle;\n",
       "    }\n",
       "\n",
       "    .dataframe tbody tr th {\n",
       "        vertical-align: top;\n",
       "    }\n",
       "\n",
       "    .dataframe thead th {\n",
       "        text-align: right;\n",
       "    }\n",
       "</style>\n",
       "<table border=\"1\" class=\"dataframe\">\n",
       "  <thead>\n",
       "    <tr style=\"text-align: right;\">\n",
       "      <th></th>\n",
       "      <th>sepal.width</th>\n",
       "      <th>petal.length</th>\n",
       "      <th>petal.width</th>\n",
       "      <th>variety</th>\n",
       "    </tr>\n",
       "  </thead>\n",
       "  <tbody>\n",
       "    <tr>\n",
       "      <th>0</th>\n",
       "      <td>3.5</td>\n",
       "      <td>1.4</td>\n",
       "      <td>0.2</td>\n",
       "      <td>Setosa</td>\n",
       "    </tr>\n",
       "    <tr>\n",
       "      <th>1</th>\n",
       "      <td>3.0</td>\n",
       "      <td>1.4</td>\n",
       "      <td>0.2</td>\n",
       "      <td>Setosa</td>\n",
       "    </tr>\n",
       "    <tr>\n",
       "      <th>2</th>\n",
       "      <td>3.2</td>\n",
       "      <td>1.3</td>\n",
       "      <td>0.2</td>\n",
       "      <td>Setosa</td>\n",
       "    </tr>\n",
       "    <tr>\n",
       "      <th>3</th>\n",
       "      <td>3.1</td>\n",
       "      <td>1.5</td>\n",
       "      <td>0.2</td>\n",
       "      <td>Setosa</td>\n",
       "    </tr>\n",
       "    <tr>\n",
       "      <th>4</th>\n",
       "      <td>3.6</td>\n",
       "      <td>1.4</td>\n",
       "      <td>0.2</td>\n",
       "      <td>Setosa</td>\n",
       "    </tr>\n",
       "  </tbody>\n",
       "</table>\n",
       "</div>"
      ],
      "text/plain": [
       "   sepal.width  petal.length  petal.width variety\n",
       "0          3.5           1.4          0.2  Setosa\n",
       "1          3.0           1.4          0.2  Setosa\n",
       "2          3.2           1.3          0.2  Setosa\n",
       "3          3.1           1.5          0.2  Setosa\n",
       "4          3.6           1.4          0.2  Setosa"
      ]
     },
     "execution_count": 126,
     "metadata": {},
     "output_type": "execute_result"
    }
   ],
   "source": [
    "iris3d=iris.drop('sepal.length', axis=1)\n",
    "X3d=iris3d.drop('variety', axis=1) #Eliminate target and feature not being used\n",
    "y3d=iris3d['variety']\n",
    "iris3d.head()"
   ]
  },
  {
   "cell_type": "code",
   "execution_count": 127,
   "id": "064c21af",
   "metadata": {},
   "outputs": [
    {
     "data": {
      "text/plain": [
       "LogisticRegression()"
      ]
     },
     "execution_count": 127,
     "metadata": {},
     "output_type": "execute_result"
    }
   ],
   "source": [
    "#using 30% of data in iris as the test size \n",
    "X_train, X_test, y_train, y_test = train_test_split(X3d, \n",
    "                                                    y3d, test_size=0.30, random_state=101)\n",
    "\n",
    "logmodel_3d= LogisticRegression()#Create instance of logistic regression model\n",
    "logmodel_3d.fit(X_train,y_train) #fit training to model"
   ]
  },
  {
   "cell_type": "code",
   "execution_count": 128,
   "id": "6ce29083",
   "metadata": {},
   "outputs": [
    {
     "name": "stdout",
     "output_type": "stream",
     "text": [
      "Using sepal length, petal length and petal width yields to 98% classification success:\n",
      "              precision    recall  f1-score   support\n",
      "\n",
      "      Setosa       1.00      1.00      1.00        13\n",
      "  Versicolor       1.00      0.95      0.97        20\n",
      "   Virginica       0.92      1.00      0.96        12\n",
      "\n",
      "    accuracy                           0.98        45\n",
      "   macro avg       0.97      0.98      0.98        45\n",
      "weighted avg       0.98      0.98      0.98        45\n",
      "\n"
     ]
    }
   ],
   "source": [
    "predict_3d = logmodel_3d.predict(X_test)  #store model predictions in a variable \n",
    "print('Using sepal with, petal length and petal width yields to 98% classification success:')\n",
    "print(classification_report(y_test,predict_3d))\n"
   ]
  },
  {
   "cell_type": "code",
   "execution_count": null,
   "id": "559cd110",
   "metadata": {},
   "outputs": [],
   "source": [
    "Regularization, L2"
   ]
  },
  {
   "cell_type": "code",
   "execution_count": 213,
   "id": "a6339992",
   "metadata": {},
   "outputs": [
    {
     "name": "stdout",
     "output_type": "stream",
     "text": [
      "              precision    recall  f1-score   support\n",
      "\n",
      "      Setosa       1.00      1.00      1.00        13\n",
      "  Versicolor       0.95      1.00      0.98        20\n",
      "   Virginica       1.00      0.92      0.96        12\n",
      "\n",
      "    accuracy                           0.98        45\n",
      "   macro avg       0.98      0.97      0.98        45\n",
      "weighted avg       0.98      0.98      0.98        45\n",
      "\n"
     ]
    },
    {
     "name": "stderr",
     "output_type": "stream",
     "text": [
      "/Users/danielaquijano/opt/anaconda3/lib/python3.8/site-packages/sklearn/linear_model/_logistic.py:763: ConvergenceWarning: lbfgs failed to converge (status=1):\n",
      "STOP: TOTAL NO. of ITERATIONS REACHED LIMIT.\n",
      "\n",
      "Increase the number of iterations (max_iter) or scale the data as shown in:\n",
      "    https://scikit-learn.org/stable/modules/preprocessing.html\n",
      "Please also refer to the documentation for alternative solver options:\n",
      "    https://scikit-learn.org/stable/modules/linear_model.html#logistic-regression\n",
      "  n_iter_i = _check_optimize_result(\n"
     ]
    }
   ],
   "source": [
    "logmodel_3d = LogisticRegression(penalty=\"l2\", C=100)\n",
    "logmodel_3d.fit(X_train,y_train)\n",
    "predict_3d = logmodel_3d.predict(X_test)\n",
    "print(classification_report(y_test,predict_3d))"
   ]
  },
  {
   "cell_type": "code",
   "execution_count": 214,
   "id": "95b782a9",
   "metadata": {},
   "outputs": [
    {
     "name": "stdout",
     "output_type": "stream",
     "text": [
      "              precision    recall  f1-score   support\n",
      "\n",
      "      Setosa       1.00      1.00      1.00        13\n",
      "  Versicolor       1.00      0.85      0.92        20\n",
      "   Virginica       0.80      1.00      0.89        12\n",
      "\n",
      "    accuracy                           0.93        45\n",
      "   macro avg       0.93      0.95      0.94        45\n",
      "weighted avg       0.95      0.93      0.93        45\n",
      "\n"
     ]
    }
   ],
   "source": [
    "logmodel_3d = LogisticRegression(penalty=\"l2\", C=0.1)\n",
    "logmodel_3d.fit(X_train,y_train)\n",
    "predict_3d = logmodel_3d.predict(X_test)\n",
    "print(classification_report(y_test,predict_3d))"
   ]
  },
  {
   "cell_type": "markdown",
   "id": "af12043b",
   "metadata": {},
   "source": [
    "Regularization, L1"
   ]
  },
  {
   "cell_type": "code",
   "execution_count": 215,
   "id": "a9a7e59f",
   "metadata": {},
   "outputs": [
    {
     "name": "stdout",
     "output_type": "stream",
     "text": [
      "              precision    recall  f1-score   support\n",
      "\n",
      "      Setosa       1.00      1.00      1.00        13\n",
      "  Versicolor       0.95      0.95      0.95        20\n",
      "   Virginica       0.92      0.92      0.92        12\n",
      "\n",
      "    accuracy                           0.96        45\n",
      "   macro avg       0.96      0.96      0.96        45\n",
      "weighted avg       0.96      0.96      0.96        45\n",
      "\n"
     ]
    },
    {
     "name": "stderr",
     "output_type": "stream",
     "text": [
      "/Users/danielaquijano/opt/anaconda3/lib/python3.8/site-packages/sklearn/svm/_base.py:985: ConvergenceWarning: Liblinear failed to converge, increase the number of iterations.\n",
      "  warnings.warn(\"Liblinear failed to converge, increase \"\n"
     ]
    }
   ],
   "source": [
    "logmodel_3d = LogisticRegression(penalty=\"l1\", C=100, solver='liblinear' )\n",
    "#Have to change solver to liblinear since it supports L1 regularization\n",
    "logmodel_3d.fit(X_train,y_train)\n",
    "predict_3d = logmodel_3d.predict(X_test)\n",
    "print(classification_report(y_test,predict_3d))"
   ]
  },
  {
   "cell_type": "code",
   "execution_count": 216,
   "id": "790f5602",
   "metadata": {},
   "outputs": [
    {
     "name": "stdout",
     "output_type": "stream",
     "text": [
      "              precision    recall  f1-score   support\n",
      "\n",
      "      Setosa       1.00      1.00      1.00        13\n",
      "  Versicolor       0.00      0.00      0.00        20\n",
      "   Virginica       0.38      1.00      0.55        12\n",
      "\n",
      "    accuracy                           0.56        45\n",
      "   macro avg       0.46      0.67      0.52        45\n",
      "weighted avg       0.39      0.56      0.43        45\n",
      "\n"
     ]
    },
    {
     "name": "stderr",
     "output_type": "stream",
     "text": [
      "/Users/danielaquijano/opt/anaconda3/lib/python3.8/site-packages/sklearn/metrics/_classification.py:1245: UndefinedMetricWarning: Precision and F-score are ill-defined and being set to 0.0 in labels with no predicted samples. Use `zero_division` parameter to control this behavior.\n",
      "  _warn_prf(average, modifier, msg_start, len(result))\n",
      "/Users/danielaquijano/opt/anaconda3/lib/python3.8/site-packages/sklearn/metrics/_classification.py:1245: UndefinedMetricWarning: Precision and F-score are ill-defined and being set to 0.0 in labels with no predicted samples. Use `zero_division` parameter to control this behavior.\n",
      "  _warn_prf(average, modifier, msg_start, len(result))\n",
      "/Users/danielaquijano/opt/anaconda3/lib/python3.8/site-packages/sklearn/metrics/_classification.py:1245: UndefinedMetricWarning: Precision and F-score are ill-defined and being set to 0.0 in labels with no predicted samples. Use `zero_division` parameter to control this behavior.\n",
      "  _warn_prf(average, modifier, msg_start, len(result))\n"
     ]
    }
   ],
   "source": [
    "logmodel_3d = LogisticRegression(penalty=\"l1\", C=0.1, solver='liblinear' )\n",
    "#Have to change solver to liblinear since it supports L1 regularization\n",
    "logmodel_3d.fit(X_train,y_train)\n",
    "predict_3d = logmodel_3d.predict(X_test)\n",
    "print(classification_report(y_test,predict_3d))"
   ]
  },
  {
   "cell_type": "markdown",
   "id": "9d87fb92",
   "metadata": {},
   "source": [
    "# Train model with all six cases of using two fetures at a time"
   ]
  },
  {
   "cell_type": "markdown",
   "id": "96b2c457",
   "metadata": {},
   "source": [
    "### sepal length, sepal width"
   ]
  },
  {
   "cell_type": "code",
   "execution_count": 108,
   "id": "58b3f0b2",
   "metadata": {},
   "outputs": [
    {
     "data": {
      "text/html": [
       "<div>\n",
       "<style scoped>\n",
       "    .dataframe tbody tr th:only-of-type {\n",
       "        vertical-align: middle;\n",
       "    }\n",
       "\n",
       "    .dataframe tbody tr th {\n",
       "        vertical-align: top;\n",
       "    }\n",
       "\n",
       "    .dataframe thead th {\n",
       "        text-align: right;\n",
       "    }\n",
       "</style>\n",
       "<table border=\"1\" class=\"dataframe\">\n",
       "  <thead>\n",
       "    <tr style=\"text-align: right;\">\n",
       "      <th></th>\n",
       "      <th>sepal.length</th>\n",
       "      <th>sepal.width</th>\n",
       "      <th>variety</th>\n",
       "    </tr>\n",
       "  </thead>\n",
       "  <tbody>\n",
       "    <tr>\n",
       "      <th>0</th>\n",
       "      <td>5.1</td>\n",
       "      <td>3.5</td>\n",
       "      <td>Setosa</td>\n",
       "    </tr>\n",
       "    <tr>\n",
       "      <th>1</th>\n",
       "      <td>4.9</td>\n",
       "      <td>3.0</td>\n",
       "      <td>Setosa</td>\n",
       "    </tr>\n",
       "    <tr>\n",
       "      <th>2</th>\n",
       "      <td>4.7</td>\n",
       "      <td>3.2</td>\n",
       "      <td>Setosa</td>\n",
       "    </tr>\n",
       "    <tr>\n",
       "      <th>3</th>\n",
       "      <td>4.6</td>\n",
       "      <td>3.1</td>\n",
       "      <td>Setosa</td>\n",
       "    </tr>\n",
       "    <tr>\n",
       "      <th>4</th>\n",
       "      <td>5.0</td>\n",
       "      <td>3.6</td>\n",
       "      <td>Setosa</td>\n",
       "    </tr>\n",
       "  </tbody>\n",
       "</table>\n",
       "</div>"
      ],
      "text/plain": [
       "   sepal.length  sepal.width variety\n",
       "0           5.1          3.5  Setosa\n",
       "1           4.9          3.0  Setosa\n",
       "2           4.7          3.2  Setosa\n",
       "3           4.6          3.1  Setosa\n",
       "4           5.0          3.6  Setosa"
      ]
     },
     "execution_count": 108,
     "metadata": {},
     "output_type": "execute_result"
    }
   ],
   "source": [
    "iris2a=iris.drop(['petal.width','petal.length'], axis=1) #Leave out two categories not being used\n",
    "X2a=iris2a.drop('variety', axis=1) #Eliminate target and feature not being used\n",
    "y2a=iris2a['variety']\n",
    "iris2a.head()"
   ]
  },
  {
   "cell_type": "code",
   "execution_count": 109,
   "id": "b35d2b3b",
   "metadata": {},
   "outputs": [
    {
     "data": {
      "text/plain": [
       "LogisticRegression()"
      ]
     },
     "execution_count": 109,
     "metadata": {},
     "output_type": "execute_result"
    }
   ],
   "source": [
    "#using 30% of data in iris as the test size \n",
    "X_train, X_test, y_train, y_test = train_test_split(X2a, \n",
    "                                                    y2a, test_size=0.30, random_state=101)\n",
    "\n",
    "logmodel_2a= LogisticRegression()#Create instance of logistic regression model\n",
    "logmodel_2a.fit(X_train,y_train) #fit training to model"
   ]
  },
  {
   "cell_type": "code",
   "execution_count": 111,
   "id": "60c7c028",
   "metadata": {},
   "outputs": [
    {
     "name": "stdout",
     "output_type": "stream",
     "text": [
      "Using sepal length, sepal width yields to 79% classification success:\n",
      "              precision    recall  f1-score   support\n",
      "\n",
      "      Setosa       1.00      0.92      0.96        13\n",
      "  Versicolor       0.78      0.70      0.74        20\n",
      "   Virginica       0.60      0.75      0.67        12\n",
      "\n",
      "    accuracy                           0.78        45\n",
      "   macro avg       0.79      0.79      0.79        45\n",
      "weighted avg       0.79      0.78      0.78        45\n",
      "\n"
     ]
    }
   ],
   "source": [
    "predict_2a = logmodel_2a.predict(X_test)  #store model predictions in a variable \n",
    "print('Using sepal length, sepal width yields to 79% classification success:')\n",
    "print(classification_report(y_test,predict_2a))\n"
   ]
  },
  {
   "cell_type": "code",
   "execution_count": null,
   "id": "d457346a",
   "metadata": {},
   "outputs": [],
   "source": [
    "Regularization, L2"
   ]
  },
  {
   "cell_type": "code",
   "execution_count": 217,
   "id": "48e423d0",
   "metadata": {},
   "outputs": [
    {
     "name": "stdout",
     "output_type": "stream",
     "text": [
      "              precision    recall  f1-score   support\n",
      "\n",
      "      Setosa       1.00      1.00      1.00        13\n",
      "  Versicolor       0.95      1.00      0.98        20\n",
      "   Virginica       1.00      0.92      0.96        12\n",
      "\n",
      "    accuracy                           0.98        45\n",
      "   macro avg       0.98      0.97      0.98        45\n",
      "weighted avg       0.98      0.98      0.98        45\n",
      "\n"
     ]
    },
    {
     "name": "stderr",
     "output_type": "stream",
     "text": [
      "/Users/danielaquijano/opt/anaconda3/lib/python3.8/site-packages/sklearn/linear_model/_logistic.py:763: ConvergenceWarning: lbfgs failed to converge (status=1):\n",
      "STOP: TOTAL NO. of ITERATIONS REACHED LIMIT.\n",
      "\n",
      "Increase the number of iterations (max_iter) or scale the data as shown in:\n",
      "    https://scikit-learn.org/stable/modules/preprocessing.html\n",
      "Please also refer to the documentation for alternative solver options:\n",
      "    https://scikit-learn.org/stable/modules/linear_model.html#logistic-regression\n",
      "  n_iter_i = _check_optimize_result(\n"
     ]
    }
   ],
   "source": [
    "logmodel_2a = LogisticRegression(penalty=\"l2\", C=100)\n",
    "logmodel_2a.fit(X_train,y_train)\n",
    "predict_2a = logmodel_2a.predict(X_test)\n",
    "print(classification_report(y_test,predict_2a))"
   ]
  },
  {
   "cell_type": "code",
   "execution_count": 218,
   "id": "847ebe4e",
   "metadata": {},
   "outputs": [
    {
     "name": "stdout",
     "output_type": "stream",
     "text": [
      "              precision    recall  f1-score   support\n",
      "\n",
      "      Setosa       1.00      1.00      1.00        13\n",
      "  Versicolor       1.00      0.85      0.92        20\n",
      "   Virginica       0.80      1.00      0.89        12\n",
      "\n",
      "    accuracy                           0.93        45\n",
      "   macro avg       0.93      0.95      0.94        45\n",
      "weighted avg       0.95      0.93      0.93        45\n",
      "\n"
     ]
    }
   ],
   "source": [
    "logmodel_2a = LogisticRegression(penalty=\"l2\", C=0.1)\n",
    "logmodel_2a.fit(X_train,y_train)\n",
    "predict_2a = logmodel_2a.predict(X_test)\n",
    "print(classification_report(y_test,predict_2a))"
   ]
  },
  {
   "cell_type": "markdown",
   "id": "8b32c26a",
   "metadata": {},
   "source": [
    "Regularization, L1"
   ]
  },
  {
   "cell_type": "code",
   "execution_count": 220,
   "id": "dd419e10",
   "metadata": {},
   "outputs": [
    {
     "name": "stdout",
     "output_type": "stream",
     "text": [
      "              precision    recall  f1-score   support\n",
      "\n",
      "      Setosa       1.00      1.00      1.00        13\n",
      "  Versicolor       0.00      0.00      0.00        20\n",
      "   Virginica       0.38      1.00      0.55        12\n",
      "\n",
      "    accuracy                           0.56        45\n",
      "   macro avg       0.46      0.67      0.52        45\n",
      "weighted avg       0.39      0.56      0.43        45\n",
      "\n"
     ]
    },
    {
     "name": "stderr",
     "output_type": "stream",
     "text": [
      "/Users/danielaquijano/opt/anaconda3/lib/python3.8/site-packages/sklearn/metrics/_classification.py:1245: UndefinedMetricWarning: Precision and F-score are ill-defined and being set to 0.0 in labels with no predicted samples. Use `zero_division` parameter to control this behavior.\n",
      "  _warn_prf(average, modifier, msg_start, len(result))\n",
      "/Users/danielaquijano/opt/anaconda3/lib/python3.8/site-packages/sklearn/metrics/_classification.py:1245: UndefinedMetricWarning: Precision and F-score are ill-defined and being set to 0.0 in labels with no predicted samples. Use `zero_division` parameter to control this behavior.\n",
      "  _warn_prf(average, modifier, msg_start, len(result))\n",
      "/Users/danielaquijano/opt/anaconda3/lib/python3.8/site-packages/sklearn/metrics/_classification.py:1245: UndefinedMetricWarning: Precision and F-score are ill-defined and being set to 0.0 in labels with no predicted samples. Use `zero_division` parameter to control this behavior.\n",
      "  _warn_prf(average, modifier, msg_start, len(result))\n"
     ]
    }
   ],
   "source": [
    "logmodel_2a = LogisticRegression(penalty=\"l1\", C=0.1, solver='liblinear' )\n",
    "#Have to change solver to liblinear since it supports L1 regularization\n",
    "logmodel_2a.fit(X_train,y_train)\n",
    "predict_2a = logmodel_2a.predict(X_test)\n",
    "print(classification_report(y_test,predict_2a))"
   ]
  },
  {
   "cell_type": "code",
   "execution_count": 221,
   "id": "7404f7d4",
   "metadata": {},
   "outputs": [
    {
     "name": "stdout",
     "output_type": "stream",
     "text": [
      "              precision    recall  f1-score   support\n",
      "\n",
      "      Setosa       1.00      1.00      1.00        13\n",
      "  Versicolor       0.95      0.95      0.95        20\n",
      "   Virginica       0.92      0.92      0.92        12\n",
      "\n",
      "    accuracy                           0.96        45\n",
      "   macro avg       0.96      0.96      0.96        45\n",
      "weighted avg       0.96      0.96      0.96        45\n",
      "\n"
     ]
    },
    {
     "name": "stderr",
     "output_type": "stream",
     "text": [
      "/Users/danielaquijano/opt/anaconda3/lib/python3.8/site-packages/sklearn/svm/_base.py:985: ConvergenceWarning: Liblinear failed to converge, increase the number of iterations.\n",
      "  warnings.warn(\"Liblinear failed to converge, increase \"\n"
     ]
    }
   ],
   "source": [
    "logmodel_2a = LogisticRegression(penalty=\"l1\", C=100, solver='liblinear' )\n",
    "#Have to change solver to liblinear since it supports L1 regularization\n",
    "logmodel_2a.fit(X_train,y_train)\n",
    "predict_2a = logmodel_2a.predict(X_test)\n",
    "print(classification_report(y_test,predict_2a))"
   ]
  },
  {
   "cell_type": "markdown",
   "id": "1c489a9f",
   "metadata": {},
   "source": [
    "### Sepal length, petal length"
   ]
  },
  {
   "cell_type": "code",
   "execution_count": 137,
   "id": "0bac33b4",
   "metadata": {},
   "outputs": [
    {
     "data": {
      "text/html": [
       "<div>\n",
       "<style scoped>\n",
       "    .dataframe tbody tr th:only-of-type {\n",
       "        vertical-align: middle;\n",
       "    }\n",
       "\n",
       "    .dataframe tbody tr th {\n",
       "        vertical-align: top;\n",
       "    }\n",
       "\n",
       "    .dataframe thead th {\n",
       "        text-align: right;\n",
       "    }\n",
       "</style>\n",
       "<table border=\"1\" class=\"dataframe\">\n",
       "  <thead>\n",
       "    <tr style=\"text-align: right;\">\n",
       "      <th></th>\n",
       "      <th>sepal.length</th>\n",
       "      <th>petal.length</th>\n",
       "      <th>variety</th>\n",
       "    </tr>\n",
       "  </thead>\n",
       "  <tbody>\n",
       "    <tr>\n",
       "      <th>0</th>\n",
       "      <td>5.1</td>\n",
       "      <td>1.4</td>\n",
       "      <td>Setosa</td>\n",
       "    </tr>\n",
       "    <tr>\n",
       "      <th>1</th>\n",
       "      <td>4.9</td>\n",
       "      <td>1.4</td>\n",
       "      <td>Setosa</td>\n",
       "    </tr>\n",
       "    <tr>\n",
       "      <th>2</th>\n",
       "      <td>4.7</td>\n",
       "      <td>1.3</td>\n",
       "      <td>Setosa</td>\n",
       "    </tr>\n",
       "    <tr>\n",
       "      <th>3</th>\n",
       "      <td>4.6</td>\n",
       "      <td>1.5</td>\n",
       "      <td>Setosa</td>\n",
       "    </tr>\n",
       "    <tr>\n",
       "      <th>4</th>\n",
       "      <td>5.0</td>\n",
       "      <td>1.4</td>\n",
       "      <td>Setosa</td>\n",
       "    </tr>\n",
       "  </tbody>\n",
       "</table>\n",
       "</div>"
      ],
      "text/plain": [
       "   sepal.length  petal.length variety\n",
       "0           5.1           1.4  Setosa\n",
       "1           4.9           1.4  Setosa\n",
       "2           4.7           1.3  Setosa\n",
       "3           4.6           1.5  Setosa\n",
       "4           5.0           1.4  Setosa"
      ]
     },
     "execution_count": 137,
     "metadata": {},
     "output_type": "execute_result"
    }
   ],
   "source": [
    "iris2b=iris.drop(['sepal.width','petal.width'], axis=1) #Leave out two categories not being used\n",
    "X2b=iris2b.drop('variety', axis=1) #Eliminate target and feature not being used\n",
    "y2b=iris2b['variety']\n",
    "iris2b.head()"
   ]
  },
  {
   "cell_type": "code",
   "execution_count": 138,
   "id": "0e60817f",
   "metadata": {},
   "outputs": [
    {
     "data": {
      "text/plain": [
       "LogisticRegression()"
      ]
     },
     "execution_count": 138,
     "metadata": {},
     "output_type": "execute_result"
    }
   ],
   "source": [
    "#using 30% of data in iris as the test size \n",
    "X_train, X_test, y_train, y_test = train_test_split(X2b, \n",
    "                                                    y2b, test_size=0.30, random_state=101)\n",
    "\n",
    "logmodel_2b= LogisticRegression()#Create instance of logistic regression model\n",
    "logmodel_2b.fit(X_train,y_train) #fit training to model"
   ]
  },
  {
   "cell_type": "code",
   "execution_count": 139,
   "id": "13a5a8c4",
   "metadata": {},
   "outputs": [
    {
     "name": "stdout",
     "output_type": "stream",
     "text": [
      "Using sepal length, petal length yields to 98% classification success:\n",
      "              precision    recall  f1-score   support\n",
      "\n",
      "      Setosa       1.00      1.00      1.00        13\n",
      "  Versicolor       1.00      0.95      0.97        20\n",
      "   Virginica       0.92      1.00      0.96        12\n",
      "\n",
      "    accuracy                           0.98        45\n",
      "   macro avg       0.97      0.98      0.98        45\n",
      "weighted avg       0.98      0.98      0.98        45\n",
      "\n"
     ]
    }
   ],
   "source": [
    "predict_2b = logmodel_2b.predict(X_test)  #store model predictions in a variable \n",
    "print('Using sepal length, petal length yields to 98% classification success:')\n",
    "print(classification_report(y_test,predict_2b))\n"
   ]
  },
  {
   "cell_type": "code",
   "execution_count": null,
   "id": "6e328bbb",
   "metadata": {},
   "outputs": [],
   "source": [
    "Regularization, L2"
   ]
  },
  {
   "cell_type": "code",
   "execution_count": 224,
   "id": "9d15deea",
   "metadata": {},
   "outputs": [
    {
     "name": "stdout",
     "output_type": "stream",
     "text": [
      "              precision    recall  f1-score   support\n",
      "\n",
      "      Setosa       1.00      1.00      1.00        13\n",
      "  Versicolor       1.00      0.85      0.92        20\n",
      "   Virginica       0.80      1.00      0.89        12\n",
      "\n",
      "    accuracy                           0.93        45\n",
      "   macro avg       0.93      0.95      0.94        45\n",
      "weighted avg       0.95      0.93      0.93        45\n",
      "\n"
     ]
    }
   ],
   "source": [
    "logmodel_2b = LogisticRegression(penalty=\"l2\", C=0.1)\n",
    "logmodel_2b.fit(X_train,y_train)\n",
    "predict_2b = logmodel_2b.predict(X_test)\n",
    "print(classification_report(y_test,predict_2b))"
   ]
  },
  {
   "cell_type": "code",
   "execution_count": 226,
   "id": "450d9a5f",
   "metadata": {},
   "outputs": [
    {
     "name": "stdout",
     "output_type": "stream",
     "text": [
      "              precision    recall  f1-score   support\n",
      "\n",
      "      Setosa       1.00      1.00      1.00        13\n",
      "  Versicolor       0.95      1.00      0.98        20\n",
      "   Virginica       1.00      0.92      0.96        12\n",
      "\n",
      "    accuracy                           0.98        45\n",
      "   macro avg       0.98      0.97      0.98        45\n",
      "weighted avg       0.98      0.98      0.98        45\n",
      "\n"
     ]
    },
    {
     "name": "stderr",
     "output_type": "stream",
     "text": [
      "/Users/danielaquijano/opt/anaconda3/lib/python3.8/site-packages/sklearn/linear_model/_logistic.py:763: ConvergenceWarning: lbfgs failed to converge (status=1):\n",
      "STOP: TOTAL NO. of ITERATIONS REACHED LIMIT.\n",
      "\n",
      "Increase the number of iterations (max_iter) or scale the data as shown in:\n",
      "    https://scikit-learn.org/stable/modules/preprocessing.html\n",
      "Please also refer to the documentation for alternative solver options:\n",
      "    https://scikit-learn.org/stable/modules/linear_model.html#logistic-regression\n",
      "  n_iter_i = _check_optimize_result(\n"
     ]
    }
   ],
   "source": [
    "logmodel_2b = LogisticRegression(penalty=\"l2\", C=100)\n",
    "logmodel_2b.fit(X_train,y_train)\n",
    "predict_2b = logmodel_2b.predict(X_test)\n",
    "print(classification_report(y_test,predict_2b))"
   ]
  },
  {
   "cell_type": "code",
   "execution_count": null,
   "id": "26a302c1",
   "metadata": {},
   "outputs": [],
   "source": [
    "Regularization, L1"
   ]
  },
  {
   "cell_type": "code",
   "execution_count": 222,
   "id": "e3da8c68",
   "metadata": {},
   "outputs": [
    {
     "name": "stdout",
     "output_type": "stream",
     "text": [
      "              precision    recall  f1-score   support\n",
      "\n",
      "      Setosa       1.00      1.00      1.00        13\n",
      "  Versicolor       0.00      0.00      0.00        20\n",
      "   Virginica       0.38      1.00      0.55        12\n",
      "\n",
      "    accuracy                           0.56        45\n",
      "   macro avg       0.46      0.67      0.52        45\n",
      "weighted avg       0.39      0.56      0.43        45\n",
      "\n"
     ]
    },
    {
     "name": "stderr",
     "output_type": "stream",
     "text": [
      "/Users/danielaquijano/opt/anaconda3/lib/python3.8/site-packages/sklearn/metrics/_classification.py:1245: UndefinedMetricWarning: Precision and F-score are ill-defined and being set to 0.0 in labels with no predicted samples. Use `zero_division` parameter to control this behavior.\n",
      "  _warn_prf(average, modifier, msg_start, len(result))\n",
      "/Users/danielaquijano/opt/anaconda3/lib/python3.8/site-packages/sklearn/metrics/_classification.py:1245: UndefinedMetricWarning: Precision and F-score are ill-defined and being set to 0.0 in labels with no predicted samples. Use `zero_division` parameter to control this behavior.\n",
      "  _warn_prf(average, modifier, msg_start, len(result))\n",
      "/Users/danielaquijano/opt/anaconda3/lib/python3.8/site-packages/sklearn/metrics/_classification.py:1245: UndefinedMetricWarning: Precision and F-score are ill-defined and being set to 0.0 in labels with no predicted samples. Use `zero_division` parameter to control this behavior.\n",
      "  _warn_prf(average, modifier, msg_start, len(result))\n"
     ]
    }
   ],
   "source": [
    "logmodel_2b = LogisticRegression(penalty=\"l1\", C=0.1, solver='liblinear' )\n",
    "#Have to change solver to liblinear since it supports L1 regularization\n",
    "logmodel_2b.fit(X_train,y_train)\n",
    "predict_2b = logmodel_2b.predict(X_test)\n",
    "print(classification_report(y_test,predict_2b))"
   ]
  },
  {
   "cell_type": "code",
   "execution_count": 223,
   "id": "32afce29",
   "metadata": {},
   "outputs": [
    {
     "name": "stdout",
     "output_type": "stream",
     "text": [
      "              precision    recall  f1-score   support\n",
      "\n",
      "      Setosa       1.00      1.00      1.00        13\n",
      "  Versicolor       0.95      0.95      0.95        20\n",
      "   Virginica       0.92      0.92      0.92        12\n",
      "\n",
      "    accuracy                           0.96        45\n",
      "   macro avg       0.96      0.96      0.96        45\n",
      "weighted avg       0.96      0.96      0.96        45\n",
      "\n"
     ]
    },
    {
     "name": "stderr",
     "output_type": "stream",
     "text": [
      "/Users/danielaquijano/opt/anaconda3/lib/python3.8/site-packages/sklearn/svm/_base.py:985: ConvergenceWarning: Liblinear failed to converge, increase the number of iterations.\n",
      "  warnings.warn(\"Liblinear failed to converge, increase \"\n"
     ]
    }
   ],
   "source": [
    "logmodel_2b = LogisticRegression(penalty=\"l1\", C=100, solver='liblinear' )\n",
    "#Have to change solver to liblinear since it supports L1 regularization\n",
    "logmodel_2b.fit(X_train,y_train)\n",
    "predict_2b = logmodel_2b.predict(X_test)\n",
    "print(classification_report(y_test,predict_2b))"
   ]
  },
  {
   "cell_type": "markdown",
   "id": "77f10b41",
   "metadata": {},
   "source": [
    "### Sepal length, petal width"
   ]
  },
  {
   "cell_type": "code",
   "execution_count": 228,
   "id": "650aea82",
   "metadata": {},
   "outputs": [
    {
     "data": {
      "text/html": [
       "<div>\n",
       "<style scoped>\n",
       "    .dataframe tbody tr th:only-of-type {\n",
       "        vertical-align: middle;\n",
       "    }\n",
       "\n",
       "    .dataframe tbody tr th {\n",
       "        vertical-align: top;\n",
       "    }\n",
       "\n",
       "    .dataframe thead th {\n",
       "        text-align: right;\n",
       "    }\n",
       "</style>\n",
       "<table border=\"1\" class=\"dataframe\">\n",
       "  <thead>\n",
       "    <tr style=\"text-align: right;\">\n",
       "      <th></th>\n",
       "      <th>sepal.length</th>\n",
       "      <th>petal.width</th>\n",
       "      <th>variety</th>\n",
       "    </tr>\n",
       "  </thead>\n",
       "  <tbody>\n",
       "    <tr>\n",
       "      <th>0</th>\n",
       "      <td>5.1</td>\n",
       "      <td>0.2</td>\n",
       "      <td>Setosa</td>\n",
       "    </tr>\n",
       "    <tr>\n",
       "      <th>1</th>\n",
       "      <td>4.9</td>\n",
       "      <td>0.2</td>\n",
       "      <td>Setosa</td>\n",
       "    </tr>\n",
       "    <tr>\n",
       "      <th>2</th>\n",
       "      <td>4.7</td>\n",
       "      <td>0.2</td>\n",
       "      <td>Setosa</td>\n",
       "    </tr>\n",
       "    <tr>\n",
       "      <th>3</th>\n",
       "      <td>4.6</td>\n",
       "      <td>0.2</td>\n",
       "      <td>Setosa</td>\n",
       "    </tr>\n",
       "    <tr>\n",
       "      <th>4</th>\n",
       "      <td>5.0</td>\n",
       "      <td>0.2</td>\n",
       "      <td>Setosa</td>\n",
       "    </tr>\n",
       "  </tbody>\n",
       "</table>\n",
       "</div>"
      ],
      "text/plain": [
       "   sepal.length  petal.width variety\n",
       "0           5.1          0.2  Setosa\n",
       "1           4.9          0.2  Setosa\n",
       "2           4.7          0.2  Setosa\n",
       "3           4.6          0.2  Setosa\n",
       "4           5.0          0.2  Setosa"
      ]
     },
     "execution_count": 228,
     "metadata": {},
     "output_type": "execute_result"
    }
   ],
   "source": [
    "iris2c=iris.drop(['sepal.width','petal.length'], axis=1) #Leave out two categories not being used\n",
    "X2c=iris2c.drop('variety', axis=1) #Eliminate target and feature not being used\n",
    "y2c=iris2c['variety']\n",
    "iris2c.head()"
   ]
  },
  {
   "cell_type": "code",
   "execution_count": 229,
   "id": "6f879959",
   "metadata": {},
   "outputs": [
    {
     "data": {
      "text/plain": [
       "LogisticRegression()"
      ]
     },
     "execution_count": 229,
     "metadata": {},
     "output_type": "execute_result"
    }
   ],
   "source": [
    "#using 30% of data in iris as the test size \n",
    "X_train, X_test, y_train, y_test = train_test_split(X2c, \n",
    "                                                    y2c, test_size=0.30, random_state=101)\n",
    "\n",
    "logmodel_2c= LogisticRegression()#Create instance of logistic regression model\n",
    "logmodel_2c.fit(X_train,y_train) #fit training to model"
   ]
  },
  {
   "cell_type": "code",
   "execution_count": 230,
   "id": "7bba94d8",
   "metadata": {},
   "outputs": [
    {
     "name": "stdout",
     "output_type": "stream",
     "text": [
      "Using sepal length, petal width yields to 96% classification success:\n",
      "              precision    recall  f1-score   support\n",
      "\n",
      "      Setosa       1.00      1.00      1.00        13\n",
      "  Versicolor       0.95      0.95      0.95        20\n",
      "   Virginica       0.92      0.92      0.92        12\n",
      "\n",
      "    accuracy                           0.96        45\n",
      "   macro avg       0.96      0.96      0.96        45\n",
      "weighted avg       0.96      0.96      0.96        45\n",
      "\n"
     ]
    }
   ],
   "source": [
    "predict_2c = logmodel_2c.predict(X_test)  #store model predictions in a variable \n",
    "print('Using sepal length, petal width yields to 96% classification success:')\n",
    "print(classification_report(y_test,predict_2c))\n"
   ]
  },
  {
   "cell_type": "markdown",
   "id": "9076f7da",
   "metadata": {},
   "source": [
    "Regularization, L1"
   ]
  },
  {
   "cell_type": "code",
   "execution_count": 233,
   "id": "21ab0ba7",
   "metadata": {},
   "outputs": [
    {
     "name": "stdout",
     "output_type": "stream",
     "text": [
      "              precision    recall  f1-score   support\n",
      "\n",
      "      Setosa       1.00      1.00      1.00        13\n",
      "  Versicolor       0.95      0.95      0.95        20\n",
      "   Virginica       0.92      0.92      0.92        12\n",
      "\n",
      "    accuracy                           0.96        45\n",
      "   macro avg       0.96      0.96      0.96        45\n",
      "weighted avg       0.96      0.96      0.96        45\n",
      "\n"
     ]
    },
    {
     "name": "stderr",
     "output_type": "stream",
     "text": [
      "/Users/danielaquijano/opt/anaconda3/lib/python3.8/site-packages/sklearn/svm/_base.py:985: ConvergenceWarning: Liblinear failed to converge, increase the number of iterations.\n",
      "  warnings.warn(\"Liblinear failed to converge, increase \"\n"
     ]
    }
   ],
   "source": [
    "logmodel_2c = LogisticRegression(penalty=\"l1\", C=100, solver='liblinear' )\n",
    "#Have to change solver to liblinear since it supports L1 regularization\n",
    "logmodel_2c.fit(X_train,y_train)\n",
    "predict_2c = logmodel_2c.predict(X_test)\n",
    "print(classification_report(y_test,predict_2c))"
   ]
  },
  {
   "cell_type": "code",
   "execution_count": 234,
   "id": "54d87f54",
   "metadata": {},
   "outputs": [
    {
     "name": "stdout",
     "output_type": "stream",
     "text": [
      "              precision    recall  f1-score   support\n",
      "\n",
      "      Setosa       1.00      1.00      1.00        13\n",
      "  Versicolor       0.00      0.00      0.00        20\n",
      "   Virginica       0.38      1.00      0.55        12\n",
      "\n",
      "    accuracy                           0.56        45\n",
      "   macro avg       0.46      0.67      0.52        45\n",
      "weighted avg       0.39      0.56      0.43        45\n",
      "\n"
     ]
    },
    {
     "name": "stderr",
     "output_type": "stream",
     "text": [
      "/Users/danielaquijano/opt/anaconda3/lib/python3.8/site-packages/sklearn/metrics/_classification.py:1245: UndefinedMetricWarning: Precision and F-score are ill-defined and being set to 0.0 in labels with no predicted samples. Use `zero_division` parameter to control this behavior.\n",
      "  _warn_prf(average, modifier, msg_start, len(result))\n",
      "/Users/danielaquijano/opt/anaconda3/lib/python3.8/site-packages/sklearn/metrics/_classification.py:1245: UndefinedMetricWarning: Precision and F-score are ill-defined and being set to 0.0 in labels with no predicted samples. Use `zero_division` parameter to control this behavior.\n",
      "  _warn_prf(average, modifier, msg_start, len(result))\n",
      "/Users/danielaquijano/opt/anaconda3/lib/python3.8/site-packages/sklearn/metrics/_classification.py:1245: UndefinedMetricWarning: Precision and F-score are ill-defined and being set to 0.0 in labels with no predicted samples. Use `zero_division` parameter to control this behavior.\n",
      "  _warn_prf(average, modifier, msg_start, len(result))\n"
     ]
    }
   ],
   "source": [
    "logmodel_2c = LogisticRegression(penalty=\"l1\", C=0.1, solver='liblinear' )\n",
    "#Have to change solver to liblinear since it supports L1 regularization\n",
    "logmodel_2c.fit(X_train,y_train)\n",
    "predict_2c = logmodel_2c.predict(X_test)\n",
    "print(classification_report(y_test,predict_2c))"
   ]
  },
  {
   "cell_type": "code",
   "execution_count": null,
   "id": "5d4d868d",
   "metadata": {},
   "outputs": [],
   "source": [
    "Regularization, l2"
   ]
  },
  {
   "cell_type": "code",
   "execution_count": 236,
   "id": "ae907bac",
   "metadata": {},
   "outputs": [
    {
     "name": "stdout",
     "output_type": "stream",
     "text": [
      "              precision    recall  f1-score   support\n",
      "\n",
      "      Setosa       1.00      1.00      1.00        13\n",
      "  Versicolor       0.90      0.95      0.93        20\n",
      "   Virginica       0.91      0.83      0.87        12\n",
      "\n",
      "    accuracy                           0.93        45\n",
      "   macro avg       0.94      0.93      0.93        45\n",
      "weighted avg       0.93      0.93      0.93        45\n",
      "\n"
     ]
    }
   ],
   "source": [
    "logmodel_2c = LogisticRegression(penalty=\"l2\", C=100)\n",
    "logmodel_2c.fit(X_train,y_train)\n",
    "predict_2c = logmodel_2c.predict(X_test)\n",
    "print(classification_report(y_test,predict_2c))"
   ]
  },
  {
   "cell_type": "code",
   "execution_count": 237,
   "id": "556fd636",
   "metadata": {},
   "outputs": [
    {
     "name": "stdout",
     "output_type": "stream",
     "text": [
      "              precision    recall  f1-score   support\n",
      "\n",
      "      Setosa       0.93      1.00      0.96        13\n",
      "  Versicolor       1.00      0.60      0.75        20\n",
      "   Virginica       0.63      1.00      0.77        12\n",
      "\n",
      "    accuracy                           0.82        45\n",
      "   macro avg       0.85      0.87      0.83        45\n",
      "weighted avg       0.88      0.82      0.82        45\n",
      "\n"
     ]
    }
   ],
   "source": [
    "logmodel_2c = LogisticRegression(penalty=\"l2\", C=0.1)\n",
    "logmodel_2c.fit(X_train,y_train)\n",
    "predict_2c = logmodel_2c.predict(X_test)\n",
    "print(classification_report(y_test,predict_2c))"
   ]
  },
  {
   "cell_type": "markdown",
   "id": "b077d6bc",
   "metadata": {},
   "source": [
    "### Sepal width petal length"
   ]
  },
  {
   "cell_type": "code",
   "execution_count": 239,
   "id": "5e57409a",
   "metadata": {},
   "outputs": [
    {
     "data": {
      "text/html": [
       "<div>\n",
       "<style scoped>\n",
       "    .dataframe tbody tr th:only-of-type {\n",
       "        vertical-align: middle;\n",
       "    }\n",
       "\n",
       "    .dataframe tbody tr th {\n",
       "        vertical-align: top;\n",
       "    }\n",
       "\n",
       "    .dataframe thead th {\n",
       "        text-align: right;\n",
       "    }\n",
       "</style>\n",
       "<table border=\"1\" class=\"dataframe\">\n",
       "  <thead>\n",
       "    <tr style=\"text-align: right;\">\n",
       "      <th></th>\n",
       "      <th>sepal.width</th>\n",
       "      <th>petal.length</th>\n",
       "      <th>variety</th>\n",
       "    </tr>\n",
       "  </thead>\n",
       "  <tbody>\n",
       "    <tr>\n",
       "      <th>0</th>\n",
       "      <td>3.5</td>\n",
       "      <td>1.4</td>\n",
       "      <td>Setosa</td>\n",
       "    </tr>\n",
       "    <tr>\n",
       "      <th>1</th>\n",
       "      <td>3.0</td>\n",
       "      <td>1.4</td>\n",
       "      <td>Setosa</td>\n",
       "    </tr>\n",
       "    <tr>\n",
       "      <th>2</th>\n",
       "      <td>3.2</td>\n",
       "      <td>1.3</td>\n",
       "      <td>Setosa</td>\n",
       "    </tr>\n",
       "    <tr>\n",
       "      <th>3</th>\n",
       "      <td>3.1</td>\n",
       "      <td>1.5</td>\n",
       "      <td>Setosa</td>\n",
       "    </tr>\n",
       "    <tr>\n",
       "      <th>4</th>\n",
       "      <td>3.6</td>\n",
       "      <td>1.4</td>\n",
       "      <td>Setosa</td>\n",
       "    </tr>\n",
       "  </tbody>\n",
       "</table>\n",
       "</div>"
      ],
      "text/plain": [
       "   sepal.width  petal.length variety\n",
       "0          3.5           1.4  Setosa\n",
       "1          3.0           1.4  Setosa\n",
       "2          3.2           1.3  Setosa\n",
       "3          3.1           1.5  Setosa\n",
       "4          3.6           1.4  Setosa"
      ]
     },
     "execution_count": 239,
     "metadata": {},
     "output_type": "execute_result"
    }
   ],
   "source": [
    "iris2d=iris.drop(['sepal.length','petal.width'], axis=1) #Leave out two categories not being used\n",
    "X2d=iris2d.drop('variety', axis=1) #Eliminate target and feature not being used\n",
    "y2d=iris2d['variety']\n",
    "iris2d.head()"
   ]
  },
  {
   "cell_type": "code",
   "execution_count": 240,
   "id": "646b28f6",
   "metadata": {},
   "outputs": [
    {
     "data": {
      "text/plain": [
       "LogisticRegression()"
      ]
     },
     "execution_count": 240,
     "metadata": {},
     "output_type": "execute_result"
    }
   ],
   "source": [
    "#using 30% of data in iris as the test size \n",
    "X_train, X_test, y_train, y_test = train_test_split(X2d, \n",
    "                                                    y2d, test_size=0.30, random_state=101)\n",
    "\n",
    "logmodel_2d= LogisticRegression()#Create instance of logistic regression model\n",
    "logmodel_2d.fit(X_train,y_train) #fit training to model"
   ]
  },
  {
   "cell_type": "code",
   "execution_count": 241,
   "id": "580f135e",
   "metadata": {},
   "outputs": [
    {
     "name": "stdout",
     "output_type": "stream",
     "text": [
      "Using sepal width, petal length yields to 98% classification success:\n",
      "              precision    recall  f1-score   support\n",
      "\n",
      "      Setosa       1.00      1.00      1.00        13\n",
      "  Versicolor       1.00      0.95      0.97        20\n",
      "   Virginica       0.92      1.00      0.96        12\n",
      "\n",
      "    accuracy                           0.98        45\n",
      "   macro avg       0.97      0.98      0.98        45\n",
      "weighted avg       0.98      0.98      0.98        45\n",
      "\n"
     ]
    }
   ],
   "source": [
    "predict_2d = logmodel_2d.predict(X_test)  #store model predictions in a variable \n",
    "print('Using sepal width, petal length yields to 98% classification success:')\n",
    "print(classification_report(y_test,predict_2d))\n"
   ]
  },
  {
   "cell_type": "code",
   "execution_count": null,
   "id": "dcf669a8",
   "metadata": {},
   "outputs": [],
   "source": [
    "Regularization, L1"
   ]
  },
  {
   "cell_type": "code",
   "execution_count": 246,
   "id": "c6ee4aa4",
   "metadata": {},
   "outputs": [
    {
     "name": "stdout",
     "output_type": "stream",
     "text": [
      "              precision    recall  f1-score   support\n",
      "\n",
      "      Setosa       1.00      1.00      1.00        13\n",
      "  Versicolor       0.00      0.00      0.00        20\n",
      "   Virginica       0.38      1.00      0.55        12\n",
      "\n",
      "    accuracy                           0.56        45\n",
      "   macro avg       0.46      0.67      0.52        45\n",
      "weighted avg       0.39      0.56      0.43        45\n",
      "\n"
     ]
    },
    {
     "name": "stderr",
     "output_type": "stream",
     "text": [
      "/Users/danielaquijano/opt/anaconda3/lib/python3.8/site-packages/sklearn/metrics/_classification.py:1245: UndefinedMetricWarning: Precision and F-score are ill-defined and being set to 0.0 in labels with no predicted samples. Use `zero_division` parameter to control this behavior.\n",
      "  _warn_prf(average, modifier, msg_start, len(result))\n",
      "/Users/danielaquijano/opt/anaconda3/lib/python3.8/site-packages/sklearn/metrics/_classification.py:1245: UndefinedMetricWarning: Precision and F-score are ill-defined and being set to 0.0 in labels with no predicted samples. Use `zero_division` parameter to control this behavior.\n",
      "  _warn_prf(average, modifier, msg_start, len(result))\n",
      "/Users/danielaquijano/opt/anaconda3/lib/python3.8/site-packages/sklearn/metrics/_classification.py:1245: UndefinedMetricWarning: Precision and F-score are ill-defined and being set to 0.0 in labels with no predicted samples. Use `zero_division` parameter to control this behavior.\n",
      "  _warn_prf(average, modifier, msg_start, len(result))\n"
     ]
    }
   ],
   "source": [
    "logmodel_2d = LogisticRegression(penalty=\"l1\", C=0.1, solver='liblinear' )\n",
    "#Have to change solver to liblinear since it supports L1 regularization\n",
    "logmodel_2d.fit(X_train,y_train)\n",
    "predict_2d = logmodel_2c.predict(X_test)\n",
    "print(classification_report(y_test,predict_2d))"
   ]
  },
  {
   "cell_type": "code",
   "execution_count": 247,
   "id": "5ff88b04",
   "metadata": {},
   "outputs": [
    {
     "name": "stdout",
     "output_type": "stream",
     "text": [
      "              precision    recall  f1-score   support\n",
      "\n",
      "      Setosa       1.00      1.00      1.00        13\n",
      "  Versicolor       0.00      0.00      0.00        20\n",
      "   Virginica       0.38      1.00      0.55        12\n",
      "\n",
      "    accuracy                           0.56        45\n",
      "   macro avg       0.46      0.67      0.52        45\n",
      "weighted avg       0.39      0.56      0.43        45\n",
      "\n"
     ]
    },
    {
     "name": "stderr",
     "output_type": "stream",
     "text": [
      "/Users/danielaquijano/opt/anaconda3/lib/python3.8/site-packages/sklearn/svm/_base.py:985: ConvergenceWarning: Liblinear failed to converge, increase the number of iterations.\n",
      "  warnings.warn(\"Liblinear failed to converge, increase \"\n",
      "/Users/danielaquijano/opt/anaconda3/lib/python3.8/site-packages/sklearn/metrics/_classification.py:1245: UndefinedMetricWarning: Precision and F-score are ill-defined and being set to 0.0 in labels with no predicted samples. Use `zero_division` parameter to control this behavior.\n",
      "  _warn_prf(average, modifier, msg_start, len(result))\n",
      "/Users/danielaquijano/opt/anaconda3/lib/python3.8/site-packages/sklearn/metrics/_classification.py:1245: UndefinedMetricWarning: Precision and F-score are ill-defined and being set to 0.0 in labels with no predicted samples. Use `zero_division` parameter to control this behavior.\n",
      "  _warn_prf(average, modifier, msg_start, len(result))\n",
      "/Users/danielaquijano/opt/anaconda3/lib/python3.8/site-packages/sklearn/metrics/_classification.py:1245: UndefinedMetricWarning: Precision and F-score are ill-defined and being set to 0.0 in labels with no predicted samples. Use `zero_division` parameter to control this behavior.\n",
      "  _warn_prf(average, modifier, msg_start, len(result))\n"
     ]
    }
   ],
   "source": [
    "logmodel_2d = LogisticRegression(penalty=\"l1\", C=100, solver='liblinear' )\n",
    "#Have to change solver to liblinear since it supports L1 regularization\n",
    "logmodel_2d.fit(X_train,y_train)\n",
    "predict_2d = logmodel_2c.predict(X_test)\n",
    "print(classification_report(y_test,predict_2d))"
   ]
  },
  {
   "cell_type": "code",
   "execution_count": null,
   "id": "1dac711e",
   "metadata": {},
   "outputs": [],
   "source": [
    "Regularization, L2"
   ]
  },
  {
   "cell_type": "code",
   "execution_count": 242,
   "id": "123dcf82",
   "metadata": {},
   "outputs": [
    {
     "name": "stdout",
     "output_type": "stream",
     "text": [
      "              precision    recall  f1-score   support\n",
      "\n",
      "      Setosa       1.00      1.00      1.00        13\n",
      "  Versicolor       1.00      0.85      0.92        20\n",
      "   Virginica       0.80      1.00      0.89        12\n",
      "\n",
      "    accuracy                           0.93        45\n",
      "   macro avg       0.93      0.95      0.94        45\n",
      "weighted avg       0.95      0.93      0.93        45\n",
      "\n"
     ]
    }
   ],
   "source": [
    "logmodel_2d = LogisticRegression(penalty=\"l2\", C=0.1)\n",
    "logmodel_2d.fit(X_train,y_train)\n",
    "predict_2d = logmodel_2d.predict(X_test)\n",
    "print(classification_report(y_test,predict_2d))"
   ]
  },
  {
   "cell_type": "code",
   "execution_count": 243,
   "id": "3944136f",
   "metadata": {},
   "outputs": [
    {
     "name": "stdout",
     "output_type": "stream",
     "text": [
      "              precision    recall  f1-score   support\n",
      "\n",
      "      Setosa       1.00      1.00      1.00        13\n",
      "  Versicolor       1.00      0.95      0.97        20\n",
      "   Virginica       0.92      1.00      0.96        12\n",
      "\n",
      "    accuracy                           0.98        45\n",
      "   macro avg       0.97      0.98      0.98        45\n",
      "weighted avg       0.98      0.98      0.98        45\n",
      "\n"
     ]
    }
   ],
   "source": [
    "logmodel_2d = LogisticRegression(penalty=\"l2\", C=100)\n",
    "logmodel_2d.fit(X_train,y_train)\n",
    "predict_2d = logmodel_2d.predict(X_test)\n",
    "print(classification_report(y_test,predict_2d))"
   ]
  },
  {
   "cell_type": "markdown",
   "id": "fcecf213",
   "metadata": {},
   "source": [
    "### Sepal width petal width "
   ]
  },
  {
   "cell_type": "code",
   "execution_count": 249,
   "id": "d98abf17",
   "metadata": {},
   "outputs": [
    {
     "data": {
      "text/html": [
       "<div>\n",
       "<style scoped>\n",
       "    .dataframe tbody tr th:only-of-type {\n",
       "        vertical-align: middle;\n",
       "    }\n",
       "\n",
       "    .dataframe tbody tr th {\n",
       "        vertical-align: top;\n",
       "    }\n",
       "\n",
       "    .dataframe thead th {\n",
       "        text-align: right;\n",
       "    }\n",
       "</style>\n",
       "<table border=\"1\" class=\"dataframe\">\n",
       "  <thead>\n",
       "    <tr style=\"text-align: right;\">\n",
       "      <th></th>\n",
       "      <th>sepal.width</th>\n",
       "      <th>petal.width</th>\n",
       "      <th>variety</th>\n",
       "    </tr>\n",
       "  </thead>\n",
       "  <tbody>\n",
       "    <tr>\n",
       "      <th>0</th>\n",
       "      <td>3.5</td>\n",
       "      <td>0.2</td>\n",
       "      <td>Setosa</td>\n",
       "    </tr>\n",
       "    <tr>\n",
       "      <th>1</th>\n",
       "      <td>3.0</td>\n",
       "      <td>0.2</td>\n",
       "      <td>Setosa</td>\n",
       "    </tr>\n",
       "    <tr>\n",
       "      <th>2</th>\n",
       "      <td>3.2</td>\n",
       "      <td>0.2</td>\n",
       "      <td>Setosa</td>\n",
       "    </tr>\n",
       "    <tr>\n",
       "      <th>3</th>\n",
       "      <td>3.1</td>\n",
       "      <td>0.2</td>\n",
       "      <td>Setosa</td>\n",
       "    </tr>\n",
       "    <tr>\n",
       "      <th>4</th>\n",
       "      <td>3.6</td>\n",
       "      <td>0.2</td>\n",
       "      <td>Setosa</td>\n",
       "    </tr>\n",
       "  </tbody>\n",
       "</table>\n",
       "</div>"
      ],
      "text/plain": [
       "   sepal.width  petal.width variety\n",
       "0          3.5          0.2  Setosa\n",
       "1          3.0          0.2  Setosa\n",
       "2          3.2          0.2  Setosa\n",
       "3          3.1          0.2  Setosa\n",
       "4          3.6          0.2  Setosa"
      ]
     },
     "execution_count": 249,
     "metadata": {},
     "output_type": "execute_result"
    }
   ],
   "source": [
    "iris2e=iris.drop(['sepal.length','petal.length'], axis=1) #Leave out two categories not being used\n",
    "X2e=iris2e.drop('variety', axis=1) #Eliminate target and feature not being used\n",
    "y2e=iris2e['variety']\n",
    "iris2e.head()"
   ]
  },
  {
   "cell_type": "code",
   "execution_count": 250,
   "id": "46c62706",
   "metadata": {},
   "outputs": [
    {
     "data": {
      "text/plain": [
       "LogisticRegression()"
      ]
     },
     "execution_count": 250,
     "metadata": {},
     "output_type": "execute_result"
    }
   ],
   "source": [
    "#using 30% of data in iris as the test size \n",
    "X_train, X_test, y_train, y_test = train_test_split(X2e, \n",
    "                                                    y2e, test_size=0.30, random_state=101)\n",
    "\n",
    "logmodel_2e= LogisticRegression()#Create instance of logistic regression model\n",
    "logmodel_2e.fit(X_train,y_train) #fit training to model"
   ]
  },
  {
   "cell_type": "code",
   "execution_count": 251,
   "id": "692f364a",
   "metadata": {},
   "outputs": [
    {
     "name": "stdout",
     "output_type": "stream",
     "text": [
      "Using sepal width, petal width yields to 94% classification success:\n",
      "              precision    recall  f1-score   support\n",
      "\n",
      "      Setosa       1.00      0.92      0.96        13\n",
      "  Versicolor       0.90      0.95      0.93        20\n",
      "   Virginica       0.92      0.92      0.92        12\n",
      "\n",
      "    accuracy                           0.93        45\n",
      "   macro avg       0.94      0.93      0.93        45\n",
      "weighted avg       0.94      0.93      0.93        45\n",
      "\n"
     ]
    }
   ],
   "source": [
    "predict_2e = logmodel_2e.predict(X_test)  #store model predictions in a variable \n",
    "print('Using sepal width, petal width yields to 94% classification success:')\n",
    "print(classification_report(y_test,predict_2e))\n"
   ]
  },
  {
   "cell_type": "markdown",
   "id": "77454367",
   "metadata": {},
   "source": [
    "Regularization, L2"
   ]
  },
  {
   "cell_type": "code",
   "execution_count": 252,
   "id": "8482716d",
   "metadata": {},
   "outputs": [
    {
     "name": "stdout",
     "output_type": "stream",
     "text": [
      "              precision    recall  f1-score   support\n",
      "\n",
      "      Setosa       1.00      1.00      1.00        13\n",
      "  Versicolor       0.90      0.90      0.90        20\n",
      "   Virginica       0.83      0.83      0.83        12\n",
      "\n",
      "    accuracy                           0.91        45\n",
      "   macro avg       0.91      0.91      0.91        45\n",
      "weighted avg       0.91      0.91      0.91        45\n",
      "\n"
     ]
    }
   ],
   "source": [
    "logmodel_2e = LogisticRegression(penalty=\"l2\", C=100)\n",
    "logmodel_2e.fit(X_train,y_train)\n",
    "predict_2e = logmodel_2e.predict(X_test)\n",
    "print(classification_report(y_test,predict_2e))"
   ]
  },
  {
   "cell_type": "code",
   "execution_count": 253,
   "id": "0dffbbec",
   "metadata": {},
   "outputs": [
    {
     "name": "stdout",
     "output_type": "stream",
     "text": [
      "              precision    recall  f1-score   support\n",
      "\n",
      "      Setosa       1.00      1.00      1.00        13\n",
      "  Versicolor       0.93      0.70      0.80        20\n",
      "   Virginica       0.65      0.92      0.76        12\n",
      "\n",
      "    accuracy                           0.84        45\n",
      "   macro avg       0.86      0.87      0.85        45\n",
      "weighted avg       0.88      0.84      0.85        45\n",
      "\n"
     ]
    }
   ],
   "source": [
    "logmodel_2e = LogisticRegression(penalty=\"l2\", C=0.1)\n",
    "logmodel_2e.fit(X_train,y_train)\n",
    "predict_2e = logmodel_2e.predict(X_test)\n",
    "print(classification_report(y_test,predict_2e))"
   ]
  },
  {
   "cell_type": "markdown",
   "id": "75aaba45",
   "metadata": {},
   "source": [
    "Regularization L1"
   ]
  },
  {
   "cell_type": "code",
   "execution_count": 254,
   "id": "3256a70d",
   "metadata": {},
   "outputs": [
    {
     "name": "stdout",
     "output_type": "stream",
     "text": [
      "              precision    recall  f1-score   support\n",
      "\n",
      "      Setosa       1.00      1.00      1.00        13\n",
      "  Versicolor       0.90      0.95      0.93        20\n",
      "   Virginica       0.91      0.83      0.87        12\n",
      "\n",
      "    accuracy                           0.93        45\n",
      "   macro avg       0.94      0.93      0.93        45\n",
      "weighted avg       0.93      0.93      0.93        45\n",
      "\n"
     ]
    }
   ],
   "source": [
    "logmodel_2e = LogisticRegression(penalty=\"l1\", C=100, solver='liblinear' )\n",
    "#Have to change solver to liblinear since it supports L1 regularization\n",
    "logmodel_2e.fit(X_train,y_train)\n",
    "predict_2e = logmodel_2e.predict(X_test)\n",
    "print(classification_report(y_test,predict_2e))"
   ]
  },
  {
   "cell_type": "code",
   "execution_count": 256,
   "id": "592f5083",
   "metadata": {},
   "outputs": [
    {
     "name": "stdout",
     "output_type": "stream",
     "text": [
      "              precision    recall  f1-score   support\n",
      "\n",
      "      Setosa       1.00      1.00      1.00        13\n",
      "  Versicolor       0.00      0.00      0.00        20\n",
      "   Virginica       0.38      1.00      0.55        12\n",
      "\n",
      "    accuracy                           0.56        45\n",
      "   macro avg       0.46      0.67      0.52        45\n",
      "weighted avg       0.39      0.56      0.43        45\n",
      "\n"
     ]
    },
    {
     "name": "stderr",
     "output_type": "stream",
     "text": [
      "/Users/danielaquijano/opt/anaconda3/lib/python3.8/site-packages/sklearn/metrics/_classification.py:1245: UndefinedMetricWarning: Precision and F-score are ill-defined and being set to 0.0 in labels with no predicted samples. Use `zero_division` parameter to control this behavior.\n",
      "  _warn_prf(average, modifier, msg_start, len(result))\n",
      "/Users/danielaquijano/opt/anaconda3/lib/python3.8/site-packages/sklearn/metrics/_classification.py:1245: UndefinedMetricWarning: Precision and F-score are ill-defined and being set to 0.0 in labels with no predicted samples. Use `zero_division` parameter to control this behavior.\n",
      "  _warn_prf(average, modifier, msg_start, len(result))\n",
      "/Users/danielaquijano/opt/anaconda3/lib/python3.8/site-packages/sklearn/metrics/_classification.py:1245: UndefinedMetricWarning: Precision and F-score are ill-defined and being set to 0.0 in labels with no predicted samples. Use `zero_division` parameter to control this behavior.\n",
      "  _warn_prf(average, modifier, msg_start, len(result))\n"
     ]
    }
   ],
   "source": [
    "logmodel_2e = LogisticRegression(penalty=\"l1\", C=0.1, solver='liblinear' )\n",
    "#Have to change solver to liblinear since it supports L1 regularization\n",
    "logmodel_2e.fit(X_train,y_train)\n",
    "predict_2e = logmodel_2e.predict(X_test)\n",
    "print(classification_report(y_test,predict_2e))"
   ]
  },
  {
   "cell_type": "markdown",
   "id": "544696d1",
   "metadata": {},
   "source": [
    "### Petal length, petal width "
   ]
  },
  {
   "cell_type": "code",
   "execution_count": 260,
   "id": "8232f970",
   "metadata": {},
   "outputs": [
    {
     "data": {
      "text/html": [
       "<div>\n",
       "<style scoped>\n",
       "    .dataframe tbody tr th:only-of-type {\n",
       "        vertical-align: middle;\n",
       "    }\n",
       "\n",
       "    .dataframe tbody tr th {\n",
       "        vertical-align: top;\n",
       "    }\n",
       "\n",
       "    .dataframe thead th {\n",
       "        text-align: right;\n",
       "    }\n",
       "</style>\n",
       "<table border=\"1\" class=\"dataframe\">\n",
       "  <thead>\n",
       "    <tr style=\"text-align: right;\">\n",
       "      <th></th>\n",
       "      <th>petal.length</th>\n",
       "      <th>petal.width</th>\n",
       "      <th>variety</th>\n",
       "    </tr>\n",
       "  </thead>\n",
       "  <tbody>\n",
       "    <tr>\n",
       "      <th>0</th>\n",
       "      <td>1.4</td>\n",
       "      <td>0.2</td>\n",
       "      <td>Setosa</td>\n",
       "    </tr>\n",
       "    <tr>\n",
       "      <th>1</th>\n",
       "      <td>1.4</td>\n",
       "      <td>0.2</td>\n",
       "      <td>Setosa</td>\n",
       "    </tr>\n",
       "    <tr>\n",
       "      <th>2</th>\n",
       "      <td>1.3</td>\n",
       "      <td>0.2</td>\n",
       "      <td>Setosa</td>\n",
       "    </tr>\n",
       "    <tr>\n",
       "      <th>3</th>\n",
       "      <td>1.5</td>\n",
       "      <td>0.2</td>\n",
       "      <td>Setosa</td>\n",
       "    </tr>\n",
       "    <tr>\n",
       "      <th>4</th>\n",
       "      <td>1.4</td>\n",
       "      <td>0.2</td>\n",
       "      <td>Setosa</td>\n",
       "    </tr>\n",
       "  </tbody>\n",
       "</table>\n",
       "</div>"
      ],
      "text/plain": [
       "   petal.length  petal.width variety\n",
       "0           1.4          0.2  Setosa\n",
       "1           1.4          0.2  Setosa\n",
       "2           1.3          0.2  Setosa\n",
       "3           1.5          0.2  Setosa\n",
       "4           1.4          0.2  Setosa"
      ]
     },
     "execution_count": 260,
     "metadata": {},
     "output_type": "execute_result"
    }
   ],
   "source": [
    "iris2f=iris.drop(['sepal.length','sepal.width'], axis=1) #Leave out two categories not being used\n",
    "X2f=iris2f.drop('variety', axis=1) #Eliminate target and feature not being used\n",
    "y2f=iris2f['variety']\n",
    "iris2f.head()"
   ]
  },
  {
   "cell_type": "code",
   "execution_count": 261,
   "id": "8dcc90ab",
   "metadata": {},
   "outputs": [
    {
     "data": {
      "text/plain": [
       "LogisticRegression()"
      ]
     },
     "execution_count": 261,
     "metadata": {},
     "output_type": "execute_result"
    }
   ],
   "source": [
    "#using 30% of data in iris as the test size \n",
    "X_train, X_test, y_train, y_test = train_test_split(X2f, \n",
    "                                                    y2f, test_size=0.30, random_state=101)\n",
    "\n",
    "logmodel_2f= LogisticRegression()#Create instance of logistic regression model\n",
    "logmodel_2f.fit(X_train,y_train) #fit training to model"
   ]
  },
  {
   "cell_type": "code",
   "execution_count": 262,
   "id": "251bd139",
   "metadata": {},
   "outputs": [
    {
     "name": "stdout",
     "output_type": "stream",
     "text": [
      "Using petal length, petal width yields to 98% classification success:\n",
      "              precision    recall  f1-score   support\n",
      "\n",
      "      Setosa       1.00      1.00      1.00        13\n",
      "  Versicolor       1.00      0.95      0.97        20\n",
      "   Virginica       0.92      1.00      0.96        12\n",
      "\n",
      "    accuracy                           0.98        45\n",
      "   macro avg       0.97      0.98      0.98        45\n",
      "weighted avg       0.98      0.98      0.98        45\n",
      "\n"
     ]
    }
   ],
   "source": [
    "predict_2f = logmodel_2f.predict(X_test)  #store model predictions in a variable \n",
    "print('Using petal length, petal width yields to 98% classification success:')\n",
    "print(classification_report(y_test,predict_2f))"
   ]
  },
  {
   "cell_type": "markdown",
   "id": "6fe08a13",
   "metadata": {},
   "source": [
    "Regularization, L1"
   ]
  },
  {
   "cell_type": "code",
   "execution_count": 263,
   "id": "f7fde46c",
   "metadata": {},
   "outputs": [
    {
     "name": "stdout",
     "output_type": "stream",
     "text": [
      "              precision    recall  f1-score   support\n",
      "\n",
      "      Setosa       1.00      1.00      1.00        13\n",
      "  Versicolor       0.00      0.00      0.00        20\n",
      "   Virginica       0.38      1.00      0.55        12\n",
      "\n",
      "    accuracy                           0.56        45\n",
      "   macro avg       0.46      0.67      0.52        45\n",
      "weighted avg       0.39      0.56      0.43        45\n",
      "\n"
     ]
    },
    {
     "name": "stderr",
     "output_type": "stream",
     "text": [
      "/Users/danielaquijano/opt/anaconda3/lib/python3.8/site-packages/sklearn/metrics/_classification.py:1245: UndefinedMetricWarning: Precision and F-score are ill-defined and being set to 0.0 in labels with no predicted samples. Use `zero_division` parameter to control this behavior.\n",
      "  _warn_prf(average, modifier, msg_start, len(result))\n",
      "/Users/danielaquijano/opt/anaconda3/lib/python3.8/site-packages/sklearn/metrics/_classification.py:1245: UndefinedMetricWarning: Precision and F-score are ill-defined and being set to 0.0 in labels with no predicted samples. Use `zero_division` parameter to control this behavior.\n",
      "  _warn_prf(average, modifier, msg_start, len(result))\n",
      "/Users/danielaquijano/opt/anaconda3/lib/python3.8/site-packages/sklearn/metrics/_classification.py:1245: UndefinedMetricWarning: Precision and F-score are ill-defined and being set to 0.0 in labels with no predicted samples. Use `zero_division` parameter to control this behavior.\n",
      "  _warn_prf(average, modifier, msg_start, len(result))\n"
     ]
    }
   ],
   "source": [
    "logmodel_2f = LogisticRegression(penalty=\"l1\", C=0.1, solver='liblinear' )\n",
    "#Have to change solver to liblinear since it supports L1 regularization\n",
    "logmodel_2f.fit(X_train,y_train)\n",
    "predict_2f = logmodel_2f.predict(X_test)\n",
    "print(classification_report(y_test,predict_2f))"
   ]
  },
  {
   "cell_type": "code",
   "execution_count": 264,
   "id": "c111ac56",
   "metadata": {},
   "outputs": [
    {
     "name": "stdout",
     "output_type": "stream",
     "text": [
      "              precision    recall  f1-score   support\n",
      "\n",
      "      Setosa       1.00      1.00      1.00        13\n",
      "  Versicolor       0.95      0.95      0.95        20\n",
      "   Virginica       0.92      0.92      0.92        12\n",
      "\n",
      "    accuracy                           0.96        45\n",
      "   macro avg       0.96      0.96      0.96        45\n",
      "weighted avg       0.96      0.96      0.96        45\n",
      "\n"
     ]
    },
    {
     "name": "stderr",
     "output_type": "stream",
     "text": [
      "/Users/danielaquijano/opt/anaconda3/lib/python3.8/site-packages/sklearn/svm/_base.py:985: ConvergenceWarning: Liblinear failed to converge, increase the number of iterations.\n",
      "  warnings.warn(\"Liblinear failed to converge, increase \"\n"
     ]
    }
   ],
   "source": [
    "logmodel_2f = LogisticRegression(penalty=\"l1\", C=100, solver='liblinear' )\n",
    "#Have to change solver to liblinear since it supports L1 regularization\n",
    "logmodel_2f.fit(X_train,y_train)\n",
    "predict_2f = logmodel_2f.predict(X_test)\n",
    "print(classification_report(y_test,predict_2f))"
   ]
  },
  {
   "cell_type": "markdown",
   "id": "ec65955a",
   "metadata": {},
   "source": [
    "Regualrization L2"
   ]
  },
  {
   "cell_type": "code",
   "execution_count": 265,
   "id": "24bc3b54",
   "metadata": {},
   "outputs": [
    {
     "name": "stdout",
     "output_type": "stream",
     "text": [
      "              precision    recall  f1-score   support\n",
      "\n",
      "      Setosa       1.00      1.00      1.00        13\n",
      "  Versicolor       1.00      0.95      0.97        20\n",
      "   Virginica       0.92      1.00      0.96        12\n",
      "\n",
      "    accuracy                           0.98        45\n",
      "   macro avg       0.97      0.98      0.98        45\n",
      "weighted avg       0.98      0.98      0.98        45\n",
      "\n"
     ]
    }
   ],
   "source": [
    "logmodel_2f = LogisticRegression(penalty=\"l2\", C=0.1)\n",
    "logmodel_2f.fit(X_train,y_train)\n",
    "predict_2f = logmodel_2f.predict(X_test)\n",
    "print(classification_report(y_test,predict_2f))"
   ]
  },
  {
   "cell_type": "code",
   "execution_count": 266,
   "id": "3822276e",
   "metadata": {},
   "outputs": [
    {
     "name": "stdout",
     "output_type": "stream",
     "text": [
      "              precision    recall  f1-score   support\n",
      "\n",
      "      Setosa       1.00      1.00      1.00        13\n",
      "  Versicolor       1.00      0.95      0.97        20\n",
      "   Virginica       0.92      1.00      0.96        12\n",
      "\n",
      "    accuracy                           0.98        45\n",
      "   macro avg       0.97      0.98      0.98        45\n",
      "weighted avg       0.98      0.98      0.98        45\n",
      "\n"
     ]
    }
   ],
   "source": [
    "logmodel_2f = LogisticRegression(penalty=\"l2\", C=100)\n",
    "logmodel_2f.fit(X_train,y_train)\n",
    "predict_2f = logmodel_2f.predict(X_test)\n",
    "print(classification_report(y_test,predict_2f))"
   ]
  },
  {
   "cell_type": "markdown",
   "id": "090a2914",
   "metadata": {},
   "source": [
    "Text summary of findings:\n",
    "\n",
    "All: 98\n",
    "\n",
    "Sepal width, petal length, petal width 98\n",
    "Sepal length, petal length, petal width 96\n",
    "Sepal length, sepal width, petal width 98\n",
    "Sepal length, sepal width petal length 98\n",
    "\n",
    "sepal length, sepal width 79\n",
    "sepal length, petal length 98\n",
    "sepal length, petal width 96\n",
    "sepal width, petal length 98\n",
    "sepal width, petal width 94\n",
    "petal length, petal width 98"
   ]
  },
  {
   "cell_type": "markdown",
   "id": "2fdf1f7b",
   "metadata": {},
   "source": [
    "## Summarizing Results"
   ]
  },
  {
   "cell_type": "code",
   "execution_count": 279,
   "id": "afc6ffc0",
   "metadata": {},
   "outputs": [
    {
     "name": "stdout",
     "output_type": "stream",
     "text": [
      "                         Groups  Weighed Prediction Accuracy  L1_100  L1_01  \\\n",
      "0                All categories                           98      96     39   \n",
      "1   S length, S width, P length                           98      96     39   \n",
      "2    S width, P length, P width                           96      96     39   \n",
      "3   S length, P length, P width                           98      96     39   \n",
      "4    S length, S width, P width                           98      96     39   \n",
      "5    S length, S width P length                           79      96     39   \n",
      "6             S length, S width                           98      96     39   \n",
      "7            S length, P length                           96      39     39   \n",
      "8             S length, P width                           98      93     39   \n",
      "9             S width, P length                           94      96     39   \n",
      "10             S width, P width                           98      96     39   \n",
      "\n",
      "    L2_100  L2_01  \n",
      "0       98     95  \n",
      "1       98     95  \n",
      "2       98     95  \n",
      "3       98     95  \n",
      "4       98     95  \n",
      "5       98     95  \n",
      "6       93     88  \n",
      "7       98     95  \n",
      "8       91     88  \n",
      "9       98     98  \n",
      "10      98     98  \n"
     ]
    }
   ],
   "source": [
    "#Make a list of the prediction accuracy for each model\n",
    "#Make a list of strings to name the rows in a table \n",
    "rownames=['All categories','S length, S width, P length', 'S width, P length, P width','S length, P length, P width','S length, S width, P width','S length, S width P length','S length, S width','S length, P length','S length, P width','S width, P length','S width, P width','P length, P width']\n",
    "prectiction_acc=[98,98,96,98,98,79,98,96,98,94,98]\n",
    "L1_100=[96,96,96,96,96,96,96,39,93,96,96]\n",
    "L1_01=[39,39,39,39,39,39,39,39,39,39,39]\n",
    "L2_100=[98,98,98,98,98,98,93,98,91,98,98]\n",
    "L2_01=[95,95,95,95,95,95,88,95,88,98,98]\n",
    "\n",
    "#Make a table to summarize findings\n",
    "zipped = list(zip(rownames, prectiction_acc,L1_100,L1_01,L2_100,L2_01))\n",
    "df = pd.DataFrame(zipped, columns=['Groups', 'Weighed Prediction Accuracy','L1_100','L1_01','L2_100','L2_01'])\n",
    "print(df)"
   ]
  },
  {
   "cell_type": "code",
   "execution_count": 175,
   "id": "c34e63a9",
   "metadata": {},
   "outputs": [
    {
     "data": {
      "text/plain": [
       "<AxesSubplot:xlabel='Groups', ylabel='Weighed Prediction Accuracy'>"
      ]
     },
     "execution_count": 175,
     "metadata": {},
     "output_type": "execute_result"
    },
    {
     "data": {
      "image/png": "[encoded data removed]",
      "text/plain": [
       "<Figure size 432x288 with 1 Axes>"
      ]
     },
     "metadata": {
      "needs_background": "light"
     },
     "output_type": "display_data"
    }
   ],
   "source": [
    "#Make a barplot of each of the groups and corresponding prediction accuracy\n",
    "plot = sns.barplot(x='Groups', y=\"Weighed Prediction Accuracy\", data=df)\n",
    "plot.set_xticklabels(plot.get_xticklabels(), rotation=90)\n",
    "plot"
   ]
  },
  {
   "cell_type": "markdown",
   "id": "aa0ea928",
   "metadata": {},
   "source": [
    "Discuss your findings. Does using more dimensions help when trying to classify the data in this dataset? How important is regularization in these cases?\n",
    "As demonstrated in the pair plot in kernel 23, the features that are the Least clustered are sepal width and sepal length. I expected the model with these features alone to have a lower performance since there may be a higher rate of misclassification. Regularization did not raise the preditction accuracy above the already seen 98%. The l1 regualrization did not help the model prediction accuracy as much as the l2 regularization. L1 regularization estimates values around the median of the data whereas L2 regualrization estimates the values arround the mean of the data. The mean of the data is more reliant on extreme or outlier valeus and could be a reason why L1 regularization had a detrimental effect on the data since it did not account for more extreme values. The dataset that performed the worst in general without any regularization correction was the group with Sepal length, sepal width and petal length. This is not undxpected since it was already known that sepal length and sepal width are not linearly separable, the third category, petal width marginally contributed to the model's aboility to distinguish between flower species. \n",
    "The regularization term, C regulates against overfitting the data. The higher the value of C, the higher the weight that is given to the training data. The lower the value of C the higher the value given to test data. In this case a lower value of C led to worse prediction outcomes for both L1 and L2 regularization since test data may have had more extreme instances that the model may not have seen therefoer leading to high penalties for these values that didnt fit what the model had learned. "
   ]
  }
 ],
 "metadata": {
  "kernelspec": {
   "display_name": "Python 3 (ipykernel)",
   "language": "python",
   "name": "python3"
  },
  "language_info": {
   "codemirror_mode": {
    "name": "ipython",
    "version": 3
   },
   "file_extension": ".py",
   "mimetype": "text/x-python",
   "name": "python",
   "nbconvert_exporter": "python",
   "pygments_lexer": "ipython3",
   "version": "3.8.8"
  }
 },
 "nbformat": 4,
 "nbformat_minor": 5
}
